{
 "cells": [
  {
   "cell_type": "markdown",
   "metadata": {
    "deletable": true,
    "editable": true,
    "id": "9MdCzENLaYHB"
   },
   "source": [
    "# Notebook for testing the PyTorch setup\n",
    "\n",
    "This notebook is for testing the [PyTorch](http://pytorch.org/) setup.  Below is a set of required imports.  \n",
    "\n",
    "Run the cell, and no error messages should appear."
   ]
  },
  {
   "cell_type": "code",
   "execution_count": null,
   "metadata": {
    "colab": {
     "base_uri": "https://localhost:8080/"
    },
    "collapsed": false,
    "deletable": true,
    "editable": true,
    "id": "dtp-8qdZaYHC",
    "jupyter": {
     "outputs_hidden": false
    },
    "outputId": "ea3a895b-dd49-4c9a-fafd-f499d2884aaa"
   },
   "outputs": [],
   "source": [
    "%matplotlib inline\n",
    "\n",
    "import torch\n",
    "import torch.nn as nn\n",
    "import torchvision\n",
    "from torch.utils.data import DataLoader\n",
    "from torchvision import datasets\n",
    "import torchvision.transforms as transforms\n",
    "\n",
    "from torchtext import datasets\n",
    "import torchtext.transforms as T\n",
    "from torchtext.data.utils import get_tokenizer\n",
    "from torchtext.vocab import build_vocab_from_iterator\n",
    "\n",
    "from packaging.version import Version as LV\n",
    "from tqdm import tqdm\n",
    "\n",
    "import numpy as np\n",
    "import matplotlib.pyplot as plt\n",
    "import seaborn as sns\n",
    "sns.set()\n",
    "\n",
    "print('Using PyTorch version:', torch.__version__)\n",
    "assert(LV(torch.__version__) >= LV(\"2.0\"))"
   ]
  },
  {
   "cell_type": "markdown",
   "metadata": {
    "id": "YBmpisY1aYHD"
   },
   "source": [
    "Let's check if we have GPU available."
   ]
  },
  {
   "cell_type": "code",
   "execution_count": null,
   "metadata": {
    "colab": {
     "base_uri": "https://localhost:8080/"
    },
    "deletable": true,
    "editable": true,
    "id": "Cj8D3o47aYHD",
    "outputId": "3c66e63b-7fbf-4bcb-d4b8-94637622dc07"
   },
   "outputs": [],
   "source": [
    "if torch.cuda.is_available():\n",
    "    print('Using GPU, device name:', torch.cuda.get_device_name(0))\n",
    "    device = torch.device('cuda')\n",
    "else:\n",
    "    print('No GPU found, using CPU instead.')\n",
    "    device = torch.device('cpu')"
   ]
  },
  {
   "cell_type": "markdown",
   "metadata": {
    "id": "EE8lDbk_aYHD"
   },
   "source": [
    "## Tensors in PyTorch\n",
    "\n",
    "Tensors are data structures that contain vectors, matrices or higher-dimensional arrays. They are similar to NumPy's ndarrays, except that PyTorch tensors can also run on GPUs and other hardware accelerators. Also check the [PyTorch Tensors tutorial](https://pytorch.org/tutorials/beginner/basics/tensorqs_tutorial.html).\n",
    "\n",
    "Let's create some tensors and investigate their shapes and data types."
   ]
  },
  {
   "cell_type": "code",
   "execution_count": null,
   "metadata": {
    "colab": {
     "base_uri": "https://localhost:8080/"
    },
    "id": "Eyigy-q8aYHE",
    "outputId": "cd96e44d-7723-4920-fda3-1b13df3b1c95"
   },
   "outputs": [],
   "source": [
    "x = torch.ones(3, 4)\n",
    "print(type(x))"
   ]
  },
  {
   "cell_type": "code",
   "execution_count": null,
   "metadata": {
    "colab": {
     "base_uri": "https://localhost:8080/"
    },
    "id": "cljPEBEHaYHE",
    "outputId": "a9b29b31-f539-44e8-b1d7-6f70d7d1ec2d"
   },
   "outputs": [],
   "source": [
    "print(\"x.shape =\",x.shape)\n",
    "print(\"x.dtype =\", x.dtype)\n",
    "print(\"x =\", x)"
   ]
  },
  {
   "cell_type": "code",
   "execution_count": null,
   "metadata": {
    "colab": {
     "base_uri": "https://localhost:8080/"
    },
    "id": "lXnWT3YoaYHE",
    "outputId": "a21b657d-92a7-4373-d057-c8d2956fbead"
   },
   "outputs": [],
   "source": [
    "data = [[1, 2, 3],[4, 5, 6]]\n",
    "y = torch.tensor(data, dtype=torch.float)\n",
    "\n",
    "print(\"y.shape =\", y.shape)\n",
    "print(\"y.dtype =\", y.dtype)\n",
    "print(\"y =\", y)"
   ]
  },
  {
   "cell_type": "markdown",
   "metadata": {
    "id": "m9ZLEwVvaYHE"
   },
   "source": [
    "### Operations on tensors\n",
    "\n",
    "There are a lot of built-in [operations that can be run on tensors](https://pytorch.org/docs/stable/torch.html). Let's try matrix multiplication:"
   ]
  },
  {
   "cell_type": "code",
   "execution_count": null,
   "metadata": {
    "colab": {
     "base_uri": "https://localhost:8080/"
    },
    "id": "h2Fw7T16aYHE",
    "outputId": "4443a59a-3a78-4dd1-df91-573cbd9e3eaa"
   },
   "outputs": [],
   "source": [
    "# This computes the matrix product y x\n",
    "z = y.matmul(x)\n",
    "\n",
    "print(\"z.shape =\", z.shape)\n",
    "print(\"z.dtype =\", z.dtype)\n",
    "print(\"z =\", z)"
   ]
  },
  {
   "cell_type": "markdown",
   "metadata": {
    "id": "jihHuUKTaYHE"
   },
   "source": [
    "### Devices\n",
    "\n",
    "We mentioned that PyTorch tensors can also be used on GPUs. We can check what device our tensors is on with `x.device`, we can move it to another device with `x.to(device)` where `device` can be defined dynamically based on if we have GPU available or not. We already did this above with code similar to this:\n",
    "\n",
    "```python\n",
    "if torch.cuda.is_available():\n",
    "    device = torch.device('cuda')\n",
    "else:\n",
    "    device = torch.device('cpu')\n",
    "```\n",
    "\n",
    "If we don't have a GPU the tensor will just stay on the CPU."
   ]
  },
  {
   "cell_type": "code",
   "execution_count": null,
   "metadata": {
    "id": "XHCwh563bysO"
   },
   "outputs": [],
   "source": [
    "if not torch.cuda.is_available():\n",
    "    device = torch.device('cuda')\n",
    "else:\n",
    "    device = torch.device('cpu')"
   ]
  },
  {
   "cell_type": "code",
   "execution_count": null,
   "metadata": {
    "colab": {
     "base_uri": "https://localhost:8080/"
    },
    "id": "0YZtSIfFaYHE",
    "outputId": "abe99e2a-49ca-40cb-f3e6-56f657d5e627"
   },
   "outputs": [],
   "source": [
    "print(\"(before) x.device =\", x.device)\n",
    "x = x.to(device)\n",
    "print(\"(after) x.device =\", x.device)"
   ]
  },
  {
   "cell_type": "markdown",
   "metadata": {
    "id": "SBya-_FQaYHF"
   },
   "source": [
    "If our tensors are now on the GPU, the matrix multiplication will also take place on the GPU and be much faster (of course not something we would notice in this trivial example)."
   ]
  },
  {
   "cell_type": "code",
   "execution_count": null,
   "metadata": {
    "id": "KebEzP4XaYHF"
   },
   "outputs": [],
   "source": [
    "y = y.to(device)\n",
    "z = y.matmul(x)"
   ]
  },
  {
   "cell_type": "code",
   "execution_count": null,
   "metadata": {
    "colab": {
     "base_uri": "https://localhost:8080/"
    },
    "id": "9ujlVVoFaYHF",
    "outputId": "4350d101-53e7-421f-b275-6913bd7e731d"
   },
   "outputs": [],
   "source": [
    "print(\"z.device =\", z.device)\n",
    "print(\"z =\", z)"
   ]
  },
  {
   "cell_type": "code",
   "execution_count": null,
   "metadata": {
    "id": "h9xp-_PqaYHF"
   },
   "outputs": [],
   "source": []
  }
 ],
 "metadata": {
  "accelerator": "GPU",
  "colab": {
   "gpuType": "T4",
   "provenance": []
  },
  "kernelspec": {
   "display_name": "Python 3 (ipykernel)",
   "language": "python",
   "name": "python3"
  },
  "language_info": {
   "codemirror_mode": {
    "name": "ipython",
    "version": 3
   },
   "file_extension": ".py",
   "mimetype": "text/x-python",
   "name": "python",
   "nbconvert_exporter": "python",
   "pygments_lexer": "ipython3",
   "version": "3.9.18"
  }
 },
 "nbformat": 4,
 "nbformat_minor": 4
}
