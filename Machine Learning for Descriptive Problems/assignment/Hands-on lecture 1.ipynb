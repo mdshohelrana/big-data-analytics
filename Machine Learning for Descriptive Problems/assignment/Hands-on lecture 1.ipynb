{
 "cells": [
  {
   "cell_type": "markdown",
   "metadata": {},
   "source": [
    "# Hands-on session 1"
   ]
  },
  {
   "cell_type": "markdown",
   "metadata": {},
   "source": [
    "# Example\n",
    "\n",
    "NSF Research Award Abstracts 1990-2003 Data Set (https://archive.ics.uci.edu/ml/datasets/NSF+Research+Award+Abstracts+1990-2003).\n"
   ]
  },
  {
   "cell_type": "code",
   "execution_count": 455,
   "metadata": {},
   "outputs": [],
   "source": [
    "import numpy\n",
    "import os\n",
    "import re\n",
    "import binascii\n",
    "from time import time\n",
    "\n",
    "def get_fnames():\n",
    "    \"\"\"Read all text files in a folder.\n",
    "    \"\"\"\n",
    "    fnames = []\n",
    "    for root,_,files in os.walk(\"../awd_1990_00\"):\n",
    "        for fname in files:\n",
    "            if fname[-4:] == \".txt\":\n",
    "                fnames.append(os.path.join(root, fname))\n",
    "    return fnames"
   ]
  },
  {
   "cell_type": "code",
   "execution_count": 456,
   "metadata": {},
   "outputs": [
    {
     "name": "stdout",
     "output_type": "stream",
     "text": [
      "number of different files: 51\n"
     ]
    }
   ],
   "source": [
    "print(\"number of different files: {}\".format(len(get_fnames())))"
   ]
  },
  {
   "cell_type": "code",
   "execution_count": 457,
   "metadata": {},
   "outputs": [
    {
     "name": "stdout",
     "output_type": "stream",
     "text": [
      "../awd_1990_00/a9000048.txt  The Scripps Institute of Oceanography will operate four research vessels: R/V MELVILLE, a 245' general oceanographic vessel constructed by the Navy in 1969; R/V THOMAS WASHINGTON, a 208' research vessel constructed by the Navy in 1965; R/V NEW HORIZON, a 170' research vessel constructed by the University of California in 1978; and R/V ROBERT GORDON SPROUL, a 125' vessel built in 1981 and subsequently converted for research purposes. These vessels are part of a fleet used by the National Science Foundation to support oceanographic research projects. Most oceanographic research projects require highly specialized equipment and extensive support from a ship's crew members. An increasing number of research projects require equipment that must be permanently installed on a ship and for which the ship must be specifically designed. Such equipment also requires highly trained crew members for maintenance and operation. These vessels do not operate in the same manner as general cargo or fishing vessels, and therefore, NSF supports the operation of a variety of vessels specifically dedicated to oceanographic research. These vessels are operated by universities and research institutions around the country. The R/V's T.WASHINGTON and MELVILLE operate worldwide, while the R/V NEW HORIZON operates primarily in the northeastern Pacific. The R/V SPROUL operates primarily in the coastal waters of California.\n"
     ]
    }
   ],
   "source": [
    "# just open one file and read its abstract\n",
    "\n",
    "def read_file(fname):\n",
    "    with open(fname, 'r') as f:\n",
    "        # skip all lines until abstract\n",
    "        for line in f:\n",
    "            if \"Abstract    :\" in line:\n",
    "                break\n",
    "\n",
    "        # get abstract as a single string\n",
    "        abstract = ' '.join([line[:-1].strip() for line in f])\n",
    "        abstract = re.sub(' +', ' ', abstract)  # remove double spaces\n",
    "        return abstract\n",
    "\n",
    "fname = get_fnames()[7]\n",
    "print(fname,read_file(fname))"
   ]
  },
  {
   "cell_type": "code",
   "execution_count": 458,
   "metadata": {},
   "outputs": [],
   "source": [
    "def get_shingles(fname, k=5):\n",
    "    \"\"\"Get all shingles from requested file (hashes of these shingles)\n",
    "    \"\"\"\n",
    "    with open(fname, 'r') as f:\n",
    "        # skip all lines until abstract\n",
    "        for line in f:\n",
    "            if \"Abstract    :\" in line:\n",
    "                break\n",
    "\n",
    "        # get abstract as a single string\n",
    "        abstract = ' '.join([line[:-1].strip() for line in f])\n",
    "        abstract = re.sub(' +', ' ', abstract)  # remove double spaces\n",
    "\n",
    "        L = len(abstract)\n",
    "        shingles = set()  # we use a set to automatically eliminate duplicates\n",
    "        for i in range(L-k+1):\n",
    "            shingle = abstract[i:i+k]\n",
    "            crc = binascii.crc32(shingle.encode('utf-8')) #& 0xffffffff  # hash the shingle to a 32-bit integer\n",
    "            shingles.add(crc)\n",
    "            \n",
    "        return shingles"
   ]
  },
  {
   "cell_type": "code",
   "execution_count": 459,
   "metadata": {},
   "outputs": [
    {
     "name": "stdout",
     "output_type": "stream",
     "text": [
      "file: ../awd_1990_00/a9000054.txt\n",
      "number of shingles: 1052\n",
      "number of shingles: {1046261761, 2386538498, 3837122562, 2713403395, 857438213, 261797894, 1598269447, 964284428, 4021045262, 1399355409, 2620586004, 1125644311, 455776283, 2711429147, 4216969248, 2751221796, 3421630500, 2400870436, 947673124, 2173741097, 1426673706, 3112065067, 2313082924, 1431595052, 844841007, 1910194229, 163579958, 2130679863, 1901307960, 803440697, 3816407098, 3928565819, 3869839419, 2009745465, 4241432638, 3987564607, 550928451, 2086162499, 1229672517, 1658859590, 2776748101, 4187658312, 640391242, 910018634, 2931046475, 2764914762, 3725809743, 2694608980, 302454873, 2647879770, 207016027, 857421914, 501379165, 1697339491, 2971717731, 4163760227, 2110976108, 1012815981, 2765596780, 309430383, 4202238064, 856324209, 3306338418, 3677251698, 975145073, 1061535863, 3727188089, 3864260732, 3502821501, 3371880574, 4264804479, 1444462720, 2691862657, 895764605, 3113422980, 1610121349, 3616518280, 183810186, 3455664267, 1415618701, 2176290959, 2468714639, 2340196503, 572907671, 768184471, 1316937882, 3441250458, 2389514396, 1722220701, 1249228957, 2677762210, 911030437, 970901670, 2954719399, 242539407, 294416556, 150732979, 3715932339, 1689852086, 742379703, 1401739447, 3483656378, 3265015997, 3781822655, 1543055552, 3537150145, 3626129604, 2826475717, 1565110469, 2853290192, 2690089169, 3663186128, 601198804, 812906709, 365238491, 1759826140, 422234335, 1070375136, 3825420513, 1931036899, 2088812778, 1618727146, 1344962797, 3916118254, 347355377, 3406520561, 2621202674, 2281466101, 2086938869, 1928257783, 2142361847, 1702279417, 223281402, 4278311159, 2131032321, 2814306562, 2519691525, 833450248, 979923211, 882524428, 404795661, 3340235022, 2929092883, 1154173204, 817078549, 4011028757, 4127318297, 1997234458, 2409750812, 248834336, 78952736, 3427549472, 3402883363, 2500563233, 1787549986, 284657952, 1354830115, 2356521256, 2856050985, 3466748203, 4164202801, 919929138, 2776451380, 358322486, 3030368567, 2492541240, 939096374, 166320446, 2019250501, 824357191, 960919880, 1334757703, 1158052169, 994163019, 1765462347, 2208129357, 3264047438, 1046262091, 4033866062, 2472841553, 33655123, 4241183060, 1934938453, 3622748501, 2382817619, 901026131, 3926923609, 1105258842, 3336077652, 4186728790, 2760071519, 2902350179, 3463598436, 1189974375, 1723275626, 2666131820, 4126622062, 2031972719, 2772027762, 3027100019, 602878324, 1613338997, 2419777911, 2361510264, 1633395063, 478292346, 341868923, 331002231, 3954635133, 357226877, 3269060994, 3424463235, 3609278853, 3506243974, 1113428359, 199983493, 1287350661, 4073593227, 176032140, 3891710349, 2143818125, 4023447952, 2279739792, 358869392, 2661054868, 134465943, 2390471065, 3945521565, 3981121951, 4278626720, 1282468259, 1131766185, 2308891049, 2157984171, 2376591791, 4110596530, 2043926966, 2912262587, 1632700, 1550264767, 4275231168, 861884865, 545774021, 1582119368, 2434976200, 2214437321, 3562662349, 828522957, 392528338, 2825953746, 4290490835, 1924917719, 2077864411, 779610590, 1217010146, 3986352612, 88003046, 192702951, 2813991400, 1638400495, 1673554417, 1620298226, 340097523, 2065826292, 86960631, 3304763896, 2437894647, 2196795896, 189854203, 1142923772, 3465101823, 4273531399, 3839740428, 75956749, 327205391, 3134202385, 208247314, 1413222931, 389386772, 2761320979, 3830934034, 3754242585, 1738719769, 2582641178, 2021337628, 3915518491, 224508445, 1143437855, 184822300, 3906138657, 3104242209, 2572313121, 1132866088, 31517226, 911272491, 3604591150, 402489904, 3108813362, 4106664499, 3430578739, 3490443828, 3078447670, 3573168697, 1474038335, 3992306243, 2093687364, 3623293508, 1602841158, 3202224711, 1658450504, 2125244998, 2683544138, 1337481804, 1075419724, 1810547281, 2017485396, 2360259156, 3310522965, 765932119, 1799617112, 3587117657, 3606573658, 403313236, 2258553440, 755346016, 2814327399, 3932428904, 117748331, 3675560555, 3569744494, 4288780913, 2210316915, 1079390839, 3105978999, 1314890360, 639705725, 2220419710, 1536924291, 2398395017, 1762755210, 4238584460, 3675773581, 2571676302, 2724659855, 1904138895, 853328529, 1768325777, 2115082900, 3806722712, 3191530136, 3877806747, 1936585371, 303190685, 239891104, 1402344099, 958757539, 116140711, 3791708840, 83899049, 3612031656, 3212784299, 2203054763, 2460164778, 942658218, 555332268, 2207107759, 1130744506, 3074288318, 2155659972, 4096449221, 3179950789, 2376133316, 1502130888, 848595660, 3249715916, 2585316048, 470528721, 3327718096, 851704532, 2639168213, 1750706901, 3361084118, 1800456920, 1447404249, 2839980760, 2529426139, 2518627033, 366920414, 759802593, 1126042337, 2871462630, 4083145448, 1656769257, 1703625450, 2530855656, 2282638059, 2501280496, 1399644914, 1990648563, 3898559220, 1702761207, 633041656, 1443312378, 1115796219, 3623682813, 2938850046, 3189914368, 3314631429, 4025387782, 905460490, 1101820684, 4153131792, 645292817, 3107537682, 2953098001, 114172695, 3460115223, 2794867483, 2010116893, 3906458401, 612051751, 1105394472, 4255638313, 1971409707, 2804202283, 2373987118, 2485723952, 563198769, 157954866, 998619957, 2011274038, 1657242427, 276628284, 1799230268, 547939132, 3315401532, 3584121664, 3924335424, 699833148, 559629123, 3396840261, 879620936, 3150646089, 2159903905, 3193537359, 3617776464, 3656637263, 2302239570, 3819453266, 2308846420, 2886814550, 2521244502, 316277597, 999654238, 2477472614, 1909834599, 264627047, 576732007, 51485546, 4041755499, 2014800752, 1638304625, 1002533749, 851049333, 3807722359, 3691115384, 2351410042, 434981755, 1690631037, 3673879422, 1158476672, 1837345667, 2344885129, 3751846793, 4266404750, 207481743, 3167257488, 1113129873, 3585268625, 265931663, 2290723732, 907094933, 38273942, 137278359, 3346578326, 4113142680, 2805629851, 3877868444, 885930908, 3324017571, 1983060900, 1300978598, 2054206375, 2371468200, 3913233318, 884726699, 2744601516, 156275629, 2484886449, 608576434, 3184386998, 3285762999, 715375544, 257760185, 1938652094, 135119813, 195539910, 4160836550, 1618979785, 816520138, 4174670798, 1209910226, 231363539, 2980432853, 1039651810, 897031140, 1850829798, 391105512, 1517509613, 2096266224, 2920502260, 3086926836, 120792052, 1263623159, 782943228, 2336312316, 3930602493, 1905744898, 3586743303, 2269129736, 331578380, 1970074636, 3721419788, 3339987980, 874220558, 1667785750, 2934846487, 1003101208, 1608541213, 2055535647, 3654288416, 942443553, 61033506, 1614353442, 2400758815, 2738897957, 4084902950, 738397222, 3685252141, 2163104813, 3352319023, 3391470652, 1652587581, 3648252993, 3195407435, 1517233228, 1968956492, 1722905679, 3775855697, 3524050004, 4218129493, 1031408724, 3648953430, 736265302, 1270498392, 3347678296, 388660316, 3464326236, 1103737951, 631884897, 3624113250, 111041637, 2337600614, 2431220842, 746390635, 895059052, 80862315, 1312842863, 98606192, 2960489585, 2471402610, 3667692658, 1601459314, 1527143544, 3230041209, 305718398, 1650351230, 1922864256, 1235516544, 3541769342, 2497092744, 1553554569, 1301703816, 468255883, 3656907923, 2279996563, 3529649300, 3317101724, 3309978781, 1774427294, 587369630, 2067057824, 462464156, 3060704418, 3306138785, 1099154596, 3955168415, 4059716774, 606133414, 1110029479, 1278381222, 2006867114, 3767289000, 1285067948, 2048957613, 4026668206, 3120293037, 3825738929, 1029788853, 278299834, 3345767613, 2145727678, 18756799, 252857535, 4009780421, 480980167, 1552202951, 2702779594, 2636731595, 1273926859, 3664504011, 1872061649, 992810195, 4282332372, 1046504662, 3117458648, 3630941403, 1996209376, 2710676706, 936469391, 1497443562, 4106622186, 2929644780, 738290926, 1791386863, 4117452016, 472147185, 45468914, 502920430, 3210050798, 1619252472, 3568332025, 4195441913, 172563707, 2000422141, 2932999422, 3264281854, 1631139076, 4227609863, 3309710601, 3906080010, 213316875, 3191334155, 3609085197, 1033895185, 1755168019, 2837927187, 3454553364, 461616409, 1194970397, 2290681117, 57820447, 1678986525, 3628696866, 1275673893, 944571686, 97301797, 1340461395, 605840684, 82681135, 2903026998, 695704887, 2456180024, 163130681, 1314618680, 814951740, 1938617662, 2571257151, 741133632, 3322957121, 3869588798, 2954974531, 3211625794, 1546827079, 4213028169, 963126602, 154350922, 3354834260, 1646740821, 1470235989, 496639318, 2773937498, 3383115098, 437058908, 648832350, 3163428191, 3008892256, 2554004832, 1631100256, 2279888226, 2014659948, 2723523952, 4159432049, 4149284208, 576791929, 590564730, 769672571, 2481466753, 2921844098, 2598423943, 3728713096, 203085191, 2980507016, 4039546253, 972895631, 1323883923, 437970324, 2793760149, 698928534, 1038478745, 1230392730, 3206915483, 845139358, 4205870495, 3935176096, 1036488097, 1810152862, 2755784100, 4015807911, 111818152, 3439230375, 3778336173, 3111798193, 2278423986, 2302956979, 3252653492, 3440176562, 2769190326, 1322061239, 3136669116, 1292422589, 1507646909, 3859027398, 554290632, 2705331658, 791072206, 48676304, 527846865, 3845778896, 3418152404, 2578845141, 224456148, 506533335, 3601915352, 168510935, 2729829853, 3217993186, 3687269860, 1844213223, 1783643623, 248714729, 620910057, 3146612203, 1081593324, 3100861930, 2506931687, 1109331441, 269313524, 3115228661, 2803017208, 1304956411, 1812991489, 2622240260, 596352516, 3532305925, 2866761224, 1843785225, 835118603, 2866136590, 596971028, 3595908628, 2368353817, 3395612190, 959211040, 141536806, 1133829671, 13147688, 469630507, 2453241388, 4279285292, 1177400878, 774784559, 3717746224, 1198415408, 3695023666, 109915699, 3645724211, 3531003444, 560948789, 2695411247, 2654971448, 518084154, 1467848251, 3093925436, 2292784698, 2353002043, 668640831, 2489278017, 2897483331, 2944155204, 2512541252, 3794841159, 49659464, 2301320779, 84633164, 2053832269, 2408568397, 4094203472, 557084240, 932347480, 791078491, 2206772828, 3136933469, 3899881053, 4273366623, 3900558944, 1228039777, 289216097, 687136356, 926004838, 3410912878, 709867120, 3158199921, 3107200626, 4060153458, 2680006261, 3578924664, 1774126715, 2546763393, 1991460482, 2152799874, 2485280388, 1482770055, 1534350984, 1874439817, 3283971722, 3283123851, 3675215495, 4020821645, 1817888398, 2567902865, 2670833300, 4281788056, 2990622364, 3898791581, 3539461791, 1652885152, 596065953, 2928486050, 251926179, 3213225638, 659945128, 2412287660, 2227187372, 853886639, 1384185520, 3207681713, 3088250546, 3818618553, 2440810172, 1881218749, 3907335870, 2165825215, 2421053120, 3971978945, 4021677762, 2073661120, 2565224127, 459699912, 3754749641, 2818537162, 1248626377, 3405907656, 642455245, 3710498510, 2703568594, 1816352467, 1805952724, 553680600, 329283288, 3486713562, 761286360, 4112226013, 907165411, 484003555, 2321231591, 3554619112, 4280291049, 885526251, 3356020461, 3206289134, 1172313841, 147664630, 1035351806, 1086652159, 716244736, 233977602, 1214037763, 4120233734, 3829028614, 4147408648, 555460360, 558870280, 462108424, 3544018694, 2089795346, 946003731, 1120237333, 889601813, 1166767895, 416745240, 2517452569, 2125999898, 2723295000, 646758172, 3583387422, 2149248798, 1189611296, 1917947682, 2576740138, 3300286251, 56862508, 4224223021, 3079960363, 1823100714, 26496817, 2470678326, 685721403, 2739447612, 3244824381, 1228119872, 942704451, 3176476483, 1302218564, 4178749254, 3059996487, 1832603467, 108244812, 2678277964, 1330497355, 1638522705, 194793297, 1651326802, 2975285073, 2386337619, 970825558, 542869335, 2973640534, 1287204696, 1937991509, 172576598, 1340677977, 846675806, 4043417442, 1354846054, 2084751207, 1275975527, 1093834603, 743364471, 637951864, 2740565881, 3927865209, 1353238393, 2032551807, 3180554112, 1631530882, 1475755907, 3852730243, 1978232709, 615139205, 1989640071, 2296829833, 2382776202, 2927810446, 351305614, 798680981, 2952159127, 2550013849, 511127452, 366241694, 1359216543, 1273601952, 3617898400, 917368742, 1082140583, 3116812198, 3651063721, 2620188585, 3077318567, 3004323754, 915072942, 1483591601, 49874867, 3659730867, 3231719352, 126578617, 1350944697, 4060305337, 3316795324, 353378237, 1378752447, 1873311683, 3160541127, 535345097, 151085003, 63190988, 1892329419, 381872078, 2862254034, 2295594963, 1528221651, 2317434836, 2480166877, 958332893, 2364073951, 1675782112, 2377392096, 2010470371, 661835749, 3629645797, 266053608, 2889203690, 306630635, 3956815852, 3698839535, 3002073085, 505765874, 1467488247, 1269532666, 1711243261, 2839185406, 2312722431}\n"
     ]
    }
   ],
   "source": [
    "fname = get_fnames()[12]\n",
    "print(\"file: {}\".format(fname))\n",
    "print(\"number of shingles: {}\".format(len(get_shingles(fname, k=5))))\n",
    "print(\"number of shingles: {}\".format(get_shingles(fname, k=5)))"
   ]
  },
  {
   "cell_type": "code",
   "execution_count": 460,
   "metadata": {},
   "outputs": [],
   "source": [
    "fnames = get_fnames()\n",
    "shingles_vectors = []\n",
    "\n",
    "for file in fnames[:1000]: \n",
    "    sh = list(get_shingles(file, k=5))\n",
    "    shingles_vectors.append(sh)"
   ]
  },
  {
   "cell_type": "code",
   "execution_count": 461,
   "metadata": {},
   "outputs": [
    {
     "data": {
      "text/plain": [
       "0.04897551224387806"
      ]
     },
     "execution_count": 461,
     "metadata": {},
     "output_type": "execute_result"
    }
   ],
   "source": [
    "def jaccard_similarity_score(x, y):\n",
    "    \"\"\"\n",
    "    Jaccard Similarity J (A,B) = | Intersection (A,B) | /\n",
    "                                    | Union (A,B) |\n",
    "    \"\"\"\n",
    "    intersection_cardinality = len(set(x).intersection(set(y)))\n",
    "    union_cardinality = len(set(x).union(set(y)))\n",
    "    return intersection_cardinality / float(union_cardinality)\n",
    "\n",
    "jaccard_similarity_score(shingles_vectors[7], shingles_vectors[1])"
   ]
  },
  {
   "cell_type": "code",
   "execution_count": 462,
   "metadata": {},
   "outputs": [
    {
     "name": "stdout",
     "output_type": "stream",
     "text": [
      "('../awd_1990_00/a9000046.txt', '../awd_1990_00/a9000048.txt')\n",
      "('../awd_1990_00/a9000046.txt', '../awd_1990_00/a9000049.txt')\n",
      "('../awd_1990_00/a9000048.txt', '../awd_1990_00/a9000049.txt')\n",
      "CPU times: user 1.44 s, sys: 51.2 ms, total: 1.5 s\n",
      "Wall time: 1.52 s\n"
     ]
    }
   ],
   "source": [
    "%%time\n",
    "import itertools\n",
    "\n",
    "s = 0.5 #thresold values 0.2 0.9\n",
    "candidates = []\n",
    "\n",
    "fnames = get_fnames()\n",
    "for pair in itertools.combinations(fnames,2):\n",
    "    js = jaccard_similarity_score(get_shingles(pair[0], k=5),get_shingles(pair[1], k=5))\n",
    "    \n",
    "    if js > s:\n",
    "        print(pair)\n",
    "        candidates.append(pair)"
   ]
  },
  {
   "cell_type": "code",
   "execution_count": 463,
   "metadata": {},
   "outputs": [
    {
     "name": "stdout",
     "output_type": "stream",
     "text": [
      "Number of similar items: 3\n"
     ]
    }
   ],
   "source": [
    "print(\"Number of similar items: {}\".format(len(candidates)))"
   ]
  },
  {
   "cell_type": "code",
   "execution_count": 464,
   "metadata": {},
   "outputs": [
    {
     "name": "stdout",
     "output_type": "stream",
     "text": [
      " Duke University will operate the R/V CAPE HATTERAS during 1990 as a general oceanographic vessel in support of NSF-funded research projects. The R/V POINT SUR is a 135' general research vessel constructed in 1981 and owned by the National Science Foundation. Duke operates the CAPE HATTERAS under a charter agreement with NSF. The ship operates primarily off the U.S. east coast from Maine to Florida. This vessel is part of a fleet used by the National Science Foundation to support oceanographic research projects. Most oceanographic research projects require highly specialized equipment and extensive support from a ship's crew members. An increasing number of research projects require equipment that must be permanently installed on a ship and for which the ship must be specifically designed. Such equipment also requires highly trained crew members for maintenance and operation. These vessels do not operate in the same manner as general cargo or fishing vessels, and therefore, NSF supports the operation of a variety of vessels specifically dedicated to oceanographic research. These vessels are operated by universities and research institutions around the country.\n",
      "\n",
      " Bermuda Biological Station will operate the R/V WEATHERBIRD II during 1990 as a general oceanographic vessel in support of NSF-funded research projects. The R/V WEATHERBIRD II is a 115' general research vessel that was originally converted in 1989 and is owned by the Bermuda Biological Station. Additional conversion work on the vessel will be conducted in phases during 1990 and 1991. The ship operates primarily in the vicinity of Bermuda. This vessel is part of a fleet used by the National Science Foundation to support oceanographic research projects. Most oceanographic research projects require highly specialized equipment and extensive support from a ship's crew members. An increasing number of research projects require equipment that must be permanently installed on a ship and for which the ship must be specifically designed. Such equipment also requires highly trained crew members for maintenance and operation. These vessels do not operate in the same manner as general cargo or fishing vessels, and therefore, NSF supports the operation of a variety of vessels specifically dedicated to oceanographic research. These vessels are operated by universities and research institutions around the country.\n"
     ]
    }
   ],
   "source": [
    "# print(read_file('../awd_1990_00/a9000046.txt'))\n",
    "# print('')\n",
    "# print(read_file('../awd_1990_00/a9000048.txt'))\n",
    "# print('')\n",
    "# print(read_file('../awd_1990_00/a9000049.txt'))\n",
    "\n",
    "n = 1\n",
    "print(read_file(candidates[n][0]))\n",
    "print('')\n",
    "print(read_file(candidates[n][1]))"
   ]
  },
  {
   "cell_type": "code",
   "execution_count": 465,
   "metadata": {},
   "outputs": [
    {
     "name": "stdout",
     "output_type": "stream",
     "text": [
      "('../awd_1990_00/a9000046.txt', '../awd_1990_00/a9000048.txt')\n",
      "('../awd_1990_00/a9000046.txt', '../awd_1990_00/a9000049.txt')\n",
      "('../awd_1990_00/a9000048.txt', '../awd_1990_00/a9000049.txt')\n"
     ]
    }
   ],
   "source": [
    "for pair in candidates:\n",
    "    if read_file(pair[0]) != 'Not Available':\n",
    "        print(pair)"
   ]
  },
  {
   "cell_type": "code",
   "execution_count": null,
   "metadata": {},
   "outputs": [],
   "source": []
  },
  {
   "cell_type": "markdown",
   "metadata": {},
   "source": [
    "# Hands-on session 2"
   ]
  },
  {
   "cell_type": "code",
   "execution_count": 466,
   "metadata": {},
   "outputs": [],
   "source": [
    "import numpy\n",
    "import os\n",
    "import re\n",
    "import binascii\n",
    "from time import time\n",
    "\n",
    "def get_fnames():\n",
    "    \"\"\"Read all text files in a folder.\n",
    "    \"\"\"\n",
    "    fnames = []\n",
    "    for root,_,files in os.walk(\"../awd_1990_00\"):\n",
    "        for fname in files:\n",
    "            if fname[-4:] == \".txt\":\n",
    "                fnames.append(os.path.join(root, fname))\n",
    "    return fnames"
   ]
  },
  {
   "cell_type": "code",
   "execution_count": 467,
   "metadata": {},
   "outputs": [
    {
     "name": "stdout",
     "output_type": "stream",
     "text": [
      "number of different files: 51\n"
     ]
    }
   ],
   "source": [
    "print(\"number of different files: {}\".format(len(get_fnames())))"
   ]
  },
  {
   "cell_type": "code",
   "execution_count": 468,
   "metadata": {},
   "outputs": [
    {
     "name": "stdout",
     "output_type": "stream",
     "text": [
      " Studies of chickens have provided serological and nucleic acid probes useful in defining the major histocompatibility complex (MHC) in other avian species. Methods used in detecting genetic diversity at loci within the MHC of chickens and mammals will be applied to determining the extent of MHC polymorphism within small populations of ring-necked pheasants, wild turkeys, cranes, Andean condors and other species. The knowledge and expertise gained from working with the MHC of the chicken should make for rapid progress in defining the polymorphism of the MHC in these species and in detecting the polymorphism of MHC gene pool within small wild and captive populations of these birds. Genes within the major histocompatibility complex (MHC) are known to encode molecules that provide the context for recognition of foreign antigens by the immune system. Whether a given animal is able to mount an immune response to the challenge of a pathogen is determined, in part, by the allelic makeup of its MHC. In many species, an unusually high degree of polymorphism is maintained at multiple loci within the MHC in freely breeding populations. The allelic pool within a population presumably provides diversity upon which to draw in the face of environmental challenge. The objective of the proposed research is to extend ongoing studies of the MHC of domesticated fowl to include avian species experiencing severe reduction in population size. Knowledge of the MHC gene pool within populations and of the haplotypes of individual animals may be useful in the husbandry of species requiring intervention for their preservation.\n"
     ]
    }
   ],
   "source": [
    "# just open one file and read its abstract\n",
    "def read_file(fname):\n",
    "    with open(fname, 'r') as f:\n",
    "        # skip all lines until abstract\n",
    "        for line in f:\n",
    "            if \"Abstract    :\" in line:\n",
    "                break\n",
    "\n",
    "        # get abstract as a single string\n",
    "        abstract = ' '.join([line[:-1].strip() for line in f])\n",
    "        abstract = re.sub(' +', ' ', abstract)  # remove double spaces\n",
    "        return abstract\n",
    "\n",
    "fname = get_fnames()[1]\n",
    "print(read_file(fname))"
   ]
  },
  {
   "cell_type": "code",
   "execution_count": 469,
   "metadata": {},
   "outputs": [],
   "source": [
    "def get_shingles(fname, k=5):\n",
    "    \"\"\"Get all shingles from requested file (hashes of these shingles)\n",
    "    \"\"\"\n",
    "    with open(fname, 'r') as f:\n",
    "        # skip all lines until abstract\n",
    "        for line in f:\n",
    "            if \"Abstract    :\" in line:\n",
    "                break\n",
    "\n",
    "        # get abstract as a single string\n",
    "        abstract = ' '.join([line[:-1].strip() for line in f])\n",
    "        abstract = re.sub(' +', ' ', abstract)  # remove double spaces\n",
    "\n",
    "        L = len(abstract)\n",
    "        shingles = set()  # we use a set to automatically eliminate duplicates\n",
    "        for i in range(L-k+1):\n",
    "            shingle = abstract[i:i+k]\n",
    "            crc = binascii.crc32(shingle.encode('utf-8')) #& 0xffffffff  # hash the shingle to a 32-bit integer\n",
    "            shingles.add(crc)\n",
    "        return shingles"
   ]
  },
  {
   "cell_type": "code",
   "execution_count": 470,
   "metadata": {},
   "outputs": [
    {
     "name": "stdout",
     "output_type": "stream",
     "text": [
      "file:../awd_1990_00/a9000050.txt\n",
      "number of shingles: 337\n"
     ]
    }
   ],
   "source": [
    "fname = get_fnames()[9]\n",
    "print(\"file:{}\".format(fname))\n",
    "print(\"number of shingles: {}\".format(len(get_shingles(fname, k=5))))"
   ]
  },
  {
   "cell_type": "code",
   "execution_count": 471,
   "metadata": {},
   "outputs": [],
   "source": [
    "# set global parameters to process the whole dataset\n",
    "bands = 10\n",
    "rows = 10\n",
    "nsig = bands*rows  # number of elements in signature, or the number of different random hash functions\n",
    "\n",
    "maxShingleID = 2**32-1  # record the maximum shingle ID that we assigned\n",
    "nextPrime = 2147483647  # next prime number after maxShingleID #82589933\n",
    "\n",
    "A = numpy.random.randint(0, nextPrime, size=(nsig,))\n",
    "B = numpy.random.randint(0, nextPrime, size=(nsig,))"
   ]
  },
  {
   "cell_type": "code",
   "execution_count": 472,
   "metadata": {},
   "outputs": [
    {
     "name": "stdout",
     "output_type": "stream",
     "text": [
      "100 [1112621599 1251217992 1676834881 2145949439 1628942095 1164437661\n",
      " 1605435795  463917961 1248670912  700641432  711353605 1800471734\n",
      "  490800179 1107053985  384178809  225943204 1995671799  875723976\n",
      "  583512907 1650376790  738438501  158197020  241183225 2147421898\n",
      "  837652452   84810015  433510303 1759805549 2114078317  688825353\n",
      " 1183742449  142290998 1544108246 1272393221 1961725958 1024497210\n",
      "  581210488 1391113644  918386137 1940959553  224211301 1596043322\n",
      " 1126361528 1905057098 1924328125  864121840  919983494  509684498\n",
      " 1434086844  435164663  866600046 1458526902 2084236760  724247246\n",
      " 1703180489  552357917  606018526 1328543932 1314694852 1869764119\n",
      " 1924497544  563254735  112172649 1378008354 2003839074  869807535\n",
      " 1242481876  673167565  529273245  611667520  386619822 2113775943\n",
      " 1310591303  746309760 1004875980 1750927685 1301252334 1520094436\n",
      "   80430752  422170697 1022691471  553184442 1377886704  513921934\n",
      "  839809915 1332763844  485675176  837422095   68018298 1553985218\n",
      " 1104416403  302381948 2042478739 1727846006  217639401 1511740663\n",
      " 1575868763  654710860 1679706690  694129556]\n"
     ]
    }
   ],
   "source": [
    "print(len(A),A)"
   ]
  },
  {
   "cell_type": "code",
   "execution_count": 473,
   "metadata": {},
   "outputs": [
    {
     "name": "stdout",
     "output_type": "stream",
     "text": [
      "random shingle: 1598752772\n",
      "its hash code by first hash function: 914818415\n",
      "its hash code by second hash function: 1890521203\n"
     ]
    }
   ],
   "source": [
    "ShingleID = list(get_shingles(fname, k=5))[0]\n",
    "\n",
    "print(\"random shingle: {}\".format(ShingleID))\n",
    "\n",
    "hashCode = ((A[0]*ShingleID + B[0]) % nextPrime) % maxShingleID\n",
    "print(\"its hash code by first hash function: {}\".format(hashCode))\n",
    "hashCode = ((A[1]*ShingleID + B[1]) % nextPrime) % maxShingleID\n",
    "print(\"its hash code by second hash function: {}\".format(hashCode))"
   ]
  },
  {
   "cell_type": "code",
   "execution_count": 474,
   "metadata": {},
   "outputs": [],
   "source": [
    "# naive version of Minhash algorithm that computes a signature for a single file\n",
    "# all shingles from that file are given in 'shingles'\n",
    "\n",
    "def minhash(shingles, A, B, nextPrime, maxShingleID, nsig):\n",
    "    signature = []\n",
    "    for i in range(nsig):  # number of hash functions == nsig\n",
    "        minHashCode = maxShingleID + 1\n",
    "        a = A[i]\n",
    "        b = B[i]\n",
    "        \n",
    "        for ShingleID in shingles:\n",
    "            hashCode = ((a*ShingleID + b) % nextPrime) % maxShingleID\n",
    "            if hashCode < minHashCode:\n",
    "                minHashCode = hashCode\n",
    "\n",
    "        signature.append(minHashCode)\n",
    "    return signature"
   ]
  },
  {
   "cell_type": "code",
   "execution_count": 475,
   "metadata": {},
   "outputs": [
    {
     "name": "stdout",
     "output_type": "stream",
     "text": [
      "file signature: 100 , [29031545, 3097228, 25980090, 34888128, 22974116, 986821, 17851559, 10694328, 1944721, 15044504, 8580326, 10870591, 5113551, 12353726, 10418975, 3440439, 220880, 16468998, 4235717, 10742900, 7224611, 11627439, 8113638, 5174081, 7106688, 7207508, 11096607, 3977783, 23365421, 22870907, 5370190, 19572220, 5913340, 37716778, 2283710, 4590677, 4138494, 23571511, 153273, 336592, 294731, 8820458, 41634667, 325997, 5366763, 545980, 6278044, 36614097, 3308820, 2553328, 27434818, 6862214, 14060754, 10613373, 16241452, 469576, 7402299, 20885655, 4380965, 20438879, 7487628, 3118655, 4434593, 5701364, 8447224, 5233309, 3593775, 6363449, 8811595, 15363329, 34531347, 6707894, 21704750, 16642052, 2516505, 19121651, 11445692, 3053847, 26354180, 55501649, 37071, 19792551, 7435421, 1537756, 10360865, 15354278, 588401, 11859908, 9032471, 19109995, 31977047, 7612568, 12786975, 6075809, 19119837, 6735129, 7083476, 19424325, 3823184, 2189314]\n"
     ]
    }
   ],
   "source": [
    "fname = get_fnames()[9]\n",
    "shingles = get_shingles(fname, k=5)\n",
    "maxShingleID = 2**32-1  # record the maximum shingle ID that we assigned\n",
    "nextPrime = 4294967311  # next prime number after maxShingleID\n",
    "\n",
    "A = numpy.random.randint(0, nextPrime/2, size=(nsig,))\n",
    "B = numpy.random.randint(0, nextPrime/2, size=(nsig,))\n",
    "\n",
    "signature = minhash(shingles, A, B, nextPrime, maxShingleID, nsig)\n",
    "print(\"file signature: {} , {}\".format(len(signature),signature))"
   ]
  },
  {
   "cell_type": "code",
   "execution_count": 476,
   "metadata": {},
   "outputs": [
    {
     "name": "stdout",
     "output_type": "stream",
     "text": [
      "total signatures: 51\n",
      "took 1.506054162979126 seconds\n"
     ]
    }
   ],
   "source": [
    "# compute Minhashes for all files using a slow naive code\n",
    "fnames = get_fnames()\n",
    "signatures = []\n",
    "t = time()\n",
    "\n",
    "for fname in fnames:\n",
    "    shingles = get_shingles(fname, k=5)\n",
    "    signature = minhash(shingles, A, B, nextPrime, maxShingleID, nsig)\n",
    "    signatures.append(signature)\n",
    "t1 = time()-t\n",
    "\n",
    "print(\"total signatures: {}\".format(len(signatures)))\n",
    "print(\"took {} seconds\".format(t1))"
   ]
  },
  {
   "cell_type": "code",
   "execution_count": 477,
   "metadata": {},
   "outputs": [],
   "source": [
    "# fast implementation of Minhash algorithm\n",
    "# computes all random hash functions for a shingle at once, using vector operations\n",
    "# also finds element-wise minimum of two vectors efficiently\n",
    "def minhash_vectorized(shingles, A, B, nextPrime, maxShingleID, nsig):\n",
    "    signature = numpy.ones((nsig,)) * (maxShingleID + 1)\n",
    "\n",
    "    for ShingleID in shingles:\n",
    "        hashCodes = ((A*ShingleID + B) % nextPrime) % maxShingleID\n",
    "        numpy.minimum(signature, hashCodes, out=signature)\n",
    "\n",
    "    return signature"
   ]
  },
  {
   "cell_type": "code",
   "execution_count": 478,
   "metadata": {},
   "outputs": [
    {
     "name": "stdout",
     "output_type": "stream",
     "text": [
      "slow code took 1.4646825790405273 seconds\n",
      "slow code took 0.37111639976501465 seconds\n",
      "speedup 3.9466932206928673\n",
      "results are the same: True\n"
     ]
    }
   ],
   "source": [
    "# compare two versions of Minhash code\n",
    "shingles_all_files = []\n",
    "for fname in get_fnames():\n",
    "    shingles_all_files.append(get_shingles(fname, k=5))\n",
    "\n",
    "t = time()\n",
    "signatures_all_files_1 = []\n",
    "for shingles in shingles_all_files:\n",
    "    signature = minhash(shingles, A, B, nextPrime, maxShingleID, nsig)\n",
    "    signatures_all_files_1.append(signature)\n",
    "t1 = time()-t\n",
    "print(\"slow code took {} seconds\".format(t1))\n",
    "\n",
    "t = time()\n",
    "signatures_all_files_2 = []\n",
    "for shingles in shingles_all_files:\n",
    "    signature = minhash_vectorized(shingles, A, B, nextPrime, maxShingleID, nsig)\n",
    "    signatures_all_files_2.append(signature)\n",
    "t2 = time()-t\n",
    "print(\"slow code took {} seconds\".format(t2))\n",
    "\n",
    "print('speedup {}'.format(t1/t2))\n",
    "\n",
    "signatures_all_files_1 = numpy.array(signatures_all_files_1)\n",
    "signatures_all_files_2 = numpy.array(signatures_all_files_2)\n",
    "print(\"results are the same: {}\".format(numpy.allclose(signatures_all_files_1, signatures_all_files_2)))"
   ]
  },
  {
   "cell_type": "code",
   "execution_count": 479,
   "metadata": {},
   "outputs": [
    {
     "name": "stdout",
     "output_type": "stream",
     "text": [
      "finding candidates took 0.008943319320678711 seconds\n",
      "found 5 candidates\n",
      "candidate similar pairs of files are:\n",
      "../awd_1990_00/a9000046.txt ../awd_1990_00/a9000048.txt\n",
      "../awd_1990_00/a9000046.txt ../awd_1990_00/a9000049.txt\n",
      "../awd_1990_00/a9000048.txt ../awd_1990_00/a9000049.txt\n",
      "../awd_1990_00/a9000986.txt ../awd_1990_00/a9000984.txt\n",
      "../awd_1990_00/a9000977.txt ../awd_1990_00/a9000997.txt\n"
     ]
    }
   ],
   "source": [
    "# get candidate pairs without Locality-Sensitive Hashing\n",
    "\n",
    "signatures = []  # signatures for all files\n",
    "fnames = get_fnames()\n",
    "for fname in fnames:\n",
    "    shingles = get_shingles(fname, k=5)\n",
    "    signature = minhash_vectorized(shingles, A, B, nextPrime, maxShingleID, nsig)\n",
    "    signatures.append(signature)\n",
    "\n",
    "s = 0.2  # similarity threshold 0.2, 0.5, 0.9\n",
    "Nfiles = len(signatures)\n",
    "t = time()\n",
    "candidates = []\n",
    "\n",
    "for i in range(Nfiles):\n",
    "    for j in range(i+1, Nfiles):\n",
    "        Jsim = numpy.mean(signatures[i] == signatures[j])  # average number of similar items in two vectors\n",
    "        if Jsim >= s:\n",
    "            candidates.append((i,j))\n",
    "t2 = time() - t\n",
    "print(\"finding candidates took {} seconds\".format(t2))\n",
    "print(\"found {} candidates\".format(len(candidates)))\n",
    "print(\"candidate similar pairs of files are:\")\n",
    "for i,j in candidates:\n",
    "    print(fnames[i], fnames[j])"
   ]
  },
  {
   "cell_type": "code",
   "execution_count": 480,
   "metadata": {},
   "outputs": [
    {
     "name": "stdout",
     "output_type": "stream",
     "text": [
      "(100, 51)\n"
     ]
    }
   ],
   "source": [
    "signatures = numpy.array(signatures).T\n",
    "print(signatures.shape)"
   ]
  },
  {
   "cell_type": "markdown",
   "metadata": {},
   "source": []
  },
  {
   "cell_type": "code",
   "execution_count": null,
   "metadata": {},
   "outputs": [],
   "source": []
  },
  {
   "cell_type": "markdown",
   "metadata": {},
   "source": [
    "# Hands-on session 3"
   ]
  },
  {
   "cell_type": "code",
   "execution_count": 481,
   "metadata": {},
   "outputs": [],
   "source": [
    "def LSH(signatures, bands, rows, Ab, Bb, nextPrime, maxShingleID):\n",
    "    \"\"\"Locality Sensitive Hashing\n",
    "    \"\"\"\n",
    "    numItems = signatures.shape[1]\n",
    "    signBands = numpy.array_split(signatures, bands, axis=0)\n",
    "    candidates = set()\n",
    "    \n",
    "    for nb in range(bands):\n",
    "        hashTable = {}\n",
    "        for ni in range(numItems):\n",
    "            item = signBands[nb][:,ni]\n",
    "            hash = (numpy.dot(Ab[nb,:], item) + Bb[nb]) % nextPrime % maxShingleID\n",
    "            \n",
    "            if hash not in hashTable:\n",
    "                hashTable[hash] = [ni]\n",
    "            else:\n",
    "                hashTable[hash].append(ni)\n",
    "                \n",
    "        for _,items in hashTable.items():\n",
    "            if len(items) > 1:\n",
    "                L = len(items)\n",
    "                for i in range(L-1):\n",
    "                    for j in range(i+1, L):\n",
    "                        cand = [items[i], items[j]]\n",
    "                        numpy.sort(cand)\n",
    "                        candidates.add(tuple(cand))\n",
    "    return candidates"
   ]
  },
  {
   "cell_type": "code",
   "execution_count": 482,
   "metadata": {},
   "outputs": [
    {
     "name": "stdout",
     "output_type": "stream",
     "text": [
      "finding candidates took 0.0018017292022705078 seconds\n",
      "found 1 candidates\n",
      "candidate similar pairs of files are:\n",
      "../awd_1990_00/a9000048.txt ../awd_1990_00/a9000049.txt\n"
     ]
    }
   ],
   "source": [
    "# find candidates with LSH\n",
    "\n",
    "signatures = []  # signatures for all files\n",
    "fnames = get_fnames()\n",
    "for fname in fnames:\n",
    "    shingles = get_shingles(fname, k=5)\n",
    "    signature = minhash_vectorized(shingles, A, B, nextPrime, maxShingleID, nsig)\n",
    "    signatures.append(signature)\n",
    "\n",
    "# prepare data for LSH\n",
    "A2 = numpy.random.randint(0, nextPrime/2, size=(bands, rows))  # now we need a vector of A parameters for each band\n",
    "B2 = numpy.random.randint(0, nextPrime/2, size=(bands, ))\n",
    "signatures = numpy.array(signatures).T  # LSH needs a matrix of signatures, not a list of vectors\n",
    "\n",
    "s = 0.95  # similarity threshold\n",
    "Nfiles = signatures.shape[1]  # number of different files\n",
    "t = time()\n",
    "candidates = LSH(signatures, bands, rows, A2, B2, nextPrime, maxShingleID)\n",
    "t2 = time() - t\n",
    "\n",
    "print(\"finding candidates took {} seconds\".format(t2))\n",
    "print(\"found {} candidates\".format(len(candidates)))\n",
    "print(\"candidate similar pairs of files are:\")\n",
    "\n",
    "for i,j in candidates:\n",
    "    print(fnames[i], fnames[j])"
   ]
  },
  {
   "cell_type": "code",
   "execution_count": 484,
   "metadata": {},
   "outputs": [
    {
     "name": "stdout",
     "output_type": "stream",
     "text": [
      "25 0.7247796636776955\n"
     ]
    },
    {
     "data": {
      "image/png": "[encoded data removed]",
      "text/plain": [
       "<Figure size 1000x600 with 1 Axes>"
      ]
     },
     "metadata": {},
     "output_type": "display_data"
    }
   ],
   "source": [
    "import numpy\n",
    "import seaborn as sns \n",
    "\n",
    "b1 = 5\n",
    "r1 = 5\n",
    "print(b1 * r1, (1.0 / b1) ** (1.0 / r1))\n",
    "\n",
    "%matplotlib inline\n",
    "from matplotlib import pyplot\n",
    "\n",
    "t = numpy.linspace(0, 1, 1000)  \n",
    "p = 1 - numpy.power((1 - numpy.power(t, r1)), b1) \n",
    "\n",
    "# Create a Seaborn plot\n",
    "sns.set(style=\"whitegrid\")  # Set the style for Seaborn\n",
    "pyplot.figure(figsize=(10, 6))  # Set the figure size\n",
    "\n",
    "# Plot using Seaborn\n",
    "sns.lineplot(x=t, y=p, label=f\"b={b1}, r={r1}\", linewidth=2.5)\n",
    "\n",
    "# Add labels and title\n",
    "# pyplot.xlabel(\"t\")\n",
    "# pyplot.ylabel(\"p\")\n",
    "# pyplot.title(\"Seaborn Plot\")\n",
    "\n",
    "# Show legend\n",
    "pyplot.legend()\n",
    "\n",
    "# Show the plot\n",
    "pyplot.show()"
   ]
  },
  {
   "cell_type": "code",
   "execution_count": null,
   "metadata": {},
   "outputs": [],
   "source": []
  },
  {
   "cell_type": "code",
   "execution_count": 485,
   "metadata": {},
   "outputs": [
    {
     "name": "stdout",
     "output_type": "stream",
     "text": [
      "0.027533619765271022\n"
     ]
    }
   ],
   "source": [
    "from scipy import spatial\n",
    "\n",
    "dataSetI = [3, 45, 7, 2,9,9]\n",
    "dataSetII = [2, 54, 13, 15,9,9]\n",
    "#dataSetII = [3, 45, 7, 2,9,9]\n",
    "\n",
    "result = spatial.distance.cosine(dataSetI, dataSetII)\n",
    "\n",
    "print(result)"
   ]
  },
  {
   "cell_type": "code",
   "execution_count": null,
   "metadata": {},
   "outputs": [],
   "source": []
  }
 ],
 "metadata": {
  "kernelspec": {
   "display_name": "Python 3 (ipykernel)",
   "language": "python",
   "name": "python3"
  },
  "language_info": {
   "codemirror_mode": {
    "name": "ipython",
    "version": 3
   },
   "file_extension": ".py",
   "mimetype": "text/x-python",
   "name": "python",
   "nbconvert_exporter": "python",
   "pygments_lexer": "ipython3",
   "version": "3.10.6"
  }
 },
 "nbformat": 4,
 "nbformat_minor": 4
}
