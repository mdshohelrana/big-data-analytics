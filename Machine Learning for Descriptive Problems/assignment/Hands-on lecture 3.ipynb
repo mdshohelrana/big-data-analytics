{
 "cells": [
  {
   "cell_type": "code",
   "execution_count": 1,
   "metadata": {
    "slideshow": {
     "slide_type": "slide"
    }
   },
   "outputs": [
    {
     "name": "stdout",
     "output_type": "stream",
     "text": [
      "['/home/jovyan/my-work/Descriptive Problems/Lecture_3_Frequent_Itemsets', '/opt/conda/lib/python310.zip', '/opt/conda/lib/python3.10', '/opt/conda/lib/python3.10/lib-dynload', '', '/opt/conda/lib/python3.10/site-packages']\n",
      "\n",
      "/home/jovyan/my-work/Descriptive Problems/Lecture_3_Frequent_Itemsets\n"
     ]
    }
   ],
   "source": [
    "import sys\n",
    "import os\n",
    "\n",
    "ALL_PATHS = sys.path\n",
    "\n",
    "print(ALL_PATHS)\n",
    "print(\"\")\n",
    "CURR_DIR = os.getcwd()\n",
    "print(CURR_DIR)"
   ]
  },
  {
   "cell_type": "code",
   "execution_count": 2,
   "metadata": {
    "slideshow": {
     "slide_type": "fragment"
    }
   },
   "outputs": [
    {
     "name": "stdout",
     "output_type": "stream",
     "text": [
      "OK\n"
     ]
    }
   ],
   "source": [
    "if CURR_DIR in ALL_PATHS:\n",
    "    print(\"OK\")\n",
    "else:\n",
    "    sys.path.insert(0,CURR_DIR)\n",
    "    print(sys.path)"
   ]
  },
  {
   "cell_type": "code",
   "execution_count": 3,
   "metadata": {
    "slideshow": {
     "slide_type": "slide"
    }
   },
   "outputs": [
    {
     "name": "stdout",
     "output_type": "stream",
     "text": [
      "\n",
      "WHITE HANGING HEART T-LIGHT HOLDER\n",
      "WHITE METAL LANTERN\n",
      "CREAM CUPID HEARTS COAT HANGER\n",
      "KNITTED UNION FLAG HOT WATER BOTTLE\n",
      "RED WOOLLY HOTTIE WHITE HEART.\n",
      "SET 7 BABUSHKA NESTING BOXES\n",
      "GLASS STAR FROSTED T-LIGHT HOLDER\n",
      "\n",
      "HAND WARMER UNION JACK\n",
      "HAND WARMER RED POLKA DOT\n",
      "\n",
      "ASSORTED COLOUR BIRD ORNAMENT\n",
      "POPPY'S PLAYHOUSE BEDROOM\n",
      "POPPY'S PLAYHOUSE KITCHEN\n",
      "FELTCRAFT PRINCESS CHARLOTTE DOLL\n",
      "IVORY KNITTED MUG COSY\n",
      "BOX OF 6 ASSORTED COLOUR TEASPOONS\n",
      "BOX OF VINTAGE JIGSAW BLOCKS\n",
      "BOX OF VINTAGE ALPHABET BLOCKS\n"
     ]
    }
   ],
   "source": [
    "# set text encoding for reading a file,\n",
    "# because Python 3 supports all languages with unicode\n",
    "with open(\"data/data.txt\", \"rt\", encoding='latin1') as f:\n",
    "    lines = f.readlines()\n",
    "\n",
    "lines = [l.replace('\\n', '') for l in lines]\n",
    "\n",
    "for l in lines[:20]:\n",
    "    print(l)"
   ]
  },
  {
   "cell_type": "code",
   "execution_count": 4,
   "metadata": {
    "slideshow": {
     "slide_type": "slide"
    }
   },
   "outputs": [
    {
     "data": {
      "text/plain": [
       "['WHITE HANGING HEART T-LIGHT HOLDER',\n",
       " 'WHITE METAL LANTERN',\n",
       " 'CREAM CUPID HEARTS COAT HANGER',\n",
       " 'KNITTED UNION FLAG HOT WATER BOTTLE',\n",
       " 'RED WOOLLY HOTTIE WHITE HEART.',\n",
       " 'SET 7 BABUSHKA NESTING BOXES',\n",
       " 'GLASS STAR FROSTED T-LIGHT HOLDER',\n",
       " '',\n",
       " 'HAND WARMER UNION JACK',\n",
       " 'HAND WARMER RED POLKA DOT',\n",
       " '',\n",
       " 'ASSORTED COLOUR BIRD ORNAMENT',\n",
       " \"POPPY'S PLAYHOUSE BEDROOM\",\n",
       " \"POPPY'S PLAYHOUSE KITCHEN\",\n",
       " 'FELTCRAFT PRINCESS CHARLOTTE DOLL',\n",
       " 'IVORY KNITTED MUG COSY',\n",
       " 'BOX OF 6 ASSORTED COLOUR TEASPOONS',\n",
       " 'BOX OF VINTAGE JIGSAW BLOCKS',\n",
       " 'BOX OF VINTAGE ALPHABET BLOCKS']"
      ]
     },
     "execution_count": 4,
     "metadata": {},
     "output_type": "execute_result"
    }
   ],
   "source": [
    "lines[1:20]"
   ]
  },
  {
   "cell_type": "code",
   "execution_count": 5,
   "metadata": {
    "slideshow": {
     "slide_type": "slide"
    }
   },
   "outputs": [
    {
     "name": "stdout",
     "output_type": "stream",
     "text": [
      "27355\n"
     ]
    }
   ],
   "source": [
    "# count the number of empty spaces to estimate the number of baskets\n",
    "with open(\"data/data.txt\", \"rt\", encoding='latin1') as f:\n",
    "    nbaskets = sum(line.isspace() for line in f) \n",
    "    print(nbaskets) "
   ]
  },
  {
   "cell_type": "markdown",
   "metadata": {
    "cell_style": "split",
    "slideshow": {
     "slide_type": "slide"
    }
   },
   "source": [
    "#### _Itertools_\n",
    "\n",
    "Functions creating iterators for efficient looping\n",
    "https://docs.python.org/3/library/itertools.html"
   ]
  },
  {
   "cell_type": "code",
   "execution_count": 6,
   "metadata": {
    "cell_style": "split",
    "slideshow": {
     "slide_type": "-"
    }
   },
   "outputs": [
    {
     "name": "stdout",
     "output_type": "stream",
     "text": [
      "<class 'itertools.combinations'>\n",
      "('a', 'b')\n",
      "('a', 'c')\n",
      "('a', 'd')\n",
      "('b', 'c')\n",
      "('b', 'd')\n",
      "('c', 'd')\n"
     ]
    }
   ],
   "source": [
    "import itertools\n",
    "\n",
    "eg_list = ['a','b','c','d']\n",
    "n_comb = 2\n",
    "\n",
    "final_list = itertools.combinations(eg_list, n_comb)\n",
    "print(type(final_list))\n",
    "\n",
    "for element in final_list:\n",
    "    print(element)"
   ]
  },
  {
   "cell_type": "code",
   "execution_count": 7,
   "metadata": {
    "scrolled": true,
    "slideshow": {
     "slide_type": "slide"
    }
   },
   "outputs": [
    {
     "name": "stdout",
     "output_type": "stream",
     "text": [
      "('WHITE HANGING HEART T-LIGHT HOLDER', 'WHITE METAL LANTERN')\n",
      "('WHITE HANGING HEART T-LIGHT HOLDER', 'CREAM CUPID HEARTS COAT HANGER')\n",
      "('WHITE HANGING HEART T-LIGHT HOLDER', 'KNITTED UNION FLAG HOT WATER BOTTLE')\n",
      "('WHITE HANGING HEART T-LIGHT HOLDER', 'RED WOOLLY HOTTIE WHITE HEART.')\n",
      "('WHITE HANGING HEART T-LIGHT HOLDER', 'SET 7 BABUSHKA NESTING BOXES')\n",
      "('WHITE HANGING HEART T-LIGHT HOLDER', 'GLASS STAR FROSTED T-LIGHT HOLDER')\n",
      "('WHITE METAL LANTERN', 'CREAM CUPID HEARTS COAT HANGER')\n",
      "('WHITE METAL LANTERN', 'KNITTED UNION FLAG HOT WATER BOTTLE')\n",
      "('WHITE METAL LANTERN', 'RED WOOLLY HOTTIE WHITE HEART.')\n",
      "('WHITE METAL LANTERN', 'SET 7 BABUSHKA NESTING BOXES')\n",
      "('WHITE METAL LANTERN', 'GLASS STAR FROSTED T-LIGHT HOLDER')\n",
      "('CREAM CUPID HEARTS COAT HANGER', 'KNITTED UNION FLAG HOT WATER BOTTLE')\n",
      "('CREAM CUPID HEARTS COAT HANGER', 'RED WOOLLY HOTTIE WHITE HEART.')\n",
      "('CREAM CUPID HEARTS COAT HANGER', 'SET 7 BABUSHKA NESTING BOXES')\n",
      "('CREAM CUPID HEARTS COAT HANGER', 'GLASS STAR FROSTED T-LIGHT HOLDER')\n",
      "('KNITTED UNION FLAG HOT WATER BOTTLE', 'RED WOOLLY HOTTIE WHITE HEART.')\n",
      "('KNITTED UNION FLAG HOT WATER BOTTLE', 'SET 7 BABUSHKA NESTING BOXES')\n",
      "('KNITTED UNION FLAG HOT WATER BOTTLE', 'GLASS STAR FROSTED T-LIGHT HOLDER')\n",
      "('RED WOOLLY HOTTIE WHITE HEART.', 'SET 7 BABUSHKA NESTING BOXES')\n",
      "('RED WOOLLY HOTTIE WHITE HEART.', 'GLASS STAR FROSTED T-LIGHT HOLDER')\n",
      "('SET 7 BABUSHKA NESTING BOXES', 'GLASS STAR FROSTED T-LIGHT HOLDER')\n"
     ]
    }
   ],
   "source": [
    "import itertools\n",
    "\n",
    "for c in itertools.combinations(lines[1:8], 2):\n",
    "    print(c)"
   ]
  },
  {
   "cell_type": "code",
   "execution_count": 8,
   "metadata": {
    "cell_style": "split",
    "slideshow": {
     "slide_type": "-"
    }
   },
   "outputs": [
    {
     "name": "stdout",
     "output_type": "stream",
     "text": [
      "True\n"
     ]
    }
   ],
   "source": [
    "x = frozenset(['a', 'b'])\n",
    "y = frozenset(['b', 'a'])\n",
    "print(x == y)"
   ]
  },
  {
   "cell_type": "code",
   "execution_count": 9,
   "metadata": {
    "cell_style": "split",
    "slideshow": {
     "slide_type": "-"
    }
   },
   "outputs": [
    {
     "name": "stdout",
     "output_type": "stream",
     "text": [
      "The frozen set is: frozenset({'age', 'sex', 'name'})\n"
     ]
    }
   ],
   "source": [
    "person = {\"name\": \"John\", \"age\": 23, \"sex\": \"male\"}\n",
    "\n",
    "fSet = frozenset(person)\n",
    "print('The frozen set is:', fSet)"
   ]
  },
  {
   "cell_type": "code",
   "execution_count": 10,
   "metadata": {
    "slideshow": {
     "slide_type": "slide"
    }
   },
   "outputs": [],
   "source": [
    "def readdata(k, fname=\"data/data.txt\", report=False):\n",
    "    C_k = []\n",
    "    b = 0\n",
    "    \n",
    "    with open(fname, \"rt\", encoding='latin1') as f:\n",
    "        for line in f:\n",
    "            line = line.replace('\\n', '')  # remove newline symbol\n",
    "            if report:\n",
    "                print(line)\n",
    "         \n",
    "            if line != \"\":\n",
    "                # gather all items in one basket\n",
    "                C_k.append(line)\n",
    "            else:\n",
    "                # end of basket, report all itemsets\n",
    "                for itemset in itertools.combinations(C_k, k):\n",
    "                    yield frozenset(itemset)\n",
    "                C_k = []\n",
    "                \n",
    "                if report:\n",
    "                    print(\"\")\n",
    "\n",
    "                # report progress\n",
    "                # print every 1000th element to reduce clutter\n",
    "                if report:\n",
    "                    if b % 1000 == 0:\n",
    "                        print('processing bin ', b)\n",
    "                    b += 1\n",
    "\n",
    "    # last basket\n",
    "    if len(C_k) > 0:\n",
    "        for itemset in itertools.combinations(C_k, k):\n",
    "            yield frozenset(itemset)\n",
    "    "
   ]
  },
  {
   "cell_type": "code",
   "execution_count": 11,
   "metadata": {
    "scrolled": true,
    "slideshow": {
     "slide_type": "slide"
    }
   },
   "outputs": [
    {
     "name": "stdout",
     "output_type": "stream",
     "text": [
      "\n",
      "\n",
      "processing bin  0\n",
      "WHITE HANGING HEART T-LIGHT HOLDER\n",
      "WHITE METAL LANTERN\n",
      "CREAM CUPID HEARTS COAT HANGER\n",
      "KNITTED UNION FLAG HOT WATER BOTTLE\n",
      "RED WOOLLY HOTTIE WHITE HEART.\n",
      "SET 7 BABUSHKA NESTING BOXES\n",
      "GLASS STAR FROSTED T-LIGHT HOLDER\n",
      "\n",
      "frozenset({'WHITE HANGING HEART T-LIGHT HOLDER'})\n",
      "frozenset({'WHITE METAL LANTERN'})\n",
      "frozenset({'CREAM CUPID HEARTS COAT HANGER'})\n",
      "frozenset({'KNITTED UNION FLAG HOT WATER BOTTLE'})\n",
      "frozenset({'RED WOOLLY HOTTIE WHITE HEART.'})\n",
      "frozenset({'SET 7 BABUSHKA NESTING BOXES'})\n",
      "frozenset({'GLASS STAR FROSTED T-LIGHT HOLDER'})\n",
      "\n",
      "HAND WARMER UNION JACK\n",
      "HAND WARMER RED POLKA DOT\n",
      "\n",
      "frozenset({'HAND WARMER UNION JACK'})\n",
      "frozenset({'HAND WARMER RED POLKA DOT'})\n",
      "\n",
      "ASSORTED COLOUR BIRD ORNAMENT\n",
      "POPPY'S PLAYHOUSE BEDROOM\n",
      "POPPY'S PLAYHOUSE KITCHEN\n",
      "FELTCRAFT PRINCESS CHARLOTTE DOLL\n",
      "IVORY KNITTED MUG COSY\n",
      "BOX OF 6 ASSORTED COLOUR TEASPOONS\n",
      "BOX OF VINTAGE JIGSAW BLOCKS\n",
      "BOX OF VINTAGE ALPHABET BLOCKS\n",
      "HOME BUILDING BLOCK WORD\n",
      "LOVE BUILDING BLOCK WORD\n",
      "RECIPE BOX WITH METAL HEART\n",
      "DOORMAT NEW ENGLAND\n",
      "\n",
      "frozenset({'ASSORTED COLOUR BIRD ORNAMENT'})\n",
      "frozenset({\"POPPY'S PLAYHOUSE BEDROOM\"})\n",
      "frozenset({\"POPPY'S PLAYHOUSE KITCHEN\"})\n",
      "frozenset({'FELTCRAFT PRINCESS CHARLOTTE DOLL'})\n",
      "frozenset({'IVORY KNITTED MUG COSY'})\n",
      "frozenset({'BOX OF 6 ASSORTED COLOUR TEASPOONS'})\n",
      "frozenset({'BOX OF VINTAGE JIGSAW BLOCKS'})\n",
      "frozenset({'BOX OF VINTAGE ALPHABET BLOCKS'})\n",
      "frozenset({'HOME BUILDING BLOCK WORD'})\n",
      "frozenset({'LOVE BUILDING BLOCK WORD'})\n",
      "frozenset({'RECIPE BOX WITH METAL HEART'})\n",
      "frozenset({'DOORMAT NEW ENGLAND'})\n"
     ]
    }
   ],
   "source": [
    "nitems = 21\n",
    "for C_k in readdata(k=1, report=True):\n",
    "    print(C_k)\n",
    "    nitems -= 1\n",
    "    \n",
    "    if nitems == 0:\n",
    "        break"
   ]
  },
  {
   "cell_type": "code",
   "execution_count": 12,
   "metadata": {
    "slideshow": {
     "slide_type": "slide"
    }
   },
   "outputs": [
    {
     "name": "stdout",
     "output_type": "stream",
     "text": [
      "Took 0.39456939697265625s for k=1\n",
      "Took 38.18716287612915s for k=2\n"
     ]
    }
   ],
   "source": [
    "import time\n",
    "\n",
    "def get_C(k):\n",
    "\n",
    "    start = time.time()\n",
    "    C = {}\n",
    "    for key in readdata(k):  # False report\n",
    "        if key not in C:\n",
    "            C[key] = 1\n",
    "        else:\n",
    "            C[key] += 1\n",
    "    print(\"Took {}s for k={}\".format((time.time() - start), k))\n",
    "    return C\n",
    "\n",
    "\n",
    "C1 = get_C(1)\n",
    "C2 = get_C(2)"
   ]
  },
  {
   "cell_type": "code",
   "execution_count": 13,
   "metadata": {
    "slideshow": {
     "slide_type": "fragment"
    }
   },
   "outputs": [
    {
     "name": "stdout",
     "output_type": "stream",
     "text": [
      "4214 3799664\n"
     ]
    }
   ],
   "source": [
    "print(len(C1),len(C2))"
   ]
  },
  {
   "cell_type": "code",
   "execution_count": 14,
   "metadata": {
    "slideshow": {
     "slide_type": "slide"
    }
   },
   "outputs": [
    {
     "name": "stdout",
     "output_type": "stream",
     "text": [
      "frozenset({'WHITE METAL LANTERN', 'WHITE HANGING HEART T-LIGHT HOLDER'}) 115\n",
      "frozenset({'CREAM CUPID HEARTS COAT HANGER', 'WHITE HANGING HEART T-LIGHT HOLDER'}) 117\n",
      "frozenset({'KNITTED UNION FLAG HOT WATER BOTTLE', 'WHITE HANGING HEART T-LIGHT HOLDER'}) 162\n",
      "frozenset({'RED WOOLLY HOTTIE WHITE HEART.', 'WHITE HANGING HEART T-LIGHT HOLDER'}) 108\n",
      "frozenset({'SET 7 BABUSHKA NESTING BOXES', 'WHITE HANGING HEART T-LIGHT HOLDER'}) 105\n",
      "frozenset({'GLASS STAR FROSTED T-LIGHT HOLDER', 'WHITE HANGING HEART T-LIGHT HOLDER'}) 74\n",
      "frozenset({'WHITE METAL LANTERN', 'CREAM CUPID HEARTS COAT HANGER'}) 36\n",
      "frozenset({'WHITE METAL LANTERN', 'KNITTED UNION FLAG HOT WATER BOTTLE'}) 43\n",
      "frozenset({'WHITE METAL LANTERN', 'RED WOOLLY HOTTIE WHITE HEART.'}) 31\n",
      "frozenset({'WHITE METAL LANTERN', 'SET 7 BABUSHKA NESTING BOXES'}) 33\n"
     ]
    }
   ],
   "source": [
    "nitems = 10\n",
    "for ck,n in C2.items():\n",
    "    print(ck, n)\n",
    "    nitems -= 1\n",
    "    if nitems == 0: break"
   ]
  },
  {
   "cell_type": "code",
   "execution_count": 15,
   "metadata": {
    "slideshow": {
     "slide_type": "fragment"
    }
   },
   "outputs": [
    {
     "name": "stdout",
     "output_type": "stream",
     "text": [
      "CPU times: user 3 µs, sys: 0 ns, total: 3 µs\n",
      "Wall time: 5.96 µs\n",
      "8826 items with >100 occurances\n"
     ]
    }
   ],
   "source": [
    "%time\n",
    "s = 100 # support threshold\n",
    "L2 = {}\n",
    "for key, n in C2.items():\n",
    "    if n >= s:\n",
    "        L2[key] = n\n",
    "print('{} items with >{} occurances'.format(len(L2), s))"
   ]
  },
  {
   "cell_type": "code",
   "execution_count": 16,
   "metadata": {
    "slideshow": {
     "slide_type": "slide"
    }
   },
   "outputs": [
    {
     "data": {
      "text/plain": [
       "{frozenset({'WHITE HANGING HEART T-LIGHT HOLDER', 'WHITE METAL LANTERN'}): 115,\n",
       " frozenset({'CREAM CUPID HEARTS COAT HANGER',\n",
       "            'WHITE HANGING HEART T-LIGHT HOLDER'}): 117,\n",
       " frozenset({'KNITTED UNION FLAG HOT WATER BOTTLE',\n",
       "            'WHITE HANGING HEART T-LIGHT HOLDER'}): 162,\n",
       " frozenset({'RED WOOLLY HOTTIE WHITE HEART.',\n",
       "            'WHITE HANGING HEART T-LIGHT HOLDER'}): 108,\n",
       " frozenset({'SET 7 BABUSHKA NESTING BOXES',\n",
       "            'WHITE HANGING HEART T-LIGHT HOLDER'}): 105,\n",
       " frozenset({'KNITTED UNION FLAG HOT WATER BOTTLE',\n",
       "            'RED WOOLLY HOTTIE WHITE HEART.'}): 156,\n",
       " frozenset({'ASSORTED COLOUR BIRD ORNAMENT', 'HOME BUILDING BLOCK WORD'}): 175,\n",
       " frozenset({'ASSORTED COLOUR BIRD ORNAMENT', 'LOVE BUILDING BLOCK WORD'}): 126,\n",
       " frozenset({\"POPPY'S PLAYHOUSE BEDROOM\", \"POPPY'S PLAYHOUSE KITCHEN\"}): 334,\n",
       " frozenset({'HOME BUILDING BLOCK WORD', 'LOVE BUILDING BLOCK WORD'}): 345,\n",
       " frozenset({'ALARM CLOCK BAKELIKE PINK', 'ALARM CLOCK BAKELIKE RED'}): 513,\n",
       " frozenset({'ALARM CLOCK BAKELIKE GREEN', 'ALARM CLOCK BAKELIKE PINK'}): 446,\n",
       " frozenset({'ALARM CLOCK BAKELIKE PINK',\n",
       "            'ROUND SNACK BOXES SET OF4 WOODLAND'}): 114,\n",
       " frozenset({'ALARM CLOCK BAKELIKE PINK', 'SPACEBOY LUNCH BOX'}): 122,\n",
       " frozenset({'ALARM CLOCK BAKELIKE PINK',\n",
       "            'RED TOADSTOOL LED NIGHT LIGHT'}): 132,\n",
       " frozenset({'ALARM CLOCK BAKELIKE GREEN', 'ALARM CLOCK BAKELIKE RED'}): 711,\n",
       " frozenset({'ALARM CLOCK BAKELIKE RED',\n",
       "            'VINTAGE HEADS AND TAILS CARD GAME'}): 101,\n",
       " frozenset({'ALARM CLOCK BAKELIKE RED',\n",
       "            'ROUND SNACK BOXES SET OF4 WOODLAND'}): 133,\n",
       " frozenset({'ALARM CLOCK BAKELIKE RED', 'SPACEBOY LUNCH BOX'}): 135,\n",
       " frozenset({'ALARM CLOCK BAKELIKE RED', 'LUNCH BOX I LOVE LONDON'}): 114,\n",
       " frozenset({'ALARM CLOCK BAKELIKE RED', 'CIRCUS PARADE LUNCH BOX'}): 116,\n",
       " frozenset({'ALARM CLOCK BAKELIKE RED', 'RED TOADSTOOL LED NIGHT LIGHT'}): 126,\n",
       " frozenset({'ALARM CLOCK BAKELIKE GREEN',\n",
       "            'VINTAGE HEADS AND TAILS CARD GAME'}): 110,\n",
       " frozenset({'ALARM CLOCK BAKELIKE GREEN',\n",
       "            'ROUND SNACK BOXES SET OF4 WOODLAND'}): 140,\n",
       " frozenset({'ALARM CLOCK BAKELIKE GREEN', 'SPACEBOY LUNCH BOX'}): 134,\n",
       " frozenset({'ALARM CLOCK BAKELIKE GREEN', 'LUNCH BOX I LOVE LONDON'}): 122,\n",
       " frozenset({'ALARM CLOCK BAKELIKE GREEN', 'CIRCUS PARADE LUNCH BOX'}): 117,\n",
       " frozenset({'ALARM CLOCK BAKELIKE GREEN',\n",
       "            'RED TOADSTOOL LED NIGHT LIGHT'}): 133,\n",
       " frozenset({'SPACEBOY LUNCH BOX', 'VINTAGE HEADS AND TAILS CARD GAME'}): 100,\n",
       " frozenset({'RED TOADSTOOL LED NIGHT LIGHT',\n",
       "            'VINTAGE HEADS AND TAILS CARD GAME'}): 134,\n",
       " frozenset({'ROUND SNACK BOXES SET OF4 WOODLAND', 'SPACEBOY LUNCH BOX'}): 224,\n",
       " frozenset({'LUNCH BOX I LOVE LONDON',\n",
       "            'ROUND SNACK BOXES SET OF4 WOODLAND'}): 102,\n",
       " frozenset({'CIRCUS PARADE LUNCH BOX',\n",
       "            'ROUND SNACK BOXES SET OF4 WOODLAND'}): 126,\n",
       " frozenset({'RED TOADSTOOL LED NIGHT LIGHT',\n",
       "            'ROUND SNACK BOXES SET OF4 WOODLAND'}): 172,\n",
       " frozenset({'POSTAGE', 'ROUND SNACK BOXES SET OF4 WOODLAND'}): 238,\n",
       " frozenset({'LUNCH BOX I LOVE LONDON', 'SPACEBOY LUNCH BOX'}): 285,\n",
       " frozenset({'CIRCUS PARADE LUNCH BOX', 'SPACEBOY LUNCH BOX'}): 187,\n",
       " frozenset({'RED TOADSTOOL LED NIGHT LIGHT', 'SPACEBOY LUNCH BOX'}): 182,\n",
       " frozenset({'POSTAGE', 'SPACEBOY LUNCH BOX'}): 127,\n",
       " frozenset({'CIRCUS PARADE LUNCH BOX', 'LUNCH BOX I LOVE LONDON'}): 156,\n",
       " frozenset({'LUNCH BOX I LOVE LONDON', 'RED TOADSTOOL LED NIGHT LIGHT'}): 151,\n",
       " frozenset({' SET 2 TEA TOWELS I LOVE LONDON',\n",
       "            'LUNCH BOX I LOVE LONDON'}): 112,\n",
       " frozenset({'POSTAGE', 'RED TOADSTOOL LED NIGHT LIGHT'}): 132,\n",
       " frozenset({'SAVE THE PLANET MUG', 'WHITE HANGING HEART T-LIGHT HOLDER'}): 136,\n",
       " frozenset({'WHITE HANGING HEART T-LIGHT HOLDER',\n",
       "            'WOOD 2 DRAWER CABINET WHITE FINISH'}): 199,\n",
       " frozenset({'WHITE HANGING HEART T-LIGHT HOLDER',\n",
       "            'WOOD S/3 CABINET ANT WHITE FINISH'}): 142,\n",
       " frozenset({'WHITE HANGING HEART T-LIGHT HOLDER',\n",
       "            'WOODEN PICTURE FRAME WHITE FINISH'}): 427,\n",
       " frozenset({'WHITE HANGING HEART T-LIGHT HOLDER',\n",
       "            'WOODEN FRAME ANTIQUE WHITE'}): 352,\n",
       " frozenset({'WOOD 2 DRAWER CABINET WHITE FINISH',\n",
       "            'WOOD S/3 CABINET ANT WHITE FINISH'}): 187,\n",
       " frozenset({'WOOD 2 DRAWER CABINET WHITE FINISH',\n",
       "            'WOODEN PICTURE FRAME WHITE FINISH'}): 228,\n",
       " frozenset({'WOOD 2 DRAWER CABINET WHITE FINISH',\n",
       "            'WOODEN FRAME ANTIQUE WHITE'}): 221,\n",
       " frozenset({'WOOD S/3 CABINET ANT WHITE FINISH',\n",
       "            'WOODEN PICTURE FRAME WHITE FINISH'}): 158,\n",
       " frozenset({'WOOD S/3 CABINET ANT WHITE FINISH',\n",
       "            'WOODEN FRAME ANTIQUE WHITE'}): 130,\n",
       " frozenset({'WOODEN FRAME ANTIQUE WHITE',\n",
       "            'WOODEN PICTURE FRAME WHITE FINISH'}): 559,\n",
       " frozenset({'JUMBO  BAG BAROQUE BLACK WHITE', 'JUMBO BAG PINK POLKADOT'}): 429,\n",
       " frozenset({'JUMBO BAG CHARLIE AND LOLA TOYS',\n",
       "            'JUMBO BAG PINK POLKADOT'}): 133,\n",
       " frozenset({'JUMBO BAG PINK POLKADOT', 'STRAWBERRY CHARLOTTE BAG'}): 177,\n",
       " frozenset({'JUMBO BAG PINK POLKADOT', 'SET/6 RED SPOTTY PAPER PLATES'}): 119,\n",
       " frozenset({'JUMBO BAG PINK POLKADOT', 'LUNCH BAG RED RETROSPOT'}): 344,\n",
       " frozenset({'JUMBO BAG PINK POLKADOT',\n",
       "            'STRAWBERRY LUNCH BOX WITH CUTLERY'}): 142,\n",
       " frozenset({'JUMBO BAG PINK POLKADOT',\n",
       "            'LUNCH BOX WITH CUTLERY RETROSPOT'}): 140,\n",
       " frozenset({'JUMBO BAG PINK POLKADOT',\n",
       "            'PACK OF 72 RETROSPOT CAKE CASES'}): 184,\n",
       " frozenset({'JUMBO BAG PINK POLKADOT',\n",
       "            'PACK OF 60 PINK PAISLEY CAKE CASES'}): 138,\n",
       " frozenset({'60 TEATIME FAIRY CAKE CASES', 'JUMBO BAG PINK POLKADOT'}): 115,\n",
       " frozenset({'JUMBO BAG PINK POLKADOT', 'JUMBO STORAGE BAG SUKI'}): 541,\n",
       " frozenset({'JUMBO BAG PINK POLKADOT', 'JUMBO BAG PINK VINTAGE PAISLEY'}): 392,\n",
       " frozenset({'JUMBO  BAG BAROQUE BLACK WHITE',\n",
       "            'JUMBO BAG CHARLIE AND LOLA TOYS'}): 111,\n",
       " frozenset({'JUMBO  BAG BAROQUE BLACK WHITE',\n",
       "            'STRAWBERRY CHARLOTTE BAG'}): 134,\n",
       " frozenset({'JUMBO  BAG BAROQUE BLACK WHITE', 'LUNCH BAG RED RETROSPOT'}): 267,\n",
       " frozenset({'JUMBO  BAG BAROQUE BLACK WHITE',\n",
       "            'STRAWBERRY LUNCH BOX WITH CUTLERY'}): 102,\n",
       " frozenset({'JUMBO  BAG BAROQUE BLACK WHITE',\n",
       "            'LUNCH BOX WITH CUTLERY RETROSPOT'}): 102,\n",
       " frozenset({'JUMBO  BAG BAROQUE BLACK WHITE',\n",
       "            'PACK OF 72 RETROSPOT CAKE CASES'}): 148,\n",
       " frozenset({'JUMBO  BAG BAROQUE BLACK WHITE',\n",
       "            'PACK OF 60 PINK PAISLEY CAKE CASES'}): 114,\n",
       " frozenset({'60 TEATIME FAIRY CAKE CASES',\n",
       "            'JUMBO  BAG BAROQUE BLACK WHITE'}): 108,\n",
       " frozenset({'JUMBO  BAG BAROQUE BLACK WHITE', 'JUMBO STORAGE BAG SUKI'}): 439,\n",
       " frozenset({'JUMBO  BAG BAROQUE BLACK WHITE',\n",
       "            'JUMBO BAG PINK VINTAGE PAISLEY'}): 285,\n",
       " frozenset({'JUMBO BAG CHARLIE AND LOLA TOYS', 'JUMBO STORAGE BAG SUKI'}): 163,\n",
       " frozenset({'LUNCH BAG RED RETROSPOT', 'STRAWBERRY CHARLOTTE BAG'}): 318,\n",
       " frozenset({'PACK OF 72 RETROSPOT CAKE CASES',\n",
       "            'STRAWBERRY CHARLOTTE BAG'}): 276,\n",
       " frozenset({'PACK OF 60 DINOSAUR CAKE CASES',\n",
       "            'STRAWBERRY CHARLOTTE BAG'}): 111,\n",
       " frozenset({'PACK OF 60 PINK PAISLEY CAKE CASES',\n",
       "            'STRAWBERRY CHARLOTTE BAG'}): 119,\n",
       " frozenset({'60 TEATIME FAIRY CAKE CASES', 'STRAWBERRY CHARLOTTE BAG'}): 158,\n",
       " frozenset({'JUMBO STORAGE BAG SUKI', 'STRAWBERRY CHARLOTTE BAG'}): 193,\n",
       " frozenset({'JUMBO BAG PINK VINTAGE PAISLEY',\n",
       "            'STRAWBERRY CHARLOTTE BAG'}): 175,\n",
       " frozenset({'LUNCH BAG RED RETROSPOT', 'SET/6 RED SPOTTY PAPER PLATES'}): 130,\n",
       " frozenset({'PACK OF 72 RETROSPOT CAKE CASES',\n",
       "            'SET/6 RED SPOTTY PAPER PLATES'}): 187,\n",
       " frozenset({'PACK OF 60 PINK PAISLEY CAKE CASES',\n",
       "            'SET/6 RED SPOTTY PAPER PLATES'}): 108,\n",
       " frozenset({'JUMBO STORAGE BAG SUKI', 'SET/6 RED SPOTTY PAPER PLATES'}): 125,\n",
       " frozenset({'LUNCH BAG RED RETROSPOT',\n",
       "            'STRAWBERRY LUNCH BOX WITH CUTLERY'}): 181,\n",
       " frozenset({'LUNCH BAG RED RETROSPOT',\n",
       "            'LUNCH BOX WITH CUTLERY RETROSPOT'}): 163,\n",
       " frozenset({'LUNCH BAG RED RETROSPOT',\n",
       "            'PACK OF 72 RETROSPOT CAKE CASES'}): 386,\n",
       " frozenset({'LUNCH BAG RED RETROSPOT', 'PACK OF 60 DINOSAUR CAKE CASES'}): 171,\n",
       " frozenset({'LUNCH BAG RED RETROSPOT',\n",
       "            'PACK OF 60 PINK PAISLEY CAKE CASES'}): 178,\n",
       " frozenset({'60 TEATIME FAIRY CAKE CASES', 'LUNCH BAG RED RETROSPOT'}): 201,\n",
       " frozenset({'JUMBO STORAGE BAG SUKI', 'LUNCH BAG RED RETROSPOT'}): 354,\n",
       " frozenset({'JUMBO BAG PINK VINTAGE PAISLEY', 'LUNCH BAG RED RETROSPOT'}): 258,\n",
       " frozenset({'LUNCH BOX WITH CUTLERY RETROSPOT',\n",
       "            'STRAWBERRY LUNCH BOX WITH CUTLERY'}): 228,\n",
       " frozenset({'PACK OF 72 RETROSPOT CAKE CASES',\n",
       "            'STRAWBERRY LUNCH BOX WITH CUTLERY'}): 116,\n",
       " frozenset({'JUMBO STORAGE BAG SUKI',\n",
       "            'STRAWBERRY LUNCH BOX WITH CUTLERY'}): 137,\n",
       " frozenset({'JUMBO STORAGE BAG SUKI',\n",
       "            'LUNCH BOX WITH CUTLERY RETROSPOT'}): 135,\n",
       " frozenset({'PACK OF 60 DINOSAUR CAKE CASES',\n",
       "            'PACK OF 72 RETROSPOT CAKE CASES'}): 364,\n",
       " frozenset({'PACK OF 60 PINK PAISLEY CAKE CASES',\n",
       "            'PACK OF 72 RETROSPOT CAKE CASES'}): 466,\n",
       " frozenset({'60 TEATIME FAIRY CAKE CASES',\n",
       "            'PACK OF 72 RETROSPOT CAKE CASES'}): 510,\n",
       " frozenset({'JUMBO STORAGE BAG SUKI', 'PACK OF 72 RETROSPOT CAKE CASES'}): 207,\n",
       " frozenset({'JUMBO BAG PINK VINTAGE PAISLEY',\n",
       "            'PACK OF 72 RETROSPOT CAKE CASES'}): 182,\n",
       " frozenset({'PACK OF 60 DINOSAUR CAKE CASES',\n",
       "            'PACK OF 60 PINK PAISLEY CAKE CASES'}): 257,\n",
       " frozenset({'60 TEATIME FAIRY CAKE CASES',\n",
       "            'PACK OF 60 DINOSAUR CAKE CASES'}): 300,\n",
       " frozenset({'JUMBO STORAGE BAG SUKI', 'PACK OF 60 DINOSAUR CAKE CASES'}): 109,\n",
       " frozenset({'60 TEATIME FAIRY CAKE CASES',\n",
       "            'PACK OF 60 PINK PAISLEY CAKE CASES'}): 379,\n",
       " frozenset({'JUMBO STORAGE BAG SUKI',\n",
       "            'PACK OF 60 PINK PAISLEY CAKE CASES'}): 155,\n",
       " frozenset({'JUMBO BAG PINK VINTAGE PAISLEY',\n",
       "            'PACK OF 60 PINK PAISLEY CAKE CASES'}): 138,\n",
       " frozenset({'60 TEATIME FAIRY CAKE CASES', 'JUMBO STORAGE BAG SUKI'}): 141,\n",
       " frozenset({'60 TEATIME FAIRY CAKE CASES',\n",
       "            'JUMBO BAG PINK VINTAGE PAISLEY'}): 140,\n",
       " frozenset({'JUMBO BAG PINK VINTAGE PAISLEY', 'JUMBO STORAGE BAG SUKI'}): 377,\n",
       " frozenset({'JUMBO SHOPPER VINTAGE RED PAISLEY',\n",
       "            'RETROSPOT TEA SET CERAMIC 11 PC'}): 146,\n",
       " frozenset({\"PAPER CHAIN KIT 50'S CHRISTMAS\",\n",
       "            'RETROSPOT TEA SET CERAMIC 11 PC'}): 127,\n",
       " frozenset({'RED TOADSTOOL LED NIGHT LIGHT',\n",
       "            'RETROSPOT TEA SET CERAMIC 11 PC'}): 151,\n",
       " frozenset({'JUMBO SHOPPER VINTAGE RED PAISLEY', 'SKULL SHOULDER BAG'}): 142,\n",
       " frozenset({'JUMBO SHOPPER VINTAGE RED PAISLEY',\n",
       "            \"PAPER CHAIN KIT 50'S CHRISTMAS\"}): 143,\n",
       " frozenset({'JUMBO SHOPPER VINTAGE RED PAISLEY',\n",
       "            'PAPER CHAIN KIT RETROSPOT'}): 124,\n",
       " frozenset({'EDWARDIAN PARASOL NATURAL',\n",
       "            'JUMBO SHOPPER VINTAGE RED PAISLEY'}): 148,\n",
       " frozenset({'JUMBO SHOPPER VINTAGE RED PAISLEY',\n",
       "            'RED TOADSTOOL LED NIGHT LIGHT'}): 212,\n",
       " frozenset({'CLEAR DRAWER KNOB ACRYLIC EDWARDIAN',\n",
       "            'WHITE SPOT RED CERAMIC DRAWER KNOB'}): 106,\n",
       " frozenset({\"PAPER CHAIN KIT 50'S CHRISTMAS\", 'SKULL SHOULDER BAG'}): 126,\n",
       " frozenset({'PAPER CHAIN KIT RETROSPOT', 'SKULL SHOULDER BAG'}): 109,\n",
       " frozenset({'RED TOADSTOOL LED NIGHT LIGHT', 'SKULL SHOULDER BAG'}): 157,\n",
       " frozenset({'COOK WITH WINE METAL SIGN',\n",
       "            \"YOU'RE CONFUSING ME METAL SIGN\"}): 178,\n",
       " frozenset({'GIN + TONIC DIET METAL SIGN',\n",
       "            \"YOU'RE CONFUSING ME METAL SIGN\"}): 165,\n",
       " frozenset({'COOK WITH WINE METAL SIGN', 'GIN + TONIC DIET METAL SIGN'}): 314,\n",
       " frozenset({'GIN + TONIC DIET METAL SIGN',\n",
       "            \"PAPER CHAIN KIT 50'S CHRISTMAS\"}): 100,\n",
       " frozenset({\"PAPER CHAIN KIT 50'S CHRISTMAS\",\n",
       "            'PAPER CHAIN KIT RETROSPOT'}): 181,\n",
       " frozenset({\"PAPER CHAIN KIT 50'S CHRISTMAS\",\n",
       "            'RED TOADSTOOL LED NIGHT LIGHT'}): 155,\n",
       " frozenset({'PAPER CHAIN KIT RETROSPOT',\n",
       "            'RED TOADSTOOL LED NIGHT LIGHT'}): 111,\n",
       " frozenset({'CERAMIC CHERRY CAKE MONEY BANK',\n",
       "            'CERAMIC STRAWBERRY CAKE MONEY BANK'}): 154,\n",
       " frozenset({'EDWARDIAN PARASOL BLACK', 'EDWARDIAN PARASOL NATURAL'}): 199,\n",
       " frozenset({'EDWARDIAN PARASOL NATURAL',\n",
       "            'RED TOADSTOOL LED NIGHT LIGHT'}): 108,\n",
       " frozenset({'JUMBO SHOPPER VINTAGE RED PAISLEY',\n",
       "            'RECYCLING BAG RETROSPOT'}): 264,\n",
       " frozenset({'JUMBO SHOPPER VINTAGE RED PAISLEY',\n",
       "            'TOY TIDY PINK POLKADOT'}): 161,\n",
       " frozenset({'ALARM CLOCK BAKELIKE GREEN',\n",
       "            'JUMBO SHOPPER VINTAGE RED PAISLEY'}): 121,\n",
       " frozenset({'RECYCLING BAG RETROSPOT', 'TOY TIDY PINK POLKADOT'}): 282,\n",
       " frozenset({'NATURAL SLATE HEART CHALKBOARD',\n",
       "            'WOOD BLACK BOARD ANT WHITE FINISH'}): 134,\n",
       " frozenset({'HEART OF WICKER SMALL',\n",
       "            'WOOD BLACK BOARD ANT WHITE FINISH'}): 124,\n",
       " frozenset({'HEART OF WICKER LARGE',\n",
       "            'WOOD BLACK BOARD ANT WHITE FINISH'}): 101,\n",
       " frozenset({'COLOUR GLASS T-LIGHT HOLDER HANGING',\n",
       "            'NATURAL SLATE HEART CHALKBOARD'}): 114,\n",
       " frozenset({'HANGING METAL HEART LANTERN',\n",
       "            'NATURAL SLATE HEART CHALKBOARD'}): 114,\n",
       " frozenset({'HEART OF WICKER SMALL', 'NATURAL SLATE HEART CHALKBOARD'}): 308,\n",
       " frozenset({'HEART OF WICKER LARGE', 'NATURAL SLATE HEART CHALKBOARD'}): 215,\n",
       " frozenset({'CREAM HEART CARD HOLDER', 'NATURAL SLATE HEART CHALKBOARD'}): 138,\n",
       " frozenset({'HEART OF WICKER LARGE', 'HEART OF WICKER SMALL'}): 517,\n",
       " frozenset({'CREAM HEART CARD HOLDER', 'HEART OF WICKER SMALL'}): 116,\n",
       " frozenset({'JAM MAKING SET PRINTED', 'JAM MAKING SET WITH JARS'}): 483,\n",
       " frozenset({'JAM MAKING SET PRINTED', 'JUMBO BAG DOLLY GIRL DESIGN'}): 104,\n",
       " frozenset({'JAM MAKING SET PRINTED', 'TRADITIONAL CHRISTMAS RIBBONS'}): 103,\n",
       " frozenset({'JAM MAKING SET WITH JARS', 'LUNCH BAG DOLLY GIRL DESIGN'}): 103,\n",
       " frozenset({'JUMBO BAG DOLLY GIRL DESIGN',\n",
       "            'LUNCH BAG DOLLY GIRL DESIGN'}): 131,\n",
       " frozenset({'JUMBO  BAG BAROQUE BLACK WHITE', 'JUMBO BAG RED RETROSPOT'}): 612,\n",
       " frozenset({'CHILLI LIGHTS', 'RED TOADSTOOL LED NIGHT LIGHT'}): 111,\n",
       " frozenset({'HEART OF WICKER SMALL', 'HOME BUILDING BLOCK WORD'}): 145,\n",
       " frozenset({'HEART OF WICKER SMALL', 'LOVE BUILDING BLOCK WORD'}): 146,\n",
       " frozenset({'HEART OF WICKER SMALL', 'HOMEMADE JAM SCENTED CANDLES'}): 110,\n",
       " frozenset({'BLACK/BLUE POLKADOT UMBRELLA', 'RED RETROSPOT UMBRELLA'}): 160,\n",
       " frozenset({'ALARM CLOCK BAKELIKE GREEN', 'RED DINER WALL CLOCK'}): 100,\n",
       " frozenset({'ALARM CLOCK BAKELIKE RED', 'RED DINER WALL CLOCK'}): 127,\n",
       " frozenset({'BLUE DINER WALL CLOCK', 'RED DINER WALL CLOCK'}): 193,\n",
       " frozenset({'IVORY DINER WALL CLOCK', 'RED DINER WALL CLOCK'}): 208,\n",
       " frozenset({'ALARM CLOCK BAKELIKE RED', 'BLUE DINER WALL CLOCK'}): 123,\n",
       " frozenset({'ALARM CLOCK BAKELIKE RED', 'IVORY DINER WALL CLOCK'}): 121,\n",
       " frozenset({'BLUE DINER WALL CLOCK', 'IVORY DINER WALL CLOCK'}): 180,\n",
       " frozenset({'LARGE HEART MEASURING SPOONS',\n",
       "            'SMALL HEART MEASURING SPOONS'}): 230,\n",
       " frozenset({'CHRISTMAS LIGHTS 10 REINDEER',\n",
       "            'PAPER CHAIN KIT VINTAGE CHRISTMAS'}): 115,\n",
       " frozenset({'JAM JAR WITH PINK LID', 'JAM MAKING SET WITH JARS'}): 142,\n",
       " frozenset({'JAM JAR WITH GREEN LID', 'JAM MAKING SET WITH JARS'}): 142,\n",
       " frozenset({'HANGING HEART ZINC T-LIGHT HOLDER',\n",
       "            'JAM MAKING SET WITH JARS'}): 146,\n",
       " frozenset({'JAM MAKING SET WITH JARS',\n",
       "            'PAPER CHAIN KIT VINTAGE CHRISTMAS'}): 129,\n",
       " frozenset({'JAM MAKING SET WITH JARS',\n",
       "            'WHITE HANGING HEART T-LIGHT HOLDER'}): 285,\n",
       " frozenset({'JAM MAKING SET WITH JARS', 'SMALL POPCORN HOLDER'}): 108,\n",
       " frozenset({'JAM MAKING SET WITH JARS',\n",
       "            'SET/20 RED RETROSPOT PAPER NAPKINS'}): 170,\n",
       " frozenset({'JAM MAKING SET WITH JARS', 'SET/6 RED SPOTTY PAPER PLATES'}): 116,\n",
       " frozenset({'DELUXE SEWING KIT', 'JAM MAKING SET WITH JARS'}): 101,\n",
       " frozenset({'HOMEMADE JAM SCENTED CANDLES', 'JAM MAKING SET WITH JARS'}): 198,\n",
       " frozenset({'JAM MAKING SET WITH JARS', 'JUMBO BAG RED RETROSPOT'}): 291,\n",
       " frozenset({'JAM JAR WITH PINK LID', 'JAM MAKING SET PRINTED'}): 165,\n",
       " frozenset({'JAM JAR WITH GREEN LID', 'JAM MAKING SET PRINTED'}): 169,\n",
       " frozenset({'HANGING HEART ZINC T-LIGHT HOLDER',\n",
       "            'JAM MAKING SET PRINTED'}): 146,\n",
       " frozenset({'JAM MAKING SET PRINTED',\n",
       "            'PAPER CHAIN KIT VINTAGE CHRISTMAS'}): 144,\n",
       " frozenset({'JAM MAKING SET PRINTED',\n",
       "            'WHITE HANGING HEART T-LIGHT HOLDER'}): 281,\n",
       " frozenset({'JAM MAKING SET PRINTED', 'SMALL POPCORN HOLDER'}): 117,\n",
       " frozenset({'JAM MAKING SET PRINTED',\n",
       "            'SET/20 RED RETROSPOT PAPER NAPKINS'}): 195,\n",
       " frozenset({'JAM MAKING SET PRINTED', 'SET/6 RED SPOTTY PAPER PLATES'}): 133,\n",
       " frozenset({'JAM MAKING SET PRINTED', 'POLKADOT RAIN HAT'}): 105,\n",
       " frozenset({'JAM MAKING SET PRINTED', 'PHOTO CUBE'}): 104,\n",
       " frozenset({'HOMEMADE JAM SCENTED CANDLES', 'JAM MAKING SET PRINTED'}): 183,\n",
       " frozenset({'JAM MAKING SET PRINTED', 'JUMBO BAG RED RETROSPOT'}): 314,\n",
       " frozenset({'JAM JAR WITH GREEN LID', 'JAM JAR WITH PINK LID'}): 236,\n",
       " frozenset({'JAM JAR WITH PINK LID', 'JUMBO BAG RED RETROSPOT'}): 100,\n",
       " frozenset({'HANGING HEART ZINC T-LIGHT HOLDER',\n",
       "            'WHITE HANGING HEART T-LIGHT HOLDER'}): 221,\n",
       " frozenset({'HANGING HEART ZINC T-LIGHT HOLDER',\n",
       "            'JUMBO BAG RED RETROSPOT'}): 204,\n",
       " frozenset({'PAPER CHAIN KIT VINTAGE CHRISTMAS',\n",
       "            'WHITE HANGING HEART T-LIGHT HOLDER'}): 153,\n",
       " frozenset({'PAPER CHAIN KIT VINTAGE CHRISTMAS',\n",
       "            'RETROSPOT HEART HOT WATER BOTTLE'}): 122,\n",
       " frozenset({'JUMBO BAG RED RETROSPOT',\n",
       "            'PAPER CHAIN KIT VINTAGE CHRISTMAS'}): 142,\n",
       " frozenset({'SMALL POPCORN HOLDER',\n",
       "            'WHITE HANGING HEART T-LIGHT HOLDER'}): 145,\n",
       " frozenset({'SET/20 RED RETROSPOT PAPER NAPKINS',\n",
       "            'WHITE HANGING HEART T-LIGHT HOLDER'}): 242,\n",
       " frozenset({'SET/6 RED SPOTTY PAPER PLATES',\n",
       "            'WHITE HANGING HEART T-LIGHT HOLDER'}): 129,\n",
       " frozenset({'POLKADOT RAIN HAT', 'WHITE HANGING HEART T-LIGHT HOLDER'}): 102,\n",
       " frozenset({'DELUXE SEWING KIT', 'WHITE HANGING HEART T-LIGHT HOLDER'}): 113,\n",
       " frozenset({'RETROSPOT HEART HOT WATER BOTTLE',\n",
       "            'WHITE HANGING HEART T-LIGHT HOLDER'}): 159,\n",
       " frozenset({'ENGLISH ROSE HOT WATER BOTTLE',\n",
       "            'WHITE HANGING HEART T-LIGHT HOLDER'}): 108,\n",
       " frozenset({'PHOTO CUBE', 'WHITE HANGING HEART T-LIGHT HOLDER'}): 113,\n",
       " frozenset({'HOMEMADE JAM SCENTED CANDLES',\n",
       "            'WHITE HANGING HEART T-LIGHT HOLDER'}): 169,\n",
       " frozenset({'JUMBO BAG RED RETROSPOT',\n",
       "            'WHITE HANGING HEART T-LIGHT HOLDER'}): 473,\n",
       " frozenset({'JUMBO BAG RED RETROSPOT', 'SMALL POPCORN HOLDER'}): 206,\n",
       " frozenset({'SET/20 RED RETROSPOT PAPER NAPKINS',\n",
       "            'SET/6 RED SPOTTY PAPER PLATES'}): 389,\n",
       " frozenset({'SET/20 RED RETROSPOT PAPER NAPKINS',\n",
       "            'SET/6 RED SPOTTY PAPER CUPS'}): 318,\n",
       " frozenset({'JUMBO BAG RED RETROSPOT',\n",
       "            'SET/20 RED RETROSPOT PAPER NAPKINS'}): 297,\n",
       " frozenset({'SET/6 RED SPOTTY PAPER CUPS',\n",
       "            'SET/6 RED SPOTTY PAPER PLATES'}): 364,\n",
       " frozenset({'JUMBO BAG RED RETROSPOT', 'SET/6 RED SPOTTY PAPER PLATES'}): 182,\n",
       " frozenset({'JUMBO BAG RED RETROSPOT', 'SET/6 RED SPOTTY PAPER CUPS'}): 135,\n",
       " frozenset({'JUMBO BAG RED RETROSPOT', 'POLKADOT RAIN HAT'}): 126,\n",
       " frozenset({'KNITTED UNION FLAG HOT WATER BOTTLE',\n",
       "            'RETROSPOT HEART HOT WATER BOTTLE'}): 123,\n",
       " frozenset({'ENGLISH ROSE HOT WATER BOTTLE',\n",
       "            'RETROSPOT HEART HOT WATER BOTTLE'}): 127,\n",
       " frozenset({'ENGLISH ROSE HOT WATER BOTTLE',\n",
       "            'KNITTED UNION FLAG HOT WATER BOTTLE'}): 111,\n",
       " frozenset({'JUMBO BAG RED RETROSPOT',\n",
       "            'KNITTED UNION FLAG HOT WATER BOTTLE'}): 127,\n",
       " frozenset({'JUMBO BAG RED RETROSPOT', 'PHOTO CUBE'}): 117,\n",
       " frozenset({'HOMEMADE JAM SCENTED CANDLES', 'JUMBO BAG RED RETROSPOT'}): 144,\n",
       " frozenset({'PLASTERS IN TIN CIRCUS PARADE',\n",
       "            'PLASTERS IN TIN VINTAGE PAISLEY'}): 173,\n",
       " frozenset({'PLASTERS IN TIN CIRCUS PARADE', 'PLASTERS IN TIN SKULLS'}): 163,\n",
       " frozenset({'PLASTERS IN TIN SKULLS', 'PLASTERS IN TIN VINTAGE PAISLEY'}): 228,\n",
       " frozenset({'SET OF 6 SOLDIER SKITTLES',\n",
       "            'TRADITIONAL WOODEN SKIPPING ROPE'}): 112,\n",
       " frozenset({'SET OF 6 SOLDIER SKITTLES', 'WOODEN BOX OF DOMINOES'}): 117,\n",
       " frozenset({'TRADITIONAL WOODEN SKIPPING ROPE',\n",
       "            'WOODEN BOX OF DOMINOES'}): 119,\n",
       " frozenset({'HAND WARMER SCOTTY DOG DESIGN', 'HAND WARMER UNION JACK'}): 257,\n",
       " frozenset({'HAND WARMER OWL DESIGN', 'HAND WARMER UNION JACK'}): 263,\n",
       " frozenset({'HAND WARMER RED RETROSPOT', 'HAND WARMER UNION JACK'}): 185,\n",
       " frozenset({'HAND WARMER UNION JACK',\n",
       "            'WHITE HANGING HEART T-LIGHT HOLDER'}): 118,\n",
       " frozenset({'HAND WARMER OWL DESIGN', 'HAND WARMER SCOTTY DOG DESIGN'}): 374,\n",
       " frozenset({'HAND WARMER RED RETROSPOT',\n",
       "            'HAND WARMER SCOTTY DOG DESIGN'}): 238,\n",
       " frozenset({'HAND WARMER SCOTTY DOG DESIGN',\n",
       "            'WHITE HANGING HEART T-LIGHT HOLDER'}): 133,\n",
       " frozenset({'HAND WARMER OWL DESIGN', 'HAND WARMER RED RETROSPOT'}): 232,\n",
       " frozenset({'HAND WARMER OWL DESIGN',\n",
       "            'WHITE HANGING HEART T-LIGHT HOLDER'}): 137,\n",
       " frozenset({'CLOTHES PEGS RETROSPOT PACK 24',\n",
       "            'WHITE HANGING HEART T-LIGHT HOLDER'}): 225,\n",
       " frozenset({'HAND OVER THE CHOCOLATE   SIGN',\n",
       "            'WHITE HANGING HEART T-LIGHT HOLDER'}): 191,\n",
       " frozenset({'TRAVEL SEWING KIT', 'WHITE HANGING HEART T-LIGHT HOLDER'}): 109,\n",
       " frozenset({'ASSORTED COLOUR BIRD ORNAMENT',\n",
       "            'PACK OF 60 PINK PAISLEY CAKE CASES'}): 114,\n",
       " frozenset({'60 TEATIME FAIRY CAKE CASES',\n",
       "            'ASSORTED COLOUR BIRD ORNAMENT'}): 103,\n",
       " frozenset({'ASSORTED COLOUR BIRD ORNAMENT',\n",
       "            'PACK OF 72 RETROSPOT CAKE CASES'}): 165,\n",
       " frozenset({'ASSORTED COLOUR BIRD ORNAMENT',\n",
       "            'SMALL GLASS HEART TRINKET POT'}): 113,\n",
       " frozenset({'ALARM CLOCK BAKELIKE RED', 'ASSORTED COLOUR BIRD ORNAMENT'}): 145,\n",
       " frozenset({'ALARM CLOCK BAKELIKE GREEN',\n",
       "            'ASSORTED COLOUR BIRD ORNAMENT'}): 142,\n",
       " frozenset({'PACK OF 60 PINK PAISLEY CAKE CASES',\n",
       "            'SMALL GLASS HEART TRINKET POT'}): 107,\n",
       " frozenset({'ALARM CLOCK BAKELIKE GREEN',\n",
       "            'PACK OF 60 PINK PAISLEY CAKE CASES'}): 104,\n",
       " frozenset({'60 TEATIME FAIRY CAKE CASES',\n",
       "            'SMALL GLASS HEART TRINKET POT'}): 103,\n",
       " frozenset({'60 TEATIME FAIRY CAKE CASES', 'ALARM CLOCK BAKELIKE RED'}): 128,\n",
       " frozenset({'60 TEATIME FAIRY CAKE CASES', 'ALARM CLOCK BAKELIKE GREEN'}): 125,\n",
       " frozenset({'CHICK GREY HOT WATER BOTTLE',\n",
       "            'PACK OF 72 RETROSPOT CAKE CASES'}): 140,\n",
       " frozenset({'PACK OF 72 RETROSPOT CAKE CASES',\n",
       "            'SMALL GLASS HEART TRINKET POT'}): 152,\n",
       " frozenset({'ALARM CLOCK BAKELIKE IVORY',\n",
       "            'PACK OF 72 RETROSPOT CAKE CASES'}): 139,\n",
       " frozenset({'ALARM CLOCK BAKELIKE RED',\n",
       "            'PACK OF 72 RETROSPOT CAKE CASES'}): 237,\n",
       " frozenset({'ALARM CLOCK BAKELIKE ORANGE',\n",
       "            'PACK OF 72 RETROSPOT CAKE CASES'}): 119,\n",
       " frozenset({'ALARM CLOCK BAKELIKE GREEN',\n",
       "            'PACK OF 72 RETROSPOT CAKE CASES'}): 233,\n",
       " frozenset({'HOT WATER BOTTLE TEA AND SYMPATHY',\n",
       "            'PACK OF 72 RETROSPOT CAKE CASES'}): 124,\n",
       " frozenset({'ALARM CLOCK BAKELIKE RED', 'CHICK GREY HOT WATER BOTTLE'}): 106,\n",
       " frozenset({'ALARM CLOCK BAKELIKE GREEN', 'CHICK GREY HOT WATER BOTTLE'}): 107,\n",
       " frozenset({'CHICK GREY HOT WATER BOTTLE',\n",
       "            'HOT WATER BOTTLE TEA AND SYMPATHY'}): 125,\n",
       " frozenset({'ALARM CLOCK BAKELIKE RED', 'SMALL GLASS HEART TRINKET POT'}): 116,\n",
       " frozenset({'ALARM CLOCK BAKELIKE GREEN',\n",
       "            'SMALL GLASS HEART TRINKET POT'}): 134,\n",
       " frozenset({'ALARM CLOCK BAKELIKE IVORY', 'ALARM CLOCK BAKELIKE RED'}): 416,\n",
       " frozenset({'ALARM CLOCK BAKELIKE IVORY', 'ALARM CLOCK BAKELIKE ORANGE'}): 198,\n",
       " frozenset({'ALARM CLOCK BAKELIKE GREEN', 'ALARM CLOCK BAKELIKE IVORY'}): 374,\n",
       " frozenset({'ALARM CLOCK BAKELIKE ORANGE', 'ALARM CLOCK BAKELIKE RED'}): 340,\n",
       " frozenset({'ALARM CLOCK BAKELIKE RED',\n",
       "            'HOT WATER BOTTLE TEA AND SYMPATHY'}): 121,\n",
       " frozenset({'ALARM CLOCK BAKELIKE GREEN', 'ALARM CLOCK BAKELIKE ORANGE'}): 308,\n",
       " frozenset({'ALARM CLOCK BAKELIKE GREEN',\n",
       "            'HOT WATER BOTTLE TEA AND SYMPATHY'}): 132,\n",
       " frozenset({'ALARM CLOCK BAKELIKE GREEN', 'HAND WARMER BIRD DESIGN'}): 102,\n",
       " frozenset({'HAND WARMER BIRD DESIGN',\n",
       "            'HOT WATER BOTTLE TEA AND SYMPATHY'}): 149,\n",
       " frozenset({'HAND WARMER SCOTTY DOG DESIGN',\n",
       "            'HOT WATER BOTTLE TEA AND SYMPATHY'}): 152,\n",
       " frozenset({'HAND WARMER BIRD DESIGN', 'HAND WARMER SCOTTY DOG DESIGN'}): 319,\n",
       " frozenset({'EDWARDIAN PARASOL BLACK', 'EDWARDIAN PARASOL RED'}): 163,\n",
       " frozenset({'HAND WARMER SCOTTY DOG DESIGN',\n",
       "            'HOT WATER BOTTLE I AM SO POORLY'}): 108,\n",
       " frozenset({'CHOCOLATE HOT WATER BOTTLE',\n",
       "            'HAND WARMER SCOTTY DOG DESIGN'}): 135,\n",
       " frozenset({'HAND WARMER SCOTTY DOG DESIGN',\n",
       "            'SCOTTIE DOG HOT WATER BOTTLE'}): 179,\n",
       " frozenset({'HAND WARMER OWL DESIGN',\n",
       "            'HOT WATER BOTTLE TEA AND SYMPATHY'}): 153,\n",
       " frozenset({'HAND WARMER OWL DESIGN', 'HOT WATER BOTTLE I AM SO POORLY'}): 117,\n",
       " frozenset({'CHOCOLATE HOT WATER BOTTLE', 'HAND WARMER OWL DESIGN'}): 135,\n",
       " frozenset({'HAND WARMER OWL DESIGN', 'SCOTTIE DOG HOT WATER BOTTLE'}): 149,\n",
       " frozenset({'PINK DOUGHNUT TRINKET POT',\n",
       "            'STRAWBERRY CERAMIC TRINKET BOX'}): 114,\n",
       " frozenset({'HOT WATER BOTTLE I AM SO POORLY',\n",
       "            'HOT WATER BOTTLE TEA AND SYMPATHY'}): 281,\n",
       " frozenset({'CHOCOLATE HOT WATER BOTTLE',\n",
       "            'HOT WATER BOTTLE TEA AND SYMPATHY'}): 356,\n",
       " frozenset({'HOT WATER BOTTLE TEA AND SYMPATHY',\n",
       "            'WHITE SKULL HOT WATER BOTTLE'}): 154,\n",
       " frozenset({'HOT WATER BOTTLE TEA AND SYMPATHY',\n",
       "            'SCOTTIE DOG HOT WATER BOTTLE'}): 208,\n",
       " frozenset({'CHOCOLATE HOT WATER BOTTLE',\n",
       "            'HOT WATER BOTTLE I AM SO POORLY'}): 422,\n",
       " frozenset({'HOT WATER BOTTLE I AM SO POORLY',\n",
       "            'WHITE SKULL HOT WATER BOTTLE'}): 158,\n",
       " frozenset({'HOT WATER BOTTLE I AM SO POORLY',\n",
       "            'SCOTTIE DOG HOT WATER BOTTLE'}): 242,\n",
       " frozenset({'CHOCOLATE HOT WATER BOTTLE',\n",
       "            'WHITE SKULL HOT WATER BOTTLE'}): 194,\n",
       " frozenset({'CHOCOLATE HOT WATER BOTTLE',\n",
       "            'SCOTTIE DOG HOT WATER BOTTLE'}): 343,\n",
       " frozenset({'SCOTTIE DOG HOT WATER BOTTLE',\n",
       "            'WHITE SKULL HOT WATER BOTTLE'}): 194,\n",
       " frozenset({'PHOTO FRAME CORNICE', 'WHITE HANGING HEART T-LIGHT HOLDER'}): 186,\n",
       " frozenset({'PICTURE DOMINOES', 'WHITE HANGING HEART T-LIGHT HOLDER'}): 100,\n",
       " frozenset({'JAM MAKING SET PRINTED', 'SCANDINAVIAN REDS RIBBONS'}): 140,\n",
       " frozenset({'SCANDINAVIAN REDS RIBBONS',\n",
       "            'WHITE HANGING HEART T-LIGHT HOLDER'}): 118,\n",
       " frozenset({'LUNCH BAG RED RETROSPOT', 'SCANDINAVIAN REDS RIBBONS'}): 104,\n",
       " frozenset({'BALLOONS  WRITING SET', 'JAM MAKING SET PRINTED'}): 107,\n",
       " frozenset({'BALLOONS  WRITING SET',\n",
       "            'WHITE HANGING HEART T-LIGHT HOLDER'}): 125,\n",
       " frozenset({'JAM MAKING SET PRINTED', 'SET OF 4 ENGLISH ROSE PLACEMATS'}): 107,\n",
       " frozenset({'BATHROOM METAL SIGN', 'JAM MAKING SET PRINTED'}): 178,\n",
       " frozenset({'60 TEATIME FAIRY CAKE CASES', 'JAM MAKING SET PRINTED'}): 194,\n",
       " frozenset({'JAM MAKING SET PRINTED', 'LUNCH BAG RED RETROSPOT'}): 227,\n",
       " frozenset({'JAM MAKING SET PRINTED', 'LUNCH BAG SPACEBOY DESIGN'}): 125,\n",
       " frozenset({'JAM MAKING SET PRINTED', 'LUNCH BAG WOODLAND'}): 137,\n",
       " frozenset({'JAM MAKING SET PRINTED', 'LUNCH BAG PINK POLKADOT'}): 152,\n",
       " frozenset({'GUMBALL COAT RACK', 'JAM MAKING SET PRINTED'}): 111,\n",
       " frozenset({'JAM MAKING SET PRINTED', 'PICNIC BASKET WICKER SMALL'}): 101,\n",
       " frozenset({'SET OF 4 ENGLISH ROSE COASTERS',\n",
       "            'SET OF 4 ENGLISH ROSE PLACEMATS'}): 154,\n",
       " frozenset({'SET OF 4 ENGLISH ROSE PLACEMATS',\n",
       "            'WHITE HANGING HEART T-LIGHT HOLDER'}): 107,\n",
       " frozenset({'FAMILY PHOTO FRAME CORNICE', 'TRIPLE PHOTO FRAME CORNICE'}): 111,\n",
       " frozenset({'LADIES & GENTLEMEN METAL SIGN',\n",
       "            \"YOU'RE CONFUSING ME METAL SIGN\"}): 110,\n",
       " frozenset({'BATHROOM METAL SIGN', 'LADIES & GENTLEMEN METAL SIGN'}): 119,\n",
       " frozenset({'LADIES & GENTLEMEN METAL SIGN',\n",
       "            'WHITE HANGING HEART T-LIGHT HOLDER'}): 155,\n",
       " frozenset({'BATHROOM METAL SIGN', \"YOU'RE CONFUSING ME METAL SIGN\"}): 112,\n",
       " frozenset({'METAL SIGN TAKE IT OR LEAVE IT',\n",
       "            \"YOU'RE CONFUSING ME METAL SIGN\"}): 103,\n",
       " frozenset({'WHITE HANGING HEART T-LIGHT HOLDER',\n",
       "            \"YOU'RE CONFUSING ME METAL SIGN\"}): 127,\n",
       " frozenset({'BATHROOM METAL SIGN', 'KITCHEN METAL SIGN'}): 245,\n",
       " frozenset({'BATHROOM METAL SIGN', 'TOILET METAL SIGN'}): 324,\n",
       " frozenset({'60 TEATIME FAIRY CAKE CASES', 'BATHROOM METAL SIGN'}): 119,\n",
       " frozenset({'BATHROOM METAL SIGN', 'WHITE HANGING HEART T-LIGHT HOLDER'}): 273,\n",
       " frozenset({'BATHROOM METAL SIGN', 'LUNCH BAG RED RETROSPOT'}): 172,\n",
       " frozenset({'BATHROOM METAL SIGN', 'LUNCH BAG WOODLAND'}): 101,\n",
       " frozenset({'BATHROOM METAL SIGN', 'LUNCH BAG PINK POLKADOT'}): 108,\n",
       " frozenset({'BATHROOM METAL SIGN', 'GUMBALL COAT RACK'}): 101,\n",
       " frozenset({'KITCHEN METAL SIGN', 'TOILET METAL SIGN'}): 182,\n",
       " frozenset({'KITCHEN METAL SIGN', 'WHITE HANGING HEART T-LIGHT HOLDER'}): 122,\n",
       " frozenset({'TOILET METAL SIGN', 'WHITE HANGING HEART T-LIGHT HOLDER'}): 145,\n",
       " frozenset({\"I'M ON HOLIDAY METAL SIGN\",\n",
       "            'METAL SIGN TAKE IT OR LEAVE IT'}): 112,\n",
       " frozenset({'METAL SIGN TAKE IT OR LEAVE IT',\n",
       "            'WHITE HANGING HEART T-LIGHT HOLDER'}): 136,\n",
       " frozenset({'60 TEATIME FAIRY CAKE CASES',\n",
       "            'SET 20 NAPKINS FAIRY CAKES DESIGN'}): 125,\n",
       " frozenset({'SET 20 NAPKINS FAIRY CAKES DESIGN',\n",
       "            'WHITE HANGING HEART T-LIGHT HOLDER'}): 114,\n",
       " frozenset({'60 TEATIME FAIRY CAKE CASES',\n",
       "            'WHITE HANGING HEART T-LIGHT HOLDER'}): 228,\n",
       " frozenset({'60 TEATIME FAIRY CAKE CASES', 'LUNCH BAG SPACEBOY DESIGN'}): 154,\n",
       " frozenset({'60 TEATIME FAIRY CAKE CASES', 'LUNCH BAG WOODLAND'}): 137,\n",
       " frozenset({'60 TEATIME FAIRY CAKE CASES', 'LUNCH BAG PINK POLKADOT'}): 154,\n",
       " frozenset({'SET OF 6 T-LIGHTS SANTA', 'SET OF 6 T-LIGHTS SNOWMEN'}): 115,\n",
       " frozenset({'APPLE BATH SPONGE', 'STRAWBERRY BATH SPONGE'}): 143,\n",
       " frozenset({'LUNCH BAG DOLLY GIRL DESIGN',\n",
       "            'WHITE HANGING HEART T-LIGHT HOLDER'}): 149,\n",
       " frozenset({'LUNCH BAG DOLLY GIRL DESIGN', 'LUNCH BAG RED RETROSPOT'}): 375,\n",
       " frozenset({'LUNCH BAG DOLLY GIRL DESIGN', 'LUNCH BAG SPACEBOY DESIGN'}): 409,\n",
       " frozenset({'LUNCH BAG DOLLY GIRL DESIGN', 'LUNCH BAG WOODLAND'}): 302,\n",
       " frozenset({'LUNCH BAG DOLLY GIRL DESIGN', 'LUNCH BAG PINK POLKADOT'}): 282,\n",
       " frozenset({'CANDLEHOLDER PINK HANGING HEART',\n",
       "            'WHITE HANGING HEART T-LIGHT HOLDER'}): 313,\n",
       " frozenset({'LUNCH BAG RED RETROSPOT',\n",
       "            'WHITE HANGING HEART T-LIGHT HOLDER'}): 353,\n",
       " frozenset({'LUNCH BAG SPACEBOY DESIGN',\n",
       "            'WHITE HANGING HEART T-LIGHT HOLDER'}): 253,\n",
       " frozenset({'LUNCH BAG WOODLAND', 'WHITE HANGING HEART T-LIGHT HOLDER'}): 221,\n",
       " frozenset({'LUNCH BAG PINK POLKADOT',\n",
       "            'WHITE HANGING HEART T-LIGHT HOLDER'}): 291,\n",
       " frozenset({'GUMBALL COAT RACK', 'WHITE HANGING HEART T-LIGHT HOLDER'}): 142,\n",
       " frozenset({'PICNIC BASKET WICKER SMALL',\n",
       "            'WHITE HANGING HEART T-LIGHT HOLDER'}): 120,\n",
       " frozenset({'LUNCH BAG RED RETROSPOT', 'LUNCH BAG SPACEBOY DESIGN'}): 593,\n",
       " frozenset({'LUNCH BAG RED RETROSPOT', 'LUNCH BAG WOODLAND'}): 561,\n",
       " frozenset({'LUNCH BAG PINK POLKADOT', 'LUNCH BAG RED RETROSPOT'}): 654,\n",
       " frozenset({'GUMBALL COAT RACK', 'LUNCH BAG RED RETROSPOT'}): 117,\n",
       " frozenset({'LUNCH BAG RED RETROSPOT', 'PICNIC BASKET WICKER SMALL'}): 111,\n",
       " frozenset({'LUNCH BAG SPACEBOY DESIGN', 'LUNCH BAG WOODLAND'}): 511,\n",
       " frozenset({'LUNCH BAG PINK POLKADOT', 'LUNCH BAG SPACEBOY DESIGN'}): 453,\n",
       " frozenset({'GUMBALL COAT RACK', 'LUNCH BAG SPACEBOY DESIGN'}): 100,\n",
       " frozenset({'LUNCH BAG PINK POLKADOT', 'LUNCH BAG WOODLAND'}): 432,\n",
       " frozenset({\"PAPER CHAIN KIT 50'S CHRISTMAS\",\n",
       "            'PAPER CHAIN KIT VINTAGE CHRISTMAS'}): 599,\n",
       " frozenset({'HEART IVORY TRELLIS SMALL', 'HEART OF WICKER SMALL'}): 109,\n",
       " frozenset({'HEART IVORY TRELLIS LARGE', 'HEART IVORY TRELLIS SMALL'}): 157,\n",
       " frozenset({'CLEAR DRAWER KNOB ACRYLIC EDWARDIAN',\n",
       "            'PINK DRAWER KNOB ACRYLIC EDWARDIAN'}): 138,\n",
       " frozenset({'CLEAR DRAWER KNOB ACRYLIC EDWARDIAN',\n",
       "            'GREEN DRAWER KNOB ACRYLIC EDWARDIAN'}): 108,\n",
       " frozenset({'HEART OF WICKER SMALL', 'SMALL POPCORN HOLDER'}): 108,\n",
       " frozenset({'HEART OF WICKER SMALL', 'SCANDINAVIAN REDS RIBBONS'}): 100,\n",
       " frozenset({'HEART OF WICKER SMALL',\n",
       "            'SET OF 3 BUTTERFLY COOKIE CUTTERS'}): 113,\n",
       " frozenset({'HEART OF WICKER SMALL', 'SET OF 3 HEART COOKIE CUTTERS'}): 139,\n",
       " frozenset({'HEART OF WICKER SMALL', 'PACK OF 72 RETROSPOT CAKE CASES'}): 168,\n",
       " frozenset({'72 SWEETHEART FAIRY CAKE CASES', 'HEART OF WICKER SMALL'}): 125,\n",
       " frozenset({'HEART OF WICKER SMALL', 'LUNCH BAG CARS BLUE'}): 128,\n",
       " frozenset({'HEART OF WICKER SMALL', 'LUNCH BAG  BLACK SKULL.'}): 168,\n",
       " frozenset({'PACK OF 72 RETROSPOT CAKE CASES', 'SMALL POPCORN HOLDER'}): 135,\n",
       " frozenset({'LUNCH BAG  BLACK SKULL.', 'SMALL POPCORN HOLDER'}): 102,\n",
       " frozenset({'ROMANTIC PINKS RIBBONS', 'SCANDINAVIAN REDS RIBBONS'}): 109,\n",
       " frozenset({'CHOCOLATE BOX RIBBONS', 'ROMANTIC PINKS RIBBONS'}): 124,\n",
       " frozenset({'CHOCOLATE BOX RIBBONS', 'SCANDINAVIAN REDS RIBBONS'}): 125,\n",
       " frozenset({'PACK OF 72 RETROSPOT CAKE CASES',\n",
       "            'SCANDINAVIAN REDS RIBBONS'}): 115,\n",
       " frozenset({'CHOCOLATE BOX RIBBONS', 'PACK OF 72 RETROSPOT CAKE CASES'}): 112,\n",
       " frozenset({'SET OF 3 BUTTERFLY COOKIE CUTTERS',\n",
       "            'SET OF 3 HEART COOKIE CUTTERS'}): 329,\n",
       " frozenset({'3 PIECE SPACEBOY COOKIE CUTTER SET',\n",
       "            'SET OF 3 BUTTERFLY COOKIE CUTTERS'}): 153,\n",
       " frozenset({'PACK OF 72 SKULL CAKE CASES',\n",
       "            'SET OF 3 BUTTERFLY COOKIE CUTTERS'}): 136,\n",
       " frozenset({'PACK OF 60 SPACEBOY CAKE CASES',\n",
       "            'SET OF 3 BUTTERFLY COOKIE CUTTERS'}): 120,\n",
       " frozenset({'PACK OF 72 RETROSPOT CAKE CASES',\n",
       "            'SET OF 3 BUTTERFLY COOKIE CUTTERS'}): 220,\n",
       " frozenset({'72 SWEETHEART FAIRY CAKE CASES',\n",
       "            'SET OF 3 BUTTERFLY COOKIE CUTTERS'}): 122,\n",
       " frozenset({'PACK OF 60 DINOSAUR CAKE CASES',\n",
       "            'SET OF 3 BUTTERFLY COOKIE CUTTERS'}): 129,\n",
       " frozenset({'LUNCH BAG CARS BLUE', 'SET OF 3 BUTTERFLY COOKIE CUTTERS'}): 121,\n",
       " frozenset({'LUNCH BAG  BLACK SKULL.',\n",
       "            'SET OF 3 BUTTERFLY COOKIE CUTTERS'}): 128,\n",
       " frozenset({'3 PIECE SPACEBOY COOKIE CUTTER SET',\n",
       "            'SET OF 3 HEART COOKIE CUTTERS'}): 137,\n",
       " frozenset({'PACK OF 72 SKULL CAKE CASES',\n",
       "            'SET OF 3 HEART COOKIE CUTTERS'}): 100,\n",
       " frozenset({'PACK OF 72 RETROSPOT CAKE CASES',\n",
       "            'SET OF 3 HEART COOKIE CUTTERS'}): 197,\n",
       " frozenset({'72 SWEETHEART FAIRY CAKE CASES',\n",
       "            'SET OF 3 HEART COOKIE CUTTERS'}): 158,\n",
       " frozenset({'PACK OF 60 DINOSAUR CAKE CASES',\n",
       "            'SET OF 3 HEART COOKIE CUTTERS'}): 126,\n",
       " frozenset({'LUNCH BAG  BLACK SKULL.', 'SET OF 3 HEART COOKIE CUTTERS'}): 113,\n",
       " frozenset({'3 PIECE SPACEBOY COOKIE CUTTER SET',\n",
       "            'PACK OF 72 RETROSPOT CAKE CASES'}): 116,\n",
       " frozenset({'PACK OF 60 SPACEBOY CAKE CASES',\n",
       "            'PACK OF 72 SKULL CAKE CASES'}): 220,\n",
       " frozenset({'PACK OF 72 RETROSPOT CAKE CASES',\n",
       "            'PACK OF 72 SKULL CAKE CASES'}): 408,\n",
       " frozenset({'72 SWEETHEART FAIRY CAKE CASES',\n",
       "            'PACK OF 72 SKULL CAKE CASES'}): 184,\n",
       " frozenset({'PACK OF 60 DINOSAUR CAKE CASES',\n",
       "            'PACK OF 72 SKULL CAKE CASES'}): 246,\n",
       " frozenset({'LUNCH BAG CARS BLUE', 'PACK OF 72 SKULL CAKE CASES'}): 172,\n",
       " frozenset({'LUNCH BAG  BLACK SKULL.', 'PACK OF 72 SKULL CAKE CASES'}): 229,\n",
       " frozenset({'PACK OF 60 SPACEBOY CAKE CASES',\n",
       "            'PACK OF 72 RETROSPOT CAKE CASES'}): 334,\n",
       " frozenset({'72 SWEETHEART FAIRY CAKE CASES',\n",
       "            'PACK OF 60 SPACEBOY CAKE CASES'}): 174,\n",
       " frozenset({'PACK OF 60 DINOSAUR CAKE CASES',\n",
       "            'PACK OF 60 SPACEBOY CAKE CASES'}): 245,\n",
       " frozenset({'LUNCH BAG CARS BLUE', 'PACK OF 60 SPACEBOY CAKE CASES'}): 126,\n",
       " frozenset({'LUNCH BAG  BLACK SKULL.', 'PACK OF 60 SPACEBOY CAKE CASES'}): 134,\n",
       " frozenset({'72 SWEETHEART FAIRY CAKE CASES',\n",
       "            'PACK OF 72 RETROSPOT CAKE CASES'}): 347,\n",
       " frozenset({'LUNCH BAG CARS BLUE', 'PACK OF 72 RETROSPOT CAKE CASES'}): 249,\n",
       " frozenset({'LUNCH BAG  BLACK SKULL.',\n",
       "            'PACK OF 72 RETROSPOT CAKE CASES'}): 308,\n",
       " frozenset({'72 SWEETHEART FAIRY CAKE CASES',\n",
       "            'PACK OF 60 DINOSAUR CAKE CASES'}): 262,\n",
       " frozenset({'72 SWEETHEART FAIRY CAKE CASES', 'LUNCH BAG  BLACK SKULL.'}): 123,\n",
       " frozenset({'LUNCH BAG CARS BLUE', 'PACK OF 60 DINOSAUR CAKE CASES'}): 136,\n",
       " frozenset({'LUNCH BAG  BLACK SKULL.', 'PACK OF 60 DINOSAUR CAKE CASES'}): 152,\n",
       " frozenset({'LUNCH BAG  BLACK SKULL.', 'LUNCH BAG CARS BLUE'}): 574,\n",
       " frozenset({'BLUE HARMONICA IN BOX', 'RED  HARMONICA IN BOX'}): 326,\n",
       " frozenset({'PACK OF 72 RETROSPOT CAKE CASES', 'RED  HARMONICA IN BOX'}): 134,\n",
       " frozenset({'4 TRADITIONAL SPINNING TOPS', 'RED  HARMONICA IN BOX'}): 134,\n",
       " frozenset({'BLUE HARMONICA IN BOX', 'PACK OF 72 RETROSPOT CAKE CASES'}): 125,\n",
       " frozenset({'4 TRADITIONAL SPINNING TOPS', 'BLUE HARMONICA IN BOX'}): 125,\n",
       " frozenset({'HOT WATER BOTTLE TEA AND SYMPATHY',\n",
       "            'RED WOOLLY HOTTIE WHITE HEART.'}): 153,\n",
       " frozenset({'RED WOOLLY HOTTIE WHITE HEART.',\n",
       "            'WHITE SKULL HOT WATER BOTTLE'}): 158,\n",
       " frozenset({'PACK OF 72 RETROSPOT CAKE CASES',\n",
       "            'RED WOOLLY HOTTIE WHITE HEART.'}): 129,\n",
       " frozenset({'PACK OF 72 RETROSPOT CAKE CASES',\n",
       "            'WHITE SKULL HOT WATER BOTTLE'}): 125,\n",
       " frozenset({'PLASTERS IN TIN SKULLS', 'WHITE SKULL HOT WATER BOTTLE'}): 101,\n",
       " frozenset({'3 PIECE SPACEBOY COOKIE CUTTER SET',\n",
       "            'SET OF 20 KIDS COOKIE CUTTERS'}): 103,\n",
       " frozenset({'PACK OF 72 RETROSPOT CAKE CASES',\n",
       "            'SET OF 20 KIDS COOKIE CUTTERS'}): 153,\n",
       " frozenset({'SINGLE HEART ZINC T-LIGHT HOLDER',\n",
       "            'VICTORIAN GLASS HANGING T-LIGHT'}): 154,\n",
       " frozenset({'SILVER HANGING T-LIGHT HOLDER',\n",
       "            'VICTORIAN GLASS HANGING T-LIGHT'}): 100,\n",
       " frozenset({'LOVEBIRD HANGING DECORATION WHITE',\n",
       "            'VICTORIAN GLASS HANGING T-LIGHT'}): 154,\n",
       " frozenset({'ASSORTED COLOUR BIRD ORNAMENT',\n",
       "            'VICTORIAN GLASS HANGING T-LIGHT'}): 206,\n",
       " frozenset({'HOME BUILDING BLOCK WORD',\n",
       "            'VICTORIAN GLASS HANGING T-LIGHT'}): 118,\n",
       " frozenset({'PACK OF 72 RETROSPOT CAKE CASES',\n",
       "            'VICTORIAN GLASS HANGING T-LIGHT'}): 196,\n",
       " frozenset({'4 TRADITIONAL SPINNING TOPS',\n",
       "            'VICTORIAN GLASS HANGING T-LIGHT'}): 105,\n",
       " frozenset({'PACK OF 72 RETROSPOT CAKE CASES',\n",
       "            'SINGLE HEART ZINC T-LIGHT HOLDER'}): 122,\n",
       " frozenset({'LOVE BUILDING BLOCK WORD',\n",
       "            'RED HANGING HEART T-LIGHT HOLDER'}): 101,\n",
       " frozenset({'PACK OF 72 RETROSPOT CAKE CASES',\n",
       "            'RED HANGING HEART T-LIGHT HOLDER'}): 109,\n",
       " frozenset({'DOORMAT HEARTS', 'DOORMAT RED RETROSPOT'}): 165,\n",
       " frozenset({'DOORMAT RED RETROSPOT', 'PACK OF 72 RETROSPOT CAKE CASES'}): 117,\n",
       " frozenset({'ASSORTED COLOUR BIRD ORNAMENT',\n",
       "            'LOVEBIRD HANGING DECORATION WHITE'}): 119,\n",
       " frozenset({'LOVEBIRD HANGING DECORATION WHITE',\n",
       "            'PACK OF 72 RETROSPOT CAKE CASES'}): 141,\n",
       " frozenset({'HOME BUILDING BLOCK WORD',\n",
       "            'PACK OF 72 RETROSPOT CAKE CASES'}): 104,\n",
       " frozenset({'PACK OF 72 RETROSPOT CAKE CASES',\n",
       "            'SET OF 72 RETROSPOT PAPER  DOILIES'}): 207,\n",
       " frozenset({'PACK OF 72 RETROSPOT CAKE CASES', 'PLASTERS IN TIN SKULLS'}): 149,\n",
       " frozenset({'PACK OF 72 RETROSPOT CAKE CASES', 'SLEEPING CAT ERASERS'}): 100,\n",
       " frozenset({'PACK OF 72 RETROSPOT CAKE CASES',\n",
       "            'ROTATING SILVER ANGELS T-LIGHT HLDR'}): 118,\n",
       " frozenset({'4 TRADITIONAL SPINNING TOPS',\n",
       "            'PACK OF 72 RETROSPOT CAKE CASES'}): 117,\n",
       " frozenset({'4 TRADITIONAL SPINNING TOPS', 'SET OF 6 SOLDIER SKITTLES'}): 131,\n",
       " frozenset({'JUMBO STORAGE BAG SUKI', 'WHITE SKULL HOT WATER BOTTLE'}): 107,\n",
       " frozenset({'JUMBO BAG RED RETROSPOT', 'WHITE SKULL HOT WATER BOTTLE'}): 113,\n",
       " frozenset({'STRAWBERRY CHARLOTTE BAG', 'WHITE SKULL HOT WATER BOTTLE'}): 101,\n",
       " frozenset({'JUMBO STORAGE BAG SUKI', 'SCOTTIE DOG HOT WATER BOTTLE'}): 107,\n",
       " frozenset({'HAND WARMER UNION JACK', 'SCOTTIE DOG HOT WATER BOTTLE'}): 100,\n",
       " frozenset({'JUMBO BAG RED RETROSPOT', 'SCOTTIE DOG HOT WATER BOTTLE'}): 114,\n",
       " frozenset({'HAND WARMER SCOTTY DOG DESIGN', 'JUMBO BAG RED RETROSPOT'}): 142,\n",
       " frozenset({'FULL ENGLISH BREAKFAST PLATE', 'JUMBO BAG RED RETROSPOT'}): 123,\n",
       " frozenset({'JUMBO BAG OWLS', 'JUMBO STORAGE BAG SUKI'}): 328,\n",
       " frozenset({'JUMBO STORAGE BAG SUKI', 'SMALL POPCORN HOLDER'}): 143,\n",
       " frozenset({'JUMBO BAG RED RETROSPOT', 'JUMBO STORAGE BAG SUKI'}): 756,\n",
       " frozenset({'JUMBO BAG STRAWBERRY', 'JUMBO STORAGE BAG SUKI'}): 325,\n",
       " frozenset({'JUMBO STORAGE BAG SUKI', 'STRAWBERRY SHOPPER BAG'}): 156,\n",
       " frozenset({'CHOCOLATE HOT WATER BOTTLE', 'JUMBO STORAGE BAG SUKI'}): 110,\n",
       " frozenset({'JUMBO BAG OWLS', 'JUMBO BAG RED RETROSPOT'}): 405,\n",
       " frozenset({'JUMBO BAG OWLS', 'JUMBO BAG STRAWBERRY'}): 205,\n",
       " frozenset({'JUMBO BAG OWLS', 'STRAWBERRY CHARLOTTE BAG'}): 113,\n",
       " frozenset({'JUMBO BAG RED RETROSPOT', 'OWL DOORSTOP'}): 116,\n",
       " frozenset({'CHOCOLATE HOT WATER BOTTLE', 'HAND WARMER UNION JACK'}): 103,\n",
       " frozenset({'JUMBO BAG RED RETROSPOT', 'JUMBO BAG STRAWBERRY'}): 565,\n",
       " frozenset({'JUMBO BAG RED RETROSPOT', 'STRAWBERRY SHOPPER BAG'}): 199,\n",
       " frozenset({'JUMBO BAG RED RETROSPOT', 'STRAWBERRY CHARLOTTE BAG'}): 281,\n",
       " frozenset({'CHOCOLATE HOT WATER BOTTLE', 'JUMBO BAG RED RETROSPOT'}): 141,\n",
       " frozenset({'JUMBO BAG STRAWBERRY', 'STRAWBERRY SHOPPER BAG'}): 124,\n",
       " frozenset({'JUMBO BAG STRAWBERRY', 'STRAWBERRY CHARLOTTE BAG'}): 209,\n",
       " frozenset({'STRAWBERRY CHARLOTTE BAG', 'STRAWBERRY SHOPPER BAG'}): 134,\n",
       " frozenset({'CHOCOLATE HOT WATER BOTTLE', 'STRAWBERRY CHARLOTTE BAG'}): 144,\n",
       " frozenset({'LUNCH BAG CARS BLUE', 'LUNCH BAG SPACEBOY DESIGN'}): 519,\n",
       " frozenset({'LUNCH BAG CARS BLUE', 'ROUND SNACK BOXES SET OF4 WOODLAND'}): 167,\n",
       " frozenset({'LUNCH BAG CARS BLUE', 'LUNCH BAG DOLLY GIRL DESIGN'}): 298,\n",
       " frozenset({'LUNCH BAG CARS BLUE', 'ROUND SNACK BOXES SET OF 4 FRUITS'}): 161,\n",
       " frozenset({'LUNCH BAG CARS BLUE', 'ROUND SNACK BOXES SET OF 4 SKULLS'}): 136,\n",
       " frozenset({'DOLLY GIRL LUNCH BOX', 'LUNCH BAG CARS BLUE'}): 140,\n",
       " frozenset({'LUNCH BAG CARS BLUE', 'SPACEBOY LUNCH BOX'}): 153,\n",
       " frozenset({'6 RIBBONS RUSTIC CHARM', 'LUNCH BAG CARS BLUE'}): 153,\n",
       " frozenset({'JAM MAKING SET PRINTED', 'LUNCH BAG CARS BLUE'}): 136,\n",
       " frozenset({'LUNCH BAG CARS BLUE', 'RED TOADSTOOL LED NIGHT LIGHT'}): 125,\n",
       " frozenset({'LUNCH BAG CARS BLUE', \"PAPER CHAIN KIT 50'S CHRISTMAS\"}): 148,\n",
       " frozenset({'LUNCH BAG CARS BLUE', 'LUNCH BAG RED RETROSPOT'}): 589,\n",
       " frozenset({'LUNCH BAG SPACEBOY DESIGN',\n",
       "            'ROUND SNACK BOXES SET OF4 WOODLAND'}): 183,\n",
       " frozenset({'LUNCH BAG  BLACK SKULL.', 'LUNCH BAG SPACEBOY DESIGN'}): 558,\n",
       " frozenset({'LUNCH BAG SPACEBOY DESIGN',\n",
       "            'ROUND SNACK BOXES SET OF 4 FRUITS'}): 142,\n",
       " frozenset({'LUNCH BAG SPACEBOY DESIGN',\n",
       "            'ROUND SNACK BOXES SET OF 4 SKULLS'}): 119,\n",
       " frozenset({'DOLLY GIRL LUNCH BOX', 'LUNCH BAG SPACEBOY DESIGN'}): 206,\n",
       " frozenset({'LUNCH BAG SPACEBOY DESIGN', 'SPACEBOY LUNCH BOX'}): 249,\n",
       " frozenset({'6 RIBBONS RUSTIC CHARM', 'LUNCH BAG SPACEBOY DESIGN'}): 123,\n",
       " frozenset({'LUNCH BAG SPACEBOY DESIGN',\n",
       "            'RED TOADSTOOL LED NIGHT LIGHT'}): 126,\n",
       " frozenset({'LUNCH BAG SPACEBOY DESIGN',\n",
       "            \"PAPER CHAIN KIT 50'S CHRISTMAS\"}): 136,\n",
       " frozenset({'LUNCH BAG DOLLY GIRL DESIGN',\n",
       "            'ROUND SNACK BOXES SET OF4 WOODLAND'}): 107,\n",
       " frozenset({'LUNCH BAG  BLACK SKULL.',\n",
       "            'ROUND SNACK BOXES SET OF4 WOODLAND'}): 172,\n",
       " frozenset({'ROUND SNACK BOXES SET OF 4 FRUITS',\n",
       "            'ROUND SNACK BOXES SET OF4 WOODLAND'}): 332,\n",
       " frozenset({'ROUND SNACK BOXES SET OF 4 SKULLS',\n",
       "            'ROUND SNACK BOXES SET OF4 WOODLAND'}): 158,\n",
       " frozenset({'DOLLY GIRL LUNCH BOX',\n",
       "            'ROUND SNACK BOXES SET OF4 WOODLAND'}): 196,\n",
       " frozenset({'6 RIBBONS RUSTIC CHARM',\n",
       "            'ROUND SNACK BOXES SET OF4 WOODLAND'}): 123,\n",
       " frozenset({'JAM MAKING SET PRINTED',\n",
       "            'ROUND SNACK BOXES SET OF4 WOODLAND'}): 117,\n",
       " frozenset({'LUNCH BAG RED RETROSPOT',\n",
       "            'ROUND SNACK BOXES SET OF4 WOODLAND'}): 198,\n",
       " frozenset({'LUNCH BAG  BLACK SKULL.', 'LUNCH BAG DOLLY GIRL DESIGN'}): 328,\n",
       " frozenset({'DOLLY GIRL LUNCH BOX', 'LUNCH BAG DOLLY GIRL DESIGN'}): 194,\n",
       " frozenset({'LUNCH BAG DOLLY GIRL DESIGN', 'SPACEBOY LUNCH BOX'}): 180,\n",
       " frozenset({'LUNCH BAG RED RETROSPOT', 'LUNCH BAG SUKI  DESIGN'}): 103,\n",
       " frozenset({'LUNCH BAG  BLACK SKULL.',\n",
       "            'ROUND SNACK BOXES SET OF 4 FRUITS'}): 149,\n",
       " frozenset({'LUNCH BAG  BLACK SKULL.',\n",
       "            'ROUND SNACK BOXES SET OF 4 SKULLS'}): 191,\n",
       " frozenset({'DOLLY GIRL LUNCH BOX', 'LUNCH BAG  BLACK SKULL.'}): 152,\n",
       " frozenset({'LUNCH BAG  BLACK SKULL.', 'SPACEBOY LUNCH BOX'}): 160,\n",
       " frozenset({'6 RIBBONS RUSTIC CHARM', 'LUNCH BAG  BLACK SKULL.'}): 131,\n",
       " frozenset({'JAM MAKING SET PRINTED', 'LUNCH BAG  BLACK SKULL.'}): 148,\n",
       " frozenset({'LUNCH BAG  BLACK SKULL.', 'RED TOADSTOOL LED NIGHT LIGHT'}): 135,\n",
       " frozenset({'LUNCH BAG  BLACK SKULL.', 'REX CASH+CARRY JUMBO SHOPPER'}): 107,\n",
       " frozenset({'LUNCH BAG  BLACK SKULL.', \"PAPER CHAIN KIT 50'S CHRISTMAS\"}): 149,\n",
       " frozenset({'LUNCH BAG  BLACK SKULL.', 'LUNCH BAG RED RETROSPOT'}): 705,\n",
       " frozenset({'ROUND SNACK BOXES SET OF 4 FRUITS',\n",
       "            'ROUND SNACK BOXES SET OF 4 SKULLS'}): 129,\n",
       " frozenset({'DOLLY GIRL LUNCH BOX', 'ROUND SNACK BOXES SET OF 4 FRUITS'}): 134,\n",
       " frozenset({'ROUND SNACK BOXES SET OF 4 FRUITS', 'SPACEBOY LUNCH BOX'}): 179,\n",
       " frozenset({'6 RIBBONS RUSTIC CHARM',\n",
       "            'ROUND SNACK BOXES SET OF 4 FRUITS'}): 108,\n",
       " frozenset({'RED TOADSTOOL LED NIGHT LIGHT',\n",
       "            'ROUND SNACK BOXES SET OF 4 FRUITS'}): 112,\n",
       " frozenset({'LUNCH BAG RED RETROSPOT',\n",
       "            'ROUND SNACK BOXES SET OF 4 FRUITS'}): 162,\n",
       " frozenset({'LUNCH BAG RED RETROSPOT',\n",
       "            'ROUND SNACK BOXES SET OF 4 SKULLS'}): 124,\n",
       " frozenset({'DOLLY GIRL LUNCH BOX', 'SPACEBOY LUNCH BOX'}): 580,\n",
       " frozenset({'6 RIBBONS RUSTIC CHARM', 'DOLLY GIRL LUNCH BOX'}): 137,\n",
       " frozenset({'DOLLY GIRL LUNCH BOX', 'JAM MAKING SET PRINTED'}): 194,\n",
       " frozenset({'DOLLY GIRL LUNCH BOX', 'RED TOADSTOOL LED NIGHT LIGHT'}): 198,\n",
       " frozenset({'DOLLY GIRL LUNCH BOX', \"PAPER CHAIN KIT 50'S CHRISTMAS\"}): 134,\n",
       " frozenset({'DOLLY GIRL LUNCH BOX', 'SMALL POPCORN HOLDER'}): 106,\n",
       " frozenset({'DOLLY GIRL LUNCH BOX', 'LUNCH BAG RED RETROSPOT'}): 218,\n",
       " frozenset({'6 RIBBONS RUSTIC CHARM', 'SPACEBOY LUNCH BOX'}): 130,\n",
       " frozenset({'JAM MAKING SET PRINTED', 'SPACEBOY LUNCH BOX'}): 154,\n",
       " frozenset({\"PAPER CHAIN KIT 50'S CHRISTMAS\", 'SPACEBOY LUNCH BOX'}): 121,\n",
       " frozenset({'LUNCH BAG RED RETROSPOT', 'SPACEBOY LUNCH BOX'}): 226,\n",
       " frozenset({'BLUE POLKADOT PLATE', 'RED RETROSPOT PLATE'}): 131,\n",
       " frozenset({'BLUE POLKADOT PLATE', 'PINK  POLKADOT PLATE'}): 120,\n",
       " frozenset({'PINK  POLKADOT PLATE', 'RED RETROSPOT PLATE'}): 115,\n",
       " frozenset({'FELTCRAFT DOLL MOLLY', 'FELTCRAFT PRINCESS CHARLOTTE DOLL'}): 124,\n",
       " frozenset({'FELTCRAFT DOLL MOLLY', 'FELTCRAFT DOLL ROSIE'}): 162,\n",
       " frozenset({'FELTCRAFT DOLL EMILY', 'FELTCRAFT DOLL MOLLY'}): 156,\n",
       " frozenset({'FELTCRAFT CHRISTMAS FAIRY',\n",
       "            'FELTCRAFT PRINCESS CHARLOTTE DOLL'}): 127,\n",
       " frozenset({'CHRISTMAS CRAFT TREE TOP ANGEL',\n",
       "            'FELTCRAFT CHRISTMAS FAIRY'}): 125,\n",
       " frozenset({'CHRISTMAS CRAFT LITTLE FRIENDS',\n",
       "            'FELTCRAFT CHRISTMAS FAIRY'}): 137,\n",
       " frozenset({'FELTCRAFT CHRISTMAS FAIRY',\n",
       "            \"PAPER CHAIN KIT 50'S CHRISTMAS\"}): 121,\n",
       " frozenset({'6 RIBBONS RUSTIC CHARM', 'TRAVEL SEWING KIT'}): 114,\n",
       " frozenset({'6 RIBBONS RUSTIC CHARM', 'SET OF 3 NOTEBOOKS IN PARCEL'}): 105,\n",
       " frozenset({'JAM MAKING SET PRINTED', 'SET OF 3 NOTEBOOKS IN PARCEL'}): 109,\n",
       " frozenset({'LUNCH BAG RED RETROSPOT', 'SET OF 3 NOTEBOOKS IN PARCEL'}): 106,\n",
       " frozenset({'JAM MAKING SET PRINTED', 'RED RETROSPOT TAPE'}): 113,\n",
       " frozenset({'6 RIBBONS RUSTIC CHARM', 'SCANDINAVIAN REDS RIBBONS'}): 239,\n",
       " frozenset({'6 RIBBONS RUSTIC CHARM', 'JAM MAKING SET PRINTED'}): 242,\n",
       " frozenset({'6 RIBBONS RUSTIC CHARM', 'CHRISTMAS CRAFT TREE TOP ANGEL'}): 110,\n",
       " frozenset({'6 RIBBONS RUSTIC CHARM', 'CHRISTMAS CRAFT LITTLE FRIENDS'}): 112,\n",
       " frozenset({'6 RIBBONS RUSTIC CHARM', 'RED TOADSTOOL LED NIGHT LIGHT'}): 163,\n",
       " frozenset({'6 RIBBONS RUSTIC CHARM', \"PAPER CHAIN KIT 50'S CHRISTMAS\"}): 162,\n",
       " frozenset({'6 RIBBONS RUSTIC CHARM', 'LUNCH BAG RED RETROSPOT'}): 173,\n",
       " frozenset({'CHRISTMAS CRAFT TREE TOP ANGEL',\n",
       "            'SCANDINAVIAN REDS RIBBONS'}): 105,\n",
       " frozenset({'CHRISTMAS CRAFT LITTLE FRIENDS',\n",
       "            'SCANDINAVIAN REDS RIBBONS'}): 104,\n",
       " frozenset({'RED TOADSTOOL LED NIGHT LIGHT',\n",
       "            'SCANDINAVIAN REDS RIBBONS'}): 112,\n",
       " frozenset({\"PAPER CHAIN KIT 50'S CHRISTMAS\",\n",
       "            'SCANDINAVIAN REDS RIBBONS'}): 147,\n",
       " frozenset({'CHRISTMAS CRAFT TREE TOP ANGEL', 'JAM MAKING SET PRINTED'}): 109,\n",
       " frozenset({'CHRISTMAS CRAFT LITTLE FRIENDS', 'JAM MAKING SET PRINTED'}): 140,\n",
       " frozenset({'JAM MAKING SET PRINTED', 'RED TOADSTOOL LED NIGHT LIGHT'}): 209,\n",
       " frozenset({'JAM MAKING SET PRINTED', \"PAPER CHAIN KIT 50'S CHRISTMAS\"}): 185,\n",
       " frozenset({'JAM MAKING SET PRINTED', 'SOLDIERS EGG CUP'}): 113,\n",
       " frozenset({'FELTCRAFT DOLL ROSIE', 'FELTCRAFT PRINCESS CHARLOTTE DOLL'}): 103,\n",
       " frozenset({'FELTCRAFT PRINCESS CHARLOTTE DOLL',\n",
       "            'FELTCRAFT PRINCESS OLIVIA DOLL'}): 191,\n",
       " frozenset({'FELTCRAFT CUSHION OWL',\n",
       "            'FELTCRAFT PRINCESS CHARLOTTE DOLL'}): 124,\n",
       " frozenset({'CHRISTMAS CRAFT LITTLE FRIENDS',\n",
       "            'CHRISTMAS CRAFT TREE TOP ANGEL'}): 298,\n",
       " frozenset({'CHRISTMAS CRAFT TREE TOP ANGEL',\n",
       "            \"PAPER CHAIN KIT 50'S CHRISTMAS\"}): 193,\n",
       " frozenset({'CHRISTMAS CRAFT LITTLE FRIENDS',\n",
       "            'RED TOADSTOOL LED NIGHT LIGHT'}): 107,\n",
       " frozenset({'CHRISTMAS CRAFT LITTLE FRIENDS',\n",
       "            \"PAPER CHAIN KIT 50'S CHRISTMAS\"}): 231,\n",
       " frozenset({'CHRISTMAS CRAFT LITTLE FRIENDS', 'LUNCH BAG RED RETROSPOT'}): 110,\n",
       " frozenset({'RED TOADSTOOL LED NIGHT LIGHT', 'SMALL POPCORN HOLDER'}): 106,\n",
       " frozenset({'LUNCH BAG RED RETROSPOT', 'RED TOADSTOOL LED NIGHT LIGHT'}): 190,\n",
       " frozenset({'FELTCRAFT DOLL EMILY', 'FELTCRAFT DOLL ROSIE'}): 150,\n",
       " frozenset({\"PAPER CHAIN KIT 50'S CHRISTMAS\",\n",
       "            'REX CASH+CARRY JUMBO SHOPPER'}): 112,\n",
       " frozenset({'FELTCRAFT CUSHION OWL', 'FELTCRAFT CUSHION RABBIT'}): 240,\n",
       " frozenset({'FELTCRAFT CUSHION BUTTERFLY', 'FELTCRAFT CUSHION OWL'}): 202,\n",
       " frozenset({'FELTCRAFT CUSHION BUTTERFLY', 'FELTCRAFT CUSHION RABBIT'}): 240,\n",
       " frozenset({'LUNCH BAG RED RETROSPOT', \"PAPER CHAIN KIT 50'S CHRISTMAS\"}): 178,\n",
       " frozenset({'LUNCH BAG RED RETROSPOT', 'SMALL POPCORN HOLDER'}): 151,\n",
       " frozenset({'60 CAKE CASES VINTAGE CHRISTMAS',\n",
       "            'PAPER CHAIN KIT VINTAGE CHRISTMAS'}): 268,\n",
       " frozenset({'60 CAKE CASES VINTAGE CHRISTMAS',\n",
       "            'RIBBON REEL CHRISTMAS SOCK BAUBLE'}): 117,\n",
       " frozenset({'60 CAKE CASES VINTAGE CHRISTMAS',\n",
       "            'RIBBON REEL SNOWY VILLAGE'}): 133,\n",
       " frozenset({'60 CAKE CASES VINTAGE CHRISTMAS',\n",
       "            'SET OF 20 VINTAGE CHRISTMAS NAPKINS'}): 305,\n",
       " frozenset({'60 CAKE CASES VINTAGE CHRISTMAS', 'HEART OF WICKER SMALL'}): 104,\n",
       " frozenset({'60 CAKE CASES VINTAGE CHRISTMAS',\n",
       "            'VINTAGE HEADS AND TAILS CARD GAME'}): 107,\n",
       " frozenset({'60 CAKE CASES VINTAGE CHRISTMAS', 'VINTAGE SNAP CARDS'}): 135,\n",
       " frozenset({'60 CAKE CASES VINTAGE CHRISTMAS', 'JAM MAKING SET PRINTED'}): 167,\n",
       " frozenset({'60 CAKE CASES VINTAGE CHRISTMAS',\n",
       "            \"PAPER CHAIN KIT 50'S CHRISTMAS\"}): 301,\n",
       " frozenset({'60 CAKE CASES VINTAGE CHRISTMAS',\n",
       "            'PACK OF 72 RETROSPOT CAKE CASES'}): 204,\n",
       " frozenset({'60 CAKE CASES VINTAGE CHRISTMAS',\n",
       "            'PACK OF 60 PINK PAISLEY CAKE CASES'}): 147,\n",
       " frozenset({'60 CAKE CASES VINTAGE CHRISTMAS',\n",
       "            'HAND WARMER BIRD DESIGN'}): 116,\n",
       " frozenset({'60 CAKE CASES VINTAGE CHRISTMAS', 'HAND WARMER OWL DESIGN'}): 137,\n",
       " frozenset({'PAPER CHAIN KIT VINTAGE CHRISTMAS',\n",
       "            'RIBBON REEL CHRISTMAS SOCK BAUBLE'}): 132,\n",
       " frozenset({'PAPER CHAIN KIT VINTAGE CHRISTMAS',\n",
       "            'RIBBON REEL SNOWY VILLAGE'}): 151,\n",
       " frozenset({'PAPER CHAIN KIT VINTAGE CHRISTMAS',\n",
       "            'RIBBON REEL MAKING SNOWMEN'}): 108,\n",
       " frozenset({'PAPER CHAIN KIT VINTAGE CHRISTMAS',\n",
       "            'SET OF 20 VINTAGE CHRISTMAS NAPKINS'}): 249,\n",
       " frozenset({'PAPER CHAIN KIT VINTAGE CHRISTMAS',\n",
       "            'VINTAGE HEADS AND TAILS CARD GAME'}): 120,\n",
       " frozenset({'PAPER CHAIN KIT VINTAGE CHRISTMAS', 'VINTAGE SNAP CARDS'}): 162,\n",
       " frozenset({'PACK OF 72 RETROSPOT CAKE CASES',\n",
       "            'PAPER CHAIN KIT VINTAGE CHRISTMAS'}): 173,\n",
       " frozenset({'PACK OF 60 PINK PAISLEY CAKE CASES',\n",
       "            'PAPER CHAIN KIT VINTAGE CHRISTMAS'}): 108,\n",
       " frozenset({'HAND WARMER BIRD DESIGN',\n",
       "            'PAPER CHAIN KIT VINTAGE CHRISTMAS'}): 133,\n",
       " frozenset({'HAND WARMER OWL DESIGN',\n",
       "            'PAPER CHAIN KIT VINTAGE CHRISTMAS'}): 158,\n",
       " frozenset({'PAPER CHAIN KIT VINTAGE CHRISTMAS',\n",
       "            'PLASTERS IN TIN WOODLAND ANIMALS'}): 100,\n",
       " frozenset({'RIBBON REEL CHRISTMAS SOCK BAUBLE',\n",
       "            'RIBBON REEL SNOWY VILLAGE'}): 148,\n",
       " frozenset({'RIBBON REEL CHRISTMAS SOCK BAUBLE',\n",
       "            'RIBBON REEL MAKING SNOWMEN'}): 125,\n",
       " frozenset({'RIBBON REEL CHRISTMAS SOCK BAUBLE',\n",
       "            'SET OF 20 VINTAGE CHRISTMAS NAPKINS'}): 110,\n",
       " frozenset({'JAM MAKING SET PRINTED',\n",
       "            'RIBBON REEL CHRISTMAS SOCK BAUBLE'}): 108,\n",
       " frozenset({\"PAPER CHAIN KIT 50'S CHRISTMAS\",\n",
       "            'RIBBON REEL CHRISTMAS SOCK BAUBLE'}): 152,\n",
       " frozenset({'PACK OF 72 RETROSPOT CAKE CASES',\n",
       "            'RIBBON REEL CHRISTMAS SOCK BAUBLE'}): 120,\n",
       " frozenset({'RIBBON REEL MAKING SNOWMEN', 'RIBBON REEL SNOWY VILLAGE'}): 146,\n",
       " frozenset({'RIBBON REEL SNOWY VILLAGE',\n",
       "            'SET OF 20 VINTAGE CHRISTMAS NAPKINS'}): 127,\n",
       " frozenset({\"PAPER CHAIN KIT 50'S CHRISTMAS\",\n",
       "            'RIBBON REEL SNOWY VILLAGE'}): 148,\n",
       " frozenset({'PACK OF 72 RETROSPOT CAKE CASES',\n",
       "            'RIBBON REEL SNOWY VILLAGE'}): 103,\n",
       " frozenset({\"PAPER CHAIN KIT 50'S CHRISTMAS\",\n",
       "            'RIBBON REEL MAKING SNOWMEN'}): 116,\n",
       " frozenset({'HEART OF WICKER SMALL',\n",
       "            'SET OF 20 VINTAGE CHRISTMAS NAPKINS'}): 115,\n",
       " frozenset({'SET OF 20 VINTAGE CHRISTMAS NAPKINS',\n",
       "            'VINTAGE HEADS AND TAILS CARD GAME'}): 109,\n",
       " frozenset({'SET OF 20 VINTAGE CHRISTMAS NAPKINS', 'VINTAGE SNAP CARDS'}): 136,\n",
       " frozenset({'JAM MAKING SET PRINTED',\n",
       "            'SET OF 20 VINTAGE CHRISTMAS NAPKINS'}): 144,\n",
       " frozenset({\"PAPER CHAIN KIT 50'S CHRISTMAS\",\n",
       "            'SET OF 20 VINTAGE CHRISTMAS NAPKINS'}): 276,\n",
       " frozenset({'PACK OF 72 RETROSPOT CAKE CASES',\n",
       "            'SET OF 20 VINTAGE CHRISTMAS NAPKINS'}): 132,\n",
       " frozenset({'PACK OF 60 PINK PAISLEY CAKE CASES',\n",
       "            'SET OF 20 VINTAGE CHRISTMAS NAPKINS'}): 107,\n",
       " frozenset({'HAND WARMER BIRD DESIGN',\n",
       "            'SET OF 20 VINTAGE CHRISTMAS NAPKINS'}): 110,\n",
       " frozenset({'HAND WARMER OWL DESIGN',\n",
       "            'SET OF 20 VINTAGE CHRISTMAS NAPKINS'}): 108,\n",
       " frozenset({'PLASTERS IN TIN WOODLAND ANIMALS',\n",
       "            'SET OF 20 VINTAGE CHRISTMAS NAPKINS'}): 100,\n",
       " frozenset({'HEART OF WICKER LARGE', 'WICKER STAR'}): 171,\n",
       " frozenset({'HEART OF WICKER LARGE', 'JAM MAKING SET PRINTED'}): 145,\n",
       " frozenset({'HEART OF WICKER LARGE', \"PAPER CHAIN KIT 50'S CHRISTMAS\"}): 112,\n",
       " frozenset({'HEART OF WICKER LARGE', 'PACK OF 72 RETROSPOT CAKE CASES'}): 123,\n",
       " frozenset({'ADVENT CALENDAR GINGHAM SACK',\n",
       "            \"PAPER CHAIN KIT 50'S CHRISTMAS\"}): 114,\n",
       " frozenset({'HEART OF WICKER SMALL',\n",
       "            'VINTAGE HEADS AND TAILS CARD GAME'}): 101,\n",
       " frozenset({'HEART OF WICKER SMALL', 'WICKER STAR'}): 154,\n",
       " frozenset({'HEART OF WICKER SMALL', 'VINTAGE SNAP CARDS'}): 150,\n",
       " frozenset({'HEART OF WICKER SMALL', 'JAM MAKING SET PRINTED'}): 222,\n",
       " frozenset({'HEART OF WICKER SMALL', \"PAPER CHAIN KIT 50'S CHRISTMAS\"}): 150,\n",
       " frozenset({'HEART OF WICKER SMALL',\n",
       "            'PACK OF 60 PINK PAISLEY CAKE CASES'}): 139,\n",
       " frozenset({'FELTCRAFT 6 FLOWER FRIENDS', 'FELTCRAFT BUTTERFLY HEARTS'}): 186,\n",
       " frozenset({'FELTCRAFT BUTTERFLY HEARTS',\n",
       "            'FELTCRAFT PRINCESS LOLA DOLL'}): 101,\n",
       " frozenset({'FELTCRAFT BUTTERFLY HEARTS',\n",
       "            'FELTCRAFT PRINCESS CHARLOTTE DOLL'}): 104,\n",
       " frozenset({'VINTAGE HEADS AND TAILS CARD GAME', 'VINTAGE SNAP CARDS'}): 349,\n",
       " frozenset({'JAM MAKING SET PRINTED',\n",
       "            'VINTAGE HEADS AND TAILS CARD GAME'}): 140,\n",
       " frozenset({\"PAPER CHAIN KIT 50'S CHRISTMAS\",\n",
       "            'VINTAGE HEADS AND TAILS CARD GAME'}): 152,\n",
       " frozenset({'PACK OF 72 RETROSPOT CAKE CASES',\n",
       "            'VINTAGE HEADS AND TAILS CARD GAME'}): 136,\n",
       " frozenset({\"PAPER CHAIN KIT 50'S CHRISTMAS\", 'WICKER STAR'}): 108,\n",
       " frozenset({'JAM MAKING SET PRINTED', 'VINTAGE SNAP CARDS'}): 204,\n",
       " frozenset({\"PAPER CHAIN KIT 50'S CHRISTMAS\", 'VINTAGE SNAP CARDS'}): 204,\n",
       " frozenset({'PACK OF 72 RETROSPOT CAKE CASES', 'VINTAGE SNAP CARDS'}): 184,\n",
       " frozenset({'60 CAKE CASES DOLLY GIRL DESIGN', 'VINTAGE SNAP CARDS'}): 102,\n",
       " frozenset({'PACK OF 60 PINK PAISLEY CAKE CASES', 'VINTAGE SNAP CARDS'}): 135,\n",
       " frozenset({'HAND WARMER BIRD DESIGN', 'VINTAGE SNAP CARDS'}): 106,\n",
       " frozenset({'HAND WARMER OWL DESIGN', 'VINTAGE SNAP CARDS'}): 123,\n",
       " frozenset({'PLASTERS IN TIN SPACEBOY', 'VINTAGE SNAP CARDS'}): 100,\n",
       " frozenset({'PLASTERS IN TIN WOODLAND ANIMALS', 'VINTAGE SNAP CARDS'}): 105,\n",
       " frozenset({'FELTCRAFT 6 FLOWER FRIENDS', 'JAM MAKING SET PRINTED'}): 104,\n",
       " frozenset({'JAM MAKING SET PRINTED', 'PACK OF 12 LONDON TISSUES'}): 122,\n",
       " frozenset({'JAM MAKING SET PRINTED', 'PACK OF 72 RETROSPOT CAKE CASES'}): 284,\n",
       " frozenset({'60 CAKE CASES DOLLY GIRL DESIGN', 'JAM MAKING SET PRINTED'}): 114,\n",
       " frozenset({'JAM MAKING SET PRINTED',\n",
       "            'PACK OF 60 PINK PAISLEY CAKE CASES'}): 225,\n",
       " frozenset({'HAND WARMER BIRD DESIGN', 'JAM MAKING SET PRINTED'}): 106,\n",
       " frozenset({'HAND WARMER OWL DESIGN', 'JAM MAKING SET PRINTED'}): 103,\n",
       " frozenset({'JAM MAKING SET PRINTED', 'SET 12 RETRO WHITE CHALK STICKS'}): 107,\n",
       " frozenset({'JAM MAKING SET PRINTED', 'PLASTERS IN TIN VINTAGE PAISLEY'}): 125,\n",
       " frozenset({'JAM MAKING SET PRINTED', 'PLASTERS IN TIN SPACEBOY'}): 118,\n",
       " frozenset({'JAM MAKING SET PRINTED',\n",
       "            'PLASTERS IN TIN WOODLAND ANIMALS'}): 135,\n",
       " frozenset({'CHARLIE + LOLA RED HOT WATER BOTTLE',\n",
       "            'JAM MAKING SET PRINTED'}): 113,\n",
       " frozenset({'CHRISTMAS GINGHAM STAR', 'CHRISTMAS GINGHAM TREE'}): 146,\n",
       " frozenset({'CHRISTMAS GINGHAM TREE', \"PAPER CHAIN KIT 50'S CHRISTMAS\"}): 102,\n",
       " frozenset({'FELTCRAFT CHRISTMAS FAIRY', 'FELTCRAFT PRINCESS LOLA DOLL'}): 103,\n",
       " frozenset({'FELTCRAFT PRINCESS CHARLOTTE DOLL',\n",
       "            'FELTCRAFT PRINCESS LOLA DOLL'}): 287,\n",
       " frozenset({'PACK OF 12 LONDON TISSUES',\n",
       "            'PACK OF 72 RETROSPOT CAKE CASES'}): 118,\n",
       " frozenset({\"CHILDREN'S APRON DOLLY GIRL\",\n",
       "            'CHILDRENS APRON SPACEBOY DESIGN'}): 184,\n",
       " frozenset({'CHILDRENS APRON SPACEBOY DESIGN',\n",
       "            'PACK OF 72 RETROSPOT CAKE CASES'}): 158,\n",
       " frozenset({'CHILDRENS APRON SPACEBOY DESIGN',\n",
       "            'PLASTERS IN TIN SPACEBOY'}): 121,\n",
       " frozenset({'CHILDRENS APRON SPACEBOY DESIGN',\n",
       "            'PLASTERS IN TIN WOODLAND ANIMALS'}): 104,\n",
       " frozenset({'CHRISTMAS LIGHTS 10 REINDEER',\n",
       "            \"PAPER CHAIN KIT 50'S CHRISTMAS\"}): 118,\n",
       " frozenset({'PACK OF 72 RETROSPOT CAKE CASES',\n",
       "            \"PAPER CHAIN KIT 50'S CHRISTMAS\"}): 199,\n",
       " frozenset({'60 CAKE CASES DOLLY GIRL DESIGN',\n",
       "            \"PAPER CHAIN KIT 50'S CHRISTMAS\"}): 106,\n",
       " frozenset({'PACK OF 60 PINK PAISLEY CAKE CASES',\n",
       "            \"PAPER CHAIN KIT 50'S CHRISTMAS\"}): 137,\n",
       " frozenset({'HAND WARMER BABUSHKA DESIGN',\n",
       "            \"PAPER CHAIN KIT 50'S CHRISTMAS\"}): 112,\n",
       " frozenset({'HAND WARMER BIRD DESIGN', \"PAPER CHAIN KIT 50'S CHRISTMAS\"}): 192,\n",
       " frozenset({'HAND WARMER OWL DESIGN', \"PAPER CHAIN KIT 50'S CHRISTMAS\"}): 212,\n",
       " frozenset({'HAND WARMER RED RETROSPOT',\n",
       "            \"PAPER CHAIN KIT 50'S CHRISTMAS\"}): 100,\n",
       " frozenset({\"PAPER CHAIN KIT 50'S CHRISTMAS\",\n",
       "            'PLASTERS IN TIN VINTAGE PAISLEY'}): 107,\n",
       " frozenset({\"PAPER CHAIN KIT 50'S CHRISTMAS\",\n",
       "            'PLASTERS IN TIN SPACEBOY'}): 121,\n",
       " frozenset({\"PAPER CHAIN KIT 50'S CHRISTMAS\",\n",
       "            'PLASTERS IN TIN WOODLAND ANIMALS'}): 133,\n",
       " frozenset({'CHARLIE + LOLA RED HOT WATER BOTTLE',\n",
       "            \"PAPER CHAIN KIT 50'S CHRISTMAS\"}): 106,\n",
       " frozenset({'PACK OF 60 MUSHROOM CAKE CASES',\n",
       "            'PACK OF 72 RETROSPOT CAKE CASES'}): 254,\n",
       " frozenset({'60 CAKE CASES DOLLY GIRL DESIGN',\n",
       "            'PACK OF 72 RETROSPOT CAKE CASES'}): 271,\n",
       " frozenset({'HAND WARMER OWL DESIGN', 'PACK OF 72 RETROSPOT CAKE CASES'}): 101,\n",
       " frozenset({'PACK OF 72 RETROSPOT CAKE CASES',\n",
       "            'PLASTERS IN TIN VINTAGE PAISLEY'}): 141,\n",
       " frozenset({'PACK OF 72 RETROSPOT CAKE CASES',\n",
       "            'PLASTERS IN TIN SPACEBOY'}): 158,\n",
       " frozenset({'PACK OF 72 RETROSPOT CAKE CASES',\n",
       "            'PLASTERS IN TIN WOODLAND ANIMALS'}): 170,\n",
       " frozenset({'60 CAKE CASES DOLLY GIRL DESIGN',\n",
       "            'PACK OF 60 MUSHROOM CAKE CASES'}): 131,\n",
       " frozenset({'PACK OF 60 MUSHROOM CAKE CASES',\n",
       "            'PACK OF 60 PINK PAISLEY CAKE CASES'}): 185,\n",
       " frozenset({'60 CAKE CASES DOLLY GIRL DESIGN',\n",
       "            'PACK OF 60 PINK PAISLEY CAKE CASES'}): 220,\n",
       " frozenset({'PACK OF 60 PINK PAISLEY CAKE CASES',\n",
       "            'PLASTERS IN TIN VINTAGE PAISLEY'}): 131,\n",
       " frozenset({'PACK OF 60 PINK PAISLEY CAKE CASES',\n",
       "            'PLASTERS IN TIN WOODLAND ANIMALS'}): 111,\n",
       " frozenset({'HAND WARMER BABUSHKA DESIGN', 'HAND WARMER BIRD DESIGN'}): 136,\n",
       " frozenset({'HAND WARMER BABUSHKA DESIGN', 'HAND WARMER OWL DESIGN'}): 137,\n",
       " frozenset({'HAND WARMER BIRD DESIGN', 'HAND WARMER OWL DESIGN'}): 337,\n",
       " frozenset({'HAND WARMER BIRD DESIGN', 'HAND WARMER RED RETROSPOT'}): 184,\n",
       " frozenset({'PLASTERS IN TIN SPACEBOY',\n",
       "            'PLASTERS IN TIN VINTAGE PAISLEY'}): 229,\n",
       " frozenset({'PLASTERS IN TIN VINTAGE PAISLEY',\n",
       "            'PLASTERS IN TIN WOODLAND ANIMALS'}): 256,\n",
       " frozenset({'PLASTERS IN TIN SPACEBOY',\n",
       "            'PLASTERS IN TIN WOODLAND ANIMALS'}): 370,\n",
       " frozenset({'MAGIC DRAWING SLATE DOLLY GIRL',\n",
       "            'MAGIC DRAWING SLATE SPACEBOY'}): 150,\n",
       " frozenset({'TRADITIONAL WOODEN CATCH CUP GAME',\n",
       "            'WOODEN BOX OF DOMINOES'}): 126,\n",
       " frozenset({'TRADITIONAL WOODEN CATCH CUP GAME',\n",
       "            'TRADITIONAL WOODEN SKIPPING ROPE'}): 173,\n",
       " frozenset({'BOYS VINTAGE TIN SEASIDE BUCKET', 'RED METAL BEACH SPADE'}): 133,\n",
       " frozenset({'GIRLS VINTAGE TIN SEASIDE BUCKET', 'RED METAL BEACH SPADE'}): 121,\n",
       " frozenset({'BOYS VINTAGE TIN SEASIDE BUCKET',\n",
       "            'GIRLS VINTAGE TIN SEASIDE BUCKET'}): 137,\n",
       " frozenset({'GREY HEART HOT WATER BOTTLE',\n",
       "            'SCOTTIE DOG HOT WATER BOTTLE'}): 205,\n",
       " frozenset({'BIRD HOUSE HOT WATER BOTTLE',\n",
       "            'SCOTTIE DOG HOT WATER BOTTLE'}): 123,\n",
       " frozenset({'FAWN BLUE HOT WATER BOTTLE',\n",
       "            'WHITE SKULL HOT WATER BOTTLE'}): 162,\n",
       " frozenset({'FAWN BLUE HOT WATER BOTTLE',\n",
       "            'RETROSPOT HEART HOT WATER BOTTLE'}): 138,\n",
       " frozenset({'FAWN BLUE HOT WATER BOTTLE',\n",
       "            'RED WOOLLY HOTTIE WHITE HEART.'}): 123,\n",
       " frozenset({'FAWN BLUE HOT WATER BOTTLE',\n",
       "            'SCOTTIE DOG HOT WATER BOTTLE'}): 179,\n",
       " frozenset({'FAWN BLUE HOT WATER BOTTLE', 'GREY HEART HOT WATER BOTTLE'}): 110,\n",
       " frozenset({'RETROSPOT HEART HOT WATER BOTTLE',\n",
       "            'WHITE SKULL HOT WATER BOTTLE'}): 155,\n",
       " frozenset({'GREY HEART HOT WATER BOTTLE',\n",
       "            'WHITE SKULL HOT WATER BOTTLE'}): 112,\n",
       " frozenset({'RED WOOLLY HOTTIE WHITE HEART.',\n",
       "            'RETROSPOT HEART HOT WATER BOTTLE'}): 176,\n",
       " frozenset({'RETROSPOT HEART HOT WATER BOTTLE',\n",
       "            'SCOTTIE DOG HOT WATER BOTTLE'}): 297,\n",
       " frozenset({'GREY HEART HOT WATER BOTTLE',\n",
       "            'RETROSPOT HEART HOT WATER BOTTLE'}): 182,\n",
       " frozenset({'RED WOOLLY HOTTIE WHITE HEART.',\n",
       "            'SCOTTIE DOG HOT WATER BOTTLE'}): 178,\n",
       " frozenset({'JAM MAKING SET PRINTED', 'PACK OF 6 BIRDY GIFT TAGS'}): 108,\n",
       " frozenset({'CERAMIC HEART FAIRY CAKE MONEY BANK',\n",
       "            'CERAMIC STRAWBERRY CAKE MONEY BANK'}): 174,\n",
       " frozenset({'CERAMIC CHERRY CAKE MONEY BANK',\n",
       "            'CERAMIC HEART FAIRY CAKE MONEY BANK'}): 124,\n",
       " frozenset({'BLACK HEART CARD HOLDER', 'CREAM HEART CARD HOLDER'}): 105,\n",
       " frozenset({'CHRISTMAS CRAFT LITTLE FRIENDS',\n",
       "            'CHRISTMAS CRAFT WHITE FAIRY'}): 262,\n",
       " frozenset({'CHRISTMAS CRAFT LITTLE FRIENDS',\n",
       "            'ROTATING SILVER ANGELS T-LIGHT HLDR'}): 115,\n",
       " frozenset({'4 TRADITIONAL SPINNING TOPS',\n",
       "            'TRADITIONAL WOODEN SKIPPING ROPE'}): 166,\n",
       " frozenset({'72 SWEETHEART FAIRY CAKE CASES',\n",
       "            'PACK OF 60 PINK PAISLEY CAKE CASES'}): 260,\n",
       " frozenset({'CHICK GREY HOT WATER BOTTLE',\n",
       "            'RETROSPOT HEART HOT WATER BOTTLE'}): 165,\n",
       " frozenset({'JUMBO BAG PINK POLKADOT', 'JUMBO BAG RED RETROSPOT'}): 871,\n",
       " frozenset({'JUMBO BAG PINK POLKADOT', \"PAPER CHAIN KIT 50'S CHRISTMAS\"}): 120,\n",
       " frozenset({'HEART IVORY TRELLIS SMALL', 'JUMBO BAG PINK POLKADOT'}): 102,\n",
       " frozenset({'JUMBO BAG PINK POLKADOT', 'SMALL POPCORN HOLDER'}): 132,\n",
       " frozenset({'JUMBO BAG PINK POLKADOT', 'VINTAGE PAISLEY STATIONERY SET'}): 100,\n",
       " frozenset({'JAM MAKING SET WITH JARS', 'JUMBO BAG PINK POLKADOT'}): 141,\n",
       " frozenset({'JUMBO BAG DOLLY GIRL DESIGN', 'JUMBO BAG PINK POLKADOT'}): 218,\n",
       " frozenset({'ASSORTED COLOUR BIRD ORNAMENT', 'JUMBO BAG RED RETROSPOT'}): 173,\n",
       " frozenset({'JUMBO BAG RED RETROSPOT', \"PAPER CHAIN KIT 50'S CHRISTMAS\"}): 222,\n",
       " frozenset({'JUMBO BAG RED RETROSPOT',\n",
       "            'PACK OF 12 HEARTS DESIGN TISSUES'}): 113,\n",
       " frozenset({'JUMBO BAG RED RETROSPOT', 'SOLDIERS EGG CUP'}): 107,\n",
       " frozenset({'HEART IVORY TRELLIS SMALL', 'JUMBO BAG RED RETROSPOT'}): 138,\n",
       " frozenset({'JUMBO BAG RED RETROSPOT',\n",
       "            'PACK OF 60 PINK PAISLEY CAKE CASES'}): 243,\n",
       " frozenset({'JUMBO BAG RED RETROSPOT', 'SET OF 6 SOLDIER SKITTLES'}): 118,\n",
       " frozenset({'JUMBO BAG RED RETROSPOT', 'VINTAGE PAISLEY STATIONERY SET'}): 191,\n",
       " frozenset({'60 CAKE CASES VINTAGE CHRISTMAS',\n",
       "            'JUMBO BAG RED RETROSPOT'}): 159,\n",
       " frozenset({'JUMBO BAG RED RETROSPOT',\n",
       "            'WOODEN HEART CHRISTMAS SCANDINAVIAN'}): 117,\n",
       " frozenset({'JUMBO BAG RED RETROSPOT',\n",
       "            'PLASTERS IN TIN VINTAGE PAISLEY'}): 122,\n",
       " frozenset({'CLOTHES PEGS RETROSPOT PACK 24', 'JUMBO BAG RED RETROSPOT'}): 183,\n",
       " frozenset({'JUMBO BAG RED RETROSPOT',\n",
       "            'PACK OF 72 RETROSPOT CAKE CASES'}): 360,\n",
       " frozenset({'JUMBO BAG RED RETROSPOT', 'SET OF 3 NOTEBOOKS IN PARCEL'}): 131,\n",
       " frozenset({'BALLOONS  WRITING SET', 'JUMBO BAG RED RETROSPOT'}): 140,\n",
       " frozenset({'JUMBO BAG DOLLY GIRL DESIGN', 'JUMBO BAG RED RETROSPOT'}): 281,\n",
       " frozenset({'ASSORTED COLOUR BIRD ORNAMENT',\n",
       "            \"PAPER CHAIN KIT 50'S CHRISTMAS\"}): 113,\n",
       " frozenset({'ASSORTED COLOUR BIRD ORNAMENT',\n",
       "            'HEART FILIGREE DOVE  SMALL'}): 113,\n",
       " frozenset({'ASSORTED COLOUR BIRD ORNAMENT',\n",
       "            'CLOTHES PEGS RETROSPOT PACK 24'}): 107,\n",
       " frozenset({'ASSORTED COLOUR BIRD ORNAMENT',\n",
       "            'PACK OF 6 BIRDY GIFT TAGS'}): 102,\n",
       " frozenset({'ASSORTED COLOUR BIRD ORNAMENT',\n",
       "            'RIBBON REEL STRIPES DESIGN'}): 101,\n",
       " frozenset({'ASSORTED COLOUR BIRD ORNAMENT', 'JAM MAKING SET WITH JARS'}): 145,\n",
       " frozenset({\"PAPER CHAIN KIT 50'S CHRISTMAS\",\n",
       "            'RIBBON REEL CHRISTMAS PRESENT'}): 137,\n",
       " frozenset({\"PAPER CHAIN KIT 50'S CHRISTMAS\",\n",
       "            'SET OF 6 SOLDIER SKITTLES'}): 105,\n",
       " frozenset({\"PAPER CHAIN KIT 50'S CHRISTMAS\",\n",
       "            'VINTAGE PAISLEY STATIONERY SET'}): 106,\n",
       " frozenset({\"PAPER CHAIN KIT 50'S CHRISTMAS\",\n",
       "            'STAR WOODEN CHRISTMAS DECORATION'}): 113,\n",
       " frozenset({\"PAPER CHAIN KIT 50'S CHRISTMAS\",\n",
       "            'WOODEN HEART CHRISTMAS SCANDINAVIAN'}): 168,\n",
       " frozenset({'HAND WARMER SCOTTY DOG DESIGN',\n",
       "            \"PAPER CHAIN KIT 50'S CHRISTMAS\"}): 197,\n",
       " frozenset({'CLOTHES PEGS RETROSPOT PACK 24',\n",
       "            \"PAPER CHAIN KIT 50'S CHRISTMAS\"}): 117,\n",
       " frozenset({'PACK OF 6 BIRDY GIFT TAGS',\n",
       "            \"PAPER CHAIN KIT 50'S CHRISTMAS\"}): 101,\n",
       " frozenset({'BALLOONS  WRITING SET', \"PAPER CHAIN KIT 50'S CHRISTMAS\"}): 105,\n",
       " frozenset({'JUMBO  BAG BAROQUE BLACK WHITE',\n",
       "            \"PAPER CHAIN KIT 50'S CHRISTMAS\"}): 100,\n",
       " frozenset({'JAM MAKING SET WITH JARS',\n",
       "            \"PAPER CHAIN KIT 50'S CHRISTMAS\"}): 181,\n",
       " frozenset({'PAPER CHAIN KIT VINTAGE CHRISTMAS',\n",
       "            'RIBBON REEL CHRISTMAS PRESENT'}): 119,\n",
       " frozenset({'PACK OF 12 HEARTS DESIGN TISSUES',\n",
       "            'PACK OF 12 RED RETROSPOT TISSUES'}): 113,\n",
       " frozenset({'PACK OF 12 HEARTS DESIGN TISSUES',\n",
       "            'PACK OF 72 RETROSPOT CAKE CASES'}): 121,\n",
       " frozenset({'PACK OF 12 RED RETROSPOT TISSUES',\n",
       "            'PACK OF 72 RETROSPOT CAKE CASES'}): 116,\n",
       " frozenset({'PACK OF 72 RETROSPOT CAKE CASES', 'SOLDIERS EGG CUP'}): 102,\n",
       " frozenset({'JAM MAKING SET WITH JARS', 'SOLDIERS EGG CUP'}): 101,\n",
       " frozenset({'HEART FILIGREE DOVE  SMALL', 'HEART IVORY TRELLIS SMALL'}): 100,\n",
       " frozenset({'PACK OF 60 PINK PAISLEY CAKE CASES',\n",
       "            'SMALL POPCORN HOLDER'}): 105,\n",
       " frozenset({'JUMBO  BAG BAROQUE BLACK WHITE', 'SMALL POPCORN HOLDER'}): 103,\n",
       " frozenset({'PACK OF 60 PINK PAISLEY CAKE CASES',\n",
       "            'VINTAGE PAISLEY STATIONERY SET'}): 142,\n",
       " frozenset({'CLOTHES PEGS RETROSPOT PACK 24',\n",
       "            'PACK OF 60 PINK PAISLEY CAKE CASES'}): 128,\n",
       " frozenset({'JAM MAKING SET WITH JARS',\n",
       "            'PACK OF 60 PINK PAISLEY CAKE CASES'}): 212,\n",
       " frozenset({'JAM MAKING SET WITH JARS', 'SET OF 6 SOLDIER SKITTLES'}): 108,\n",
       " frozenset({'PACK OF 72 RETROSPOT CAKE CASES',\n",
       "            'VINTAGE PAISLEY STATIONERY SET'}): 174,\n",
       " frozenset({'SET OF 3 NOTEBOOKS IN PARCEL',\n",
       "            'VINTAGE PAISLEY STATIONERY SET'}): 110,\n",
       " frozenset({'JUMBO  BAG BAROQUE BLACK WHITE',\n",
       "            'VINTAGE PAISLEY STATIONERY SET'}): 101,\n",
       " frozenset({'JAM MAKING SET WITH JARS',\n",
       "            'VINTAGE PAISLEY STATIONERY SET'}): 149,\n",
       " frozenset({'PAPER CHAIN KIT VINTAGE CHRISTMAS',\n",
       "            'WOODEN HEART CHRISTMAS SCANDINAVIAN'}): 107,\n",
       " frozenset({'HAND WARMER SCOTTY DOG DESIGN',\n",
       "            'PAPER CHAIN KIT VINTAGE CHRISTMAS'}): 153,\n",
       " frozenset({'SET/10 BLUE POLKADOT PARTY CANDLES',\n",
       "            'SET/10 RED POLKADOT PARTY CANDLES'}): 151,\n",
       " frozenset({'SET/10 BLUE POLKADOT PARTY CANDLES',\n",
       "            'SET/10 PINK POLKADOT PARTY CANDLES'}): 196,\n",
       " frozenset({'60 CAKE CASES VINTAGE CHRISTMAS',\n",
       "            'WOODEN HEART CHRISTMAS SCANDINAVIAN'}): 102,\n",
       " frozenset({'60 CAKE CASES VINTAGE CHRISTMAS',\n",
       "            'HAND WARMER SCOTTY DOG DESIGN'}): 124,\n",
       " frozenset({'60 CAKE CASES VINTAGE CHRISTMAS',\n",
       "            'JAM MAKING SET WITH JARS'}): 143,\n",
       " frozenset({'STAR WOODEN CHRISTMAS DECORATION',\n",
       "            'WOODEN HEART CHRISTMAS SCANDINAVIAN'}): 104,\n",
       " frozenset({'PACK OF 72 RETROSPOT CAKE CASES',\n",
       "            'WOODEN HEART CHRISTMAS SCANDINAVIAN'}): 112,\n",
       " frozenset({'JAM MAKING SET WITH JARS',\n",
       "            'PLASTERS IN TIN VINTAGE PAISLEY'}): 118,\n",
       " frozenset({'CLOTHES PEGS RETROSPOT PACK 24',\n",
       "            'PACK OF 72 RETROSPOT CAKE CASES'}): 224,\n",
       " frozenset({'CLOTHES PEGS RETROSPOT PACK 24',\n",
       "            'JAM MAKING SET WITH JARS'}): 178,\n",
       " frozenset({'PACK OF 72 RETROSPOT CAKE CASES',\n",
       "            'SET/10 RED POLKADOT PARTY CANDLES'}): 135,\n",
       " frozenset({'PACK OF 72 RETROSPOT CAKE CASES',\n",
       "            'SET/10 PINK POLKADOT PARTY CANDLES'}): 113,\n",
       " frozenset({'PACK OF 72 RETROSPOT CAKE CASES',\n",
       "            'SET OF 3 NOTEBOOKS IN PARCEL'}): 114,\n",
       " frozenset({'PACK OF 72 RETROSPOT CAKE CASES',\n",
       "            'RIBBON REEL STRIPES DESIGN'}): 108,\n",
       " frozenset({'DINOSAURS  WRITING SET', 'PACK OF 72 RETROSPOT CAKE CASES'}): 100,\n",
       " frozenset({'BALLOONS  WRITING SET', 'PACK OF 72 RETROSPOT CAKE CASES'}): 102,\n",
       " frozenset({'JAM MAKING SET WITH JARS',\n",
       "            'PACK OF 72 RETROSPOT CAKE CASES'}): 282,\n",
       " frozenset({'SET/10 PINK POLKADOT PARTY CANDLES',\n",
       "            'SET/10 RED POLKADOT PARTY CANDLES'}): 186,\n",
       " frozenset({'BALLOONS  WRITING SET', 'DINOSAURS  WRITING SET'}): 171,\n",
       " frozenset({'DINOSAURS  WRITING SET', 'SKULLS WRITING SET'}): 147,\n",
       " frozenset({'BALLOONS  WRITING SET', 'SKULLS WRITING SET'}): 135,\n",
       " frozenset({'BALLOONS  WRITING SET', 'JUMBO  BAG BAROQUE BLACK WHITE'}): 104,\n",
       " frozenset({'JAM MAKING SET WITH JARS',\n",
       "            'JUMBO  BAG BAROQUE BLACK WHITE'}): 133,\n",
       " frozenset({'JUMBO  BAG BAROQUE BLACK WHITE',\n",
       "            'JUMBO BAG DOLLY GIRL DESIGN'}): 145,\n",
       " frozenset({'REGENCY CAKESTAND 3 TIER', 'SMALL GLASS HEART TRINKET POT'}): 189,\n",
       " frozenset({'JUMBO SHOPPER VINTAGE RED PAISLEY',\n",
       "            'SMALL GLASS HEART TRINKET POT'}): 106,\n",
       " frozenset({'RED WOOLLY HOTTIE WHITE HEART.',\n",
       "            'REGENCY CAKESTAND 3 TIER'}): 140,\n",
       " frozenset({'\"RECORD FRAME 7\"\" SINGLE SIZE \"',\n",
       "            'BLACK RECORD COVER FRAME'}): 129,\n",
       " frozenset({'REGENCY CAKESTAND 3 TIER', 'SET OF 6 SOLDIER SKITTLES'}): 117,\n",
       " frozenset({'JUMBO SHOPPER VINTAGE RED PAISLEY',\n",
       "            'REGENCY CAKESTAND 3 TIER'}): 190,\n",
       " frozenset({'JAM MAKING SET WITH JARS',\n",
       "            'SET OF 20 VINTAGE CHRISTMAS NAPKINS'}): 122,\n",
       " frozenset({'HAND WARMER BIRD DESIGN', 'JAM MAKING SET WITH JARS'}): 101,\n",
       " frozenset({'CHRISTMAS CRAFT LITTLE FRIENDS',\n",
       "            'JAM MAKING SET WITH JARS'}): 120,\n",
       " frozenset({'FELTCRAFT 6 FLOWER FRIENDS', 'JAM MAKING SET WITH JARS'}): 110,\n",
       " frozenset({'ROTATING SILVER ANGELS T-LIGHT HLDR',\n",
       "            'SET OF 20 VINTAGE CHRISTMAS NAPKINS'}): 123,\n",
       " frozenset({'PAPER CHAIN KIT VINTAGE CHRISTMAS',\n",
       "            'ROTATING SILVER ANGELS T-LIGHT HLDR'}): 130,\n",
       " frozenset({'JAM MAKING SET PRINTED',\n",
       "            'ROTATING SILVER ANGELS T-LIGHT HLDR'}): 105,\n",
       " frozenset({'CHRISTMAS CRAFT LITTLE FRIENDS',\n",
       "            'SET OF 20 VINTAGE CHRISTMAS NAPKINS'}): 117,\n",
       " frozenset({'CHRISTMAS CRAFT LITTLE FRIENDS',\n",
       "            'PAPER CHAIN KIT VINTAGE CHRISTMAS'}): 163,\n",
       " frozenset({'3 STRIPEY MICE FELTCRAFT', 'FELTCRAFT 6 FLOWER FRIENDS'}): 151,\n",
       " frozenset({'DOLLY GIRL LUNCH BOX', 'PACK OF 12 LONDON TISSUES'}): 112,\n",
       " frozenset({'ASSORTED COLOUR BIRD ORNAMENT',\n",
       "            'WHITE HANGING HEART T-LIGHT HOLDER'}): 343,\n",
       " frozenset({'ASSORTED COLOUR BIRD ORNAMENT', 'REGENCY CAKESTAND 3 TIER'}): 280,\n",
       " frozenset({'LANTERN CREAM GAZEBO',\n",
       "            'WHITE HANGING HEART T-LIGHT HOLDER'}): 124,\n",
       " frozenset({'REGENCY CAKESTAND 3 TIER',\n",
       "            'WHITE HANGING HEART T-LIGHT HOLDER'}): 384,\n",
       " frozenset({'GIN + TONIC DIET METAL SIGN',\n",
       "            'WHITE HANGING HEART T-LIGHT HOLDER'}): 217,\n",
       " frozenset({'GIN + TONIC DIET METAL SIGN', 'HEART OF WICKER SMALL'}): 126,\n",
       " frozenset({'HEART OF WICKER LARGE',\n",
       "            'WHITE HANGING HEART T-LIGHT HOLDER'}): 378,\n",
       " frozenset({'HEART OF WICKER LARGE', 'REX CASH+CARRY JUMBO SHOPPER'}): 106,\n",
       " frozenset({'PLASTERS IN TIN SKULLS', 'PLASTERS IN TIN SPACEBOY'}): 237,\n",
       " frozenset({'PLASTERS IN TIN SKULLS',\n",
       "            'WHITE HANGING HEART T-LIGHT HOLDER'}): 179,\n",
       " frozenset({'JUMBO STORAGE BAG SKULLS', 'PLASTERS IN TIN SKULLS'}): 113,\n",
       " frozenset({'PLASTERS IN TIN SPACEBOY',\n",
       "            'WHITE HANGING HEART T-LIGHT HOLDER'}): 136,\n",
       " frozenset({'BUTTON BOX', 'WHITE HANGING HEART T-LIGHT HOLDER'}): 104,\n",
       " frozenset({'PLASTERS IN TIN VINTAGE PAISLEY',\n",
       "            'WHITE HANGING HEART T-LIGHT HOLDER'}): 163,\n",
       " frozenset({'HERB MARKER MINT', 'HERB MARKER ROSEMARY'}): 236,\n",
       " frozenset({'HERB MARKER BASIL', 'HERB MARKER MINT'}): 229,\n",
       " frozenset({'HERB MARKER CHIVES', 'HERB MARKER MINT'}): 212,\n",
       " frozenset({'HERB MARKER MINT', 'HERB MARKER PARSLEY'}): 236,\n",
       " frozenset({'HERB MARKER MINT', 'HERB MARKER THYME'}): 227,\n",
       " frozenset({'HERB MARKER BASIL', 'HERB MARKER ROSEMARY'}): 238,\n",
       " frozenset({'HERB MARKER CHIVES', 'HERB MARKER ROSEMARY'}): 211,\n",
       " frozenset({'HERB MARKER PARSLEY', 'HERB MARKER ROSEMARY'}): 238,\n",
       " frozenset({'HERB MARKER ROSEMARY', 'HERB MARKER THYME'}): 242,\n",
       " frozenset({'HERB MARKER BASIL', 'HERB MARKER CHIVES'}): 202,\n",
       " frozenset({'HERB MARKER BASIL', 'HERB MARKER PARSLEY'}): 234,\n",
       " frozenset({'HERB MARKER BASIL', 'HERB MARKER THYME'}): 230,\n",
       " frozenset({'HERB MARKER CHIVES', 'HERB MARKER PARSLEY'}): 215,\n",
       " frozenset({'HERB MARKER CHIVES', 'HERB MARKER THYME'}): 209,\n",
       " frozenset({'HERB MARKER PARSLEY', 'HERB MARKER THYME'}): 235,\n",
       " frozenset({'HEART OF WICKER SMALL',\n",
       "            'WHITE HANGING HEART T-LIGHT HOLDER'}): 418,\n",
       " frozenset({'SET OF 3 HEART COOKIE CUTTERS',\n",
       "            'WHITE HANGING HEART T-LIGHT HOLDER'}): 201,\n",
       " frozenset({'PACK OF 12 HEARTS DESIGN TISSUES',\n",
       "            'WHITE HANGING HEART T-LIGHT HOLDER'}): 154,\n",
       " frozenset({'REX CASH+CARRY JUMBO SHOPPER',\n",
       "            'WHITE HANGING HEART T-LIGHT HOLDER'}): 207,\n",
       " frozenset({'JUMBO STORAGE BAG SKULLS',\n",
       "            'WHITE HANGING HEART T-LIGHT HOLDER'}): 179,\n",
       " frozenset({'RETROSPOT RED WASHING UP GLOVES',\n",
       "            'WHITE HANGING HEART T-LIGHT HOLDER'}): 101,\n",
       " frozenset({'PICNIC BASKET WICKER LARGE',\n",
       "            'WHITE HANGING HEART T-LIGHT HOLDER'}): 120,\n",
       " frozenset({'HEART OF WICKER SMALL', 'REX CASH+CARRY JUMBO SHOPPER'}): 109,\n",
       " frozenset({'HEART OF WICKER SMALL', 'JUMBO STORAGE BAG SKULLS'}): 105,\n",
       " frozenset({'FELTCRAFT PRINCESS CHARLOTTE DOLL',\n",
       "            'PINK CREAM FELT CRAFT TRINKET BOX'}): 145,\n",
       " frozenset({'JUMBO BAG RED RETROSPOT',\n",
       "            'PINK CREAM FELT CRAFT TRINKET BOX'}): 139,\n",
       " frozenset({'BOX OF 6 ASSORTED COLOUR TEASPOONS',\n",
       "            'JUMBO BAG RED RETROSPOT'}): 108,\n",
       " frozenset({'PACK OF 20 NAPKINS PANTRY DESIGN',\n",
       "            'SET/5 RED RETROSPOT LID GLASS BOWLS'}): 116,\n",
       " frozenset({'JUMBO BAG RED RETROSPOT',\n",
       "            'PACK OF 20 NAPKINS PANTRY DESIGN'}): 147,\n",
       " frozenset({'HAND WARMER OWL DESIGN', 'JUMBO BAG RED RETROSPOT'}): 139,\n",
       " frozenset({'JUMBO BAG RED RETROSPOT',\n",
       "            'SET/5 RED RETROSPOT LID GLASS BOWLS'}): 237,\n",
       " frozenset({'JUMBO STORAGE BAG SUKI',\n",
       "            'SET/5 RED RETROSPOT LID GLASS BOWLS'}): 123,\n",
       " frozenset({'HOMEMADE JAM SCENTED CANDLES',\n",
       "            'ROSES REGENCY TEACUP AND SAUCER'}): 135,\n",
       " frozenset({'LOVEBIRD HANGING DECORATION WHITE',\n",
       "            'ROSES REGENCY TEACUP AND SAUCER'}): 135,\n",
       " frozenset({'HANGING HEART MIRROR DECORATION',\n",
       "            'LOVEBIRD HANGING DECORATION WHITE'}): 136,\n",
       " frozenset({'REGENCY CAKESTAND 3 TIER',\n",
       "            'VINTAGE HEADS AND TAILS CARD GAME'}): 133,\n",
       " frozenset({'FELTCRAFT 6 FLOWER FRIENDS', 'REGENCY CAKESTAND 3 TIER'}): 106,\n",
       " frozenset({'12 PENCIL SMALL TUBE WOODLAND',\n",
       "            '12 PENCILS SMALL TUBE SKULL'}): 123,\n",
       " frozenset({'JUMBO BAG RED RETROSPOT',\n",
       "            'METAL 4 HOOK HANGER FRENCH CHATEAU'}): 156,\n",
       " frozenset({'JUMBO SHOPPER VINTAGE RED PAISLEY',\n",
       "            'METAL 4 HOOK HANGER FRENCH CHATEAU'}): 100,\n",
       " frozenset({'BLACK KITCHEN SCALES', 'IVORY KITCHEN SCALES'}): 109,\n",
       " frozenset({'IVORY KITCHEN SCALES', 'RED KITCHEN SCALES'}): 317,\n",
       " frozenset({'JUMBO BAG RED RETROSPOT', 'RED KITCHEN SCALES'}): 127,\n",
       " frozenset({'IVORY KITCHEN SCALES', 'JUMBO BAG RED RETROSPOT'}): 117,\n",
       " frozenset({'JUMBO BAG PINK VINTAGE PAISLEY', 'JUMBO BAG RED RETROSPOT'}): 533,\n",
       " frozenset({'JUMBO BAG PINK VINTAGE PAISLEY',\n",
       "            'JUMBO SHOPPER VINTAGE RED PAISLEY'}): 429,\n",
       " frozenset({'JUMBO BAG RED RETROSPOT',\n",
       "            'JUMBO SHOPPER VINTAGE RED PAISLEY'}): 697,\n",
       " frozenset({'JUMBO BAG OWLS', 'JUMBO BAG WOODLAND ANIMALS'}): 290,\n",
       " frozenset({'CARD PSYCHEDELIC APPLES', 'RED TOADSTOOL LED NIGHT LIGHT'}): 106,\n",
       " frozenset({'CARD PSYCHEDELIC APPLES', 'JAM MAKING SET WITH JARS'}): 108,\n",
       " frozenset({'CARD PSYCHEDELIC APPLES', 'JAM MAKING SET PRINTED'}): 126,\n",
       " frozenset({'HAND WARMER OWL DESIGN',\n",
       "            'JUMBO SHOPPER VINTAGE RED PAISLEY'}): 100,\n",
       " frozenset({'HAND WARMER OWL DESIGN', 'RED TOADSTOOL LED NIGHT LIGHT'}): 100,\n",
       " frozenset({'HAND WARMER OWL DESIGN', 'REGENCY CAKESTAND 3 TIER'}): 103,\n",
       " frozenset({'PACK OF 6 BIRDY GIFT TAGS', 'REGENCY CAKESTAND 3 TIER'}): 103,\n",
       " frozenset({'JUMBO SHOPPER VINTAGE RED PAISLEY',\n",
       "            'VINTAGE PAISLEY STATIONERY SET'}): 109,\n",
       " frozenset({'JUMBO SHOPPER VINTAGE RED PAISLEY',\n",
       "            'SCANDINAVIAN REDS RIBBONS'}): 110,\n",
       " frozenset({'6 RIBBONS RUSTIC CHARM',\n",
       "            'JUMBO SHOPPER VINTAGE RED PAISLEY'}): 157,\n",
       " frozenset({'JAM MAKING SET WITH JARS',\n",
       "            'JUMBO SHOPPER VINTAGE RED PAISLEY'}): 170,\n",
       " frozenset({'JAM MAKING SET PRINTED',\n",
       "            'JUMBO SHOPPER VINTAGE RED PAISLEY'}): 202,\n",
       " frozenset({'PACK OF 12 LONDON TISSUES',\n",
       "            'RED TOADSTOOL LED NIGHT LIGHT'}): 105,\n",
       " frozenset({'RED TOADSTOOL LED NIGHT LIGHT',\n",
       "            'VINTAGE PAISLEY STATIONERY SET'}): 141,\n",
       " frozenset({'JAM MAKING SET WITH JARS', 'RED TOADSTOOL LED NIGHT LIGHT'}): 183,\n",
       " frozenset({'RED TOADSTOOL LED NIGHT LIGHT', 'REGENCY CAKESTAND 3 TIER'}): 184,\n",
       " frozenset({'6 RIBBONS RUSTIC CHARM', 'PACK OF 12 LONDON TISSUES'}): 109,\n",
       " frozenset({'JAM MAKING SET WITH JARS', 'PACK OF 12 LONDON TISSUES'}): 109,\n",
       " frozenset({'PACK OF 12 LONDON TISSUES', 'REGENCY CAKESTAND 3 TIER'}): 102,\n",
       " frozenset({'6 RIBBONS RUSTIC CHARM', 'VINTAGE PAISLEY STATIONERY SET'}): 127,\n",
       " frozenset({'REGENCY CAKESTAND 3 TIER',\n",
       "            'VINTAGE PAISLEY STATIONERY SET'}): 137,\n",
       " frozenset({'JAM MAKING SET PRINTED', 'VINTAGE PAISLEY STATIONERY SET'}): 175,\n",
       " frozenset({'JAM MAKING SET WITH JARS',\n",
       "            'ROUND SNACK BOXES SET OF4 WOODLAND'}): 127,\n",
       " frozenset({'REGENCY CAKESTAND 3 TIER',\n",
       "            'ROUND SNACK BOXES SET OF4 WOODLAND'}): 186,\n",
       " frozenset({'6 RIBBONS RUSTIC CHARM', 'RIBBON REEL STRIPES DESIGN'}): 151,\n",
       " frozenset({'SCANDINAVIAN REDS RIBBONS',\n",
       "            'TRADITIONAL CHRISTMAS RIBBONS'}): 188,\n",
       " frozenset({'JAM MAKING SET WITH JARS', 'SCANDINAVIAN REDS RIBBONS'}): 115,\n",
       " frozenset({'REGENCY CAKESTAND 3 TIER', 'SCANDINAVIAN REDS RIBBONS'}): 103,\n",
       " frozenset({'6 RIBBONS RUSTIC CHARM', 'TRADITIONAL CHRISTMAS RIBBONS'}): 149,\n",
       " frozenset({'6 RIBBONS RUSTIC CHARM',\n",
       "            'PAPER CHAIN KIT VINTAGE CHRISTMAS'}): 114,\n",
       " frozenset({'6 RIBBONS RUSTIC CHARM', 'JAM MAKING SET WITH JARS'}): 212,\n",
       " frozenset({'6 RIBBONS RUSTIC CHARM', 'REGENCY CAKESTAND 3 TIER'}): 250,\n",
       " frozenset({'PAPER CHAIN KIT VINTAGE CHRISTMAS',\n",
       "            'TRADITIONAL CHRISTMAS RIBBONS'}): 114,\n",
       " frozenset({'PAPER CHAIN KIT VINTAGE CHRISTMAS',\n",
       "            'REGENCY CAKESTAND 3 TIER'}): 167,\n",
       " frozenset({'JAM MAKING SET WITH JARS', 'REGENCY CAKESTAND 3 TIER'}): 299,\n",
       " frozenset({'JAM MAKING SET PRINTED', 'REGENCY CAKESTAND 3 TIER'}): 304,\n",
       " frozenset({'CHILDS BREAKFAST SET DOLLY GIRL',\n",
       "            'CHILDS BREAKFAST SET SPACEBOY'}): 139,\n",
       " frozenset({'REGENCY CAKESTAND 3 TIER',\n",
       "            'ROSES REGENCY TEACUP AND SAUCER'}): 564,\n",
       " frozenset({'JUMBO SHOPPER VINTAGE RED PAISLEY',\n",
       "            'ROSES REGENCY TEACUP AND SAUCER'}): 190,\n",
       " frozenset({'EDWARDIAN PARASOL NATURAL', 'EDWARDIAN PARASOL RED'}): 164,\n",
       " frozenset({'ALARM CLOCK BAKELIKE RED',\n",
       "            \"PAPER CHAIN KIT 50'S CHRISTMAS\"}): 172,\n",
       " frozenset({'ALARM CLOCK BAKELIKE RED',\n",
       "            'PAPER CHAIN KIT VINTAGE CHRISTMAS'}): 144,\n",
       " frozenset({'ALARM CLOCK BAKELIKE GREEN',\n",
       "            \"PAPER CHAIN KIT 50'S CHRISTMAS\"}): 201,\n",
       " frozenset({'ALARM CLOCK BAKELIKE GREEN',\n",
       "            'PAPER CHAIN KIT VINTAGE CHRISTMAS'}): 165,\n",
       " frozenset({'ALARM CLOCK BAKELIKE IVORY',\n",
       "            \"PAPER CHAIN KIT 50'S CHRISTMAS\"}): 113,\n",
       " frozenset({'BOX OF 24 COCKTAIL PARASOLS',\n",
       "            'PLASTERS IN TIN WOODLAND ANIMALS'}): 110,\n",
       " frozenset({'BOX OF 24 COCKTAIL PARASOLS',\n",
       "            'SET/20 RED RETROSPOT PAPER NAPKINS'}): 125,\n",
       " frozenset({'BOX OF 24 COCKTAIL PARASOLS', 'JAM MAKING SET PRINTED'}): 148,\n",
       " frozenset({'60 TEATIME FAIRY CAKE CASES',\n",
       "            'BOX OF 24 COCKTAIL PARASOLS'}): 133,\n",
       " frozenset({'BOX OF 24 COCKTAIL PARASOLS',\n",
       "            'PACK OF 72 SKULL CAKE CASES'}): 146,\n",
       " frozenset({'BOX OF 24 COCKTAIL PARASOLS',\n",
       "            'PACK OF 60 PINK PAISLEY CAKE CASES'}): 119,\n",
       " frozenset({'BOX OF 24 COCKTAIL PARASOLS',\n",
       "            'PACK OF 72 RETROSPOT CAKE CASES'}): 254,\n",
       " frozenset({'BOX OF 24 COCKTAIL PARASOLS',\n",
       "            'RECIPE BOX PANTRY YELLOW DESIGN'}): 158,\n",
       " frozenset({'PLASTERS IN TIN CIRCUS PARADE',\n",
       "            'PLASTERS IN TIN STRONGMAN'}): 258,\n",
       " frozenset({'PLASTERS IN TIN CIRCUS PARADE',\n",
       "            'PLASTERS IN TIN WOODLAND ANIMALS'}): 306,\n",
       " frozenset({'PLASTERS IN TIN CIRCUS PARADE', 'PLASTERS IN TIN SPACEBOY'}): 288,\n",
       " frozenset({'PLASTERS IN TIN STRONGMAN',\n",
       "            'PLASTERS IN TIN WOODLAND ANIMALS'}): 265,\n",
       " frozenset({'PLASTERS IN TIN SKULLS', 'PLASTERS IN TIN STRONGMAN'}): 168,\n",
       " frozenset({'PLASTERS IN TIN SPACEBOY', 'PLASTERS IN TIN STRONGMAN'}): 243,\n",
       " frozenset({'PLASTERS IN TIN STRONGMAN',\n",
       "            'PLASTERS IN TIN VINTAGE PAISLEY'}): 207,\n",
       " frozenset({'JAM MAKING SET PRINTED', 'PLASTERS IN TIN STRONGMAN'}): 101,\n",
       " frozenset({'PACK OF 72 RETROSPOT CAKE CASES',\n",
       "            'PLASTERS IN TIN STRONGMAN'}): 115,\n",
       " frozenset({'PLASTERS IN TIN SKULLS',\n",
       "            'PLASTERS IN TIN WOODLAND ANIMALS'}): 258,\n",
       " frozenset({'PACK OF 12 WOODLAND TISSUES',\n",
       "            'PLASTERS IN TIN WOODLAND ANIMALS'}): 114,\n",
       " frozenset({'PLASTERS IN TIN WOODLAND ANIMALS',\n",
       "            'SET/20 RED RETROSPOT PAPER NAPKINS'}): 114,\n",
       " frozenset({'60 TEATIME FAIRY CAKE CASES',\n",
       "            'PLASTERS IN TIN WOODLAND ANIMALS'}): 118,\n",
       " frozenset({'PACK OF 72 SKULL CAKE CASES',\n",
       "            'PLASTERS IN TIN WOODLAND ANIMALS'}): 113,\n",
       " frozenset({'PLASTERS IN TIN WOODLAND ANIMALS',\n",
       "            'RECIPE BOX PANTRY YELLOW DESIGN'}): 128,\n",
       " frozenset({'PACK OF 12 SKULL TISSUES', 'PLASTERS IN TIN SKULLS'}): 103,\n",
       " frozenset({'JAM MAKING SET PRINTED', 'PLASTERS IN TIN SKULLS'}): 113,\n",
       " frozenset({'60 TEATIME FAIRY CAKE CASES', 'PLASTERS IN TIN SKULLS'}): 112,\n",
       " frozenset({'PACK OF 72 SKULL CAKE CASES', 'PLASTERS IN TIN SKULLS'}): 147,\n",
       " frozenset({'PLASTERS IN TIN SKULLS', 'RECIPE BOX PANTRY YELLOW DESIGN'}): 113,\n",
       " frozenset({'PLASTERS IN TIN SPACEBOY',\n",
       "            'SET/20 RED RETROSPOT PAPER NAPKINS'}): 104,\n",
       " frozenset({'60 TEATIME FAIRY CAKE CASES', 'PLASTERS IN TIN SPACEBOY'}): 103,\n",
       " frozenset({'PACK OF 72 SKULL CAKE CASES', 'PLASTERS IN TIN SPACEBOY'}): 101,\n",
       " frozenset({'PLASTERS IN TIN SPACEBOY',\n",
       "            'RECIPE BOX PANTRY YELLOW DESIGN'}): 113,\n",
       " frozenset({'JAM MAKING SET PRINTED', 'PACK OF 12 TRADITIONAL CRAYONS'}): 125,\n",
       " frozenset({'PACK OF 12 TRADITIONAL CRAYONS',\n",
       "            'PACK OF 72 RETROSPOT CAKE CASES'}): 125,\n",
       " frozenset({'PACK OF 12 TRADITIONAL CRAYONS',\n",
       "            'RECIPE BOX PANTRY YELLOW DESIGN'}): 116,\n",
       " frozenset({'CARD PARTY GAMES', 'JAM MAKING SET PRINTED'}): 116,\n",
       " frozenset({'CARD PARTY GAMES', 'PACK OF 72 RETROSPOT CAKE CASES'}): 100,\n",
       " frozenset({'HAND WARMER SCOTTY DOG DESIGN',\n",
       "            'RECIPE BOX PANTRY YELLOW DESIGN'}): 109,\n",
       " frozenset({'HAND WARMER OWL DESIGN', 'RECIPE BOX PANTRY YELLOW DESIGN'}): 112,\n",
       " frozenset({'HOT WATER BOTTLE TEA AND SYMPATHY',\n",
       "            'JAM MAKING SET PRINTED'}): 102,\n",
       " frozenset({'HOT WATER BOTTLE TEA AND SYMPATHY',\n",
       "            'RECIPE BOX PANTRY YELLOW DESIGN'}): 127,\n",
       " frozenset({'PACK OF 12 SUKI TISSUES', 'PACK OF 12 WOODLAND TISSUES'}): 132,\n",
       " frozenset({'PACK OF 12 SKULL TISSUES', 'PACK OF 12 SUKI TISSUES'}): 122,\n",
       " frozenset({'PACK OF 12 RED RETROSPOT TISSUES',\n",
       "            'PACK OF 12 SUKI TISSUES'}): 107,\n",
       " frozenset({'JAM MAKING SET PRINTED', 'PACK OF 12 SUKI TISSUES'}): 111,\n",
       " frozenset({'PACK OF 12 SUKI TISSUES',\n",
       "            'PACK OF 72 RETROSPOT CAKE CASES'}): 119,\n",
       " frozenset({'PACK OF 12 SUKI TISSUES',\n",
       "            'RECIPE BOX PANTRY YELLOW DESIGN'}): 111,\n",
       " frozenset({'PACK OF 12 WOODLAND TISSUES',\n",
       "            'PACK OF 72 RETROSPOT CAKE CASES'}): 101,\n",
       " frozenset({'60 TEATIME FAIRY CAKE CASES',\n",
       "            'PLASTERS IN TIN VINTAGE PAISLEY'}): 106,\n",
       " frozenset({'PLASTERS IN TIN VINTAGE PAISLEY',\n",
       "            'RECIPE BOX PANTRY YELLOW DESIGN'}): 128,\n",
       " frozenset({'GINGERBREAD MAN COOKIE CUTTER',\n",
       "            'SET/20 RED RETROSPOT PAPER NAPKINS'}): 109,\n",
       " frozenset({'60 TEATIME FAIRY CAKE CASES',\n",
       "            'SET/20 RED RETROSPOT PAPER NAPKINS'}): 175,\n",
       " frozenset({'72 SWEETHEART FAIRY CAKE CASES',\n",
       "            'SET/20 RED RETROSPOT PAPER NAPKINS'}): 133,\n",
       " frozenset({'PACK OF 72 SKULL CAKE CASES',\n",
       "            'SET/20 RED RETROSPOT PAPER NAPKINS'}): 135,\n",
       " frozenset({'PACK OF 60 PINK PAISLEY CAKE CASES',\n",
       "            'SET/20 RED RETROSPOT PAPER NAPKINS'}): 179,\n",
       " ...}"
      ]
     },
     "execution_count": 16,
     "metadata": {},
     "output_type": "execute_result"
    }
   ],
   "source": [
    "naive_result = L2\n",
    "naive_result"
   ]
  },
  {
   "cell_type": "markdown",
   "metadata": {
    "slideshow": {
     "slide_type": "slide"
    }
   },
   "source": [
    "### Generate rules A -> B to find interesting associations."
   ]
  },
  {
   "cell_type": "code",
   "execution_count": 17,
   "metadata": {
    "slideshow": {
     "slide_type": "fragment"
    }
   },
   "outputs": [],
   "source": [
    "L2 = [elem for elem in list(L2) if len(elem) > 1]  # clean our the list a bit."
   ]
  },
  {
   "cell_type": "code",
   "execution_count": 18,
   "metadata": {
    "slideshow": {
     "slide_type": "fragment"
    }
   },
   "outputs": [
    {
     "name": "stdout",
     "output_type": "stream",
     "text": [
      "POPPY'S PLAYHOUSE KITCHEN --> POPPY'S PLAYHOUSE BEDROOM with interest 0.724638\n",
      "JAM JAR WITH GREEN LID --> JAM JAR WITH PINK LID with interest 0.721823\n",
      "SET/6 RED SPOTTY PAPER CUPS --> SET/6 RED SPOTTY PAPER PLATES with interest 0.809709\n",
      "KITCHEN METAL SIGN --> BATHROOM METAL SIGN with interest 0.764221\n",
      "TOILET METAL SIGN --> BATHROOM METAL SIGN with interest 0.762220\n",
      "CHRISTMAS GINGHAM TREE --> CHRISTMAS GINGHAM STAR with interest 0.729953\n",
      "HERB MARKER ROSEMARY --> HERB MARKER MINT with interest 0.938725\n",
      "HERB MARKER MINT --> HERB MARKER BASIL with interest 0.914248\n",
      "HERB MARKER MINT --> HERB MARKER CHIVES with interest 0.846943\n",
      "HERB MARKER PARSLEY --> HERB MARKER MINT with interest 0.946400\n",
      "HERB MARKER MINT --> HERB MARKER THYME with interest 0.906330\n",
      "HERB MARKER ROSEMARY --> HERB MARKER BASIL with interest 0.946684\n",
      "HERB MARKER ROSEMARY --> HERB MARKER CHIVES with interest 0.839493\n",
      "HERB MARKER ROSEMARY --> HERB MARKER PARSLEY with interest 0.946794\n",
      "HERB MARKER ROSEMARY --> HERB MARKER THYME with interest 0.962895\n",
      "HERB MARKER CHIVES --> HERB MARKER BASIL with interest 0.926046\n",
      "HERB MARKER PARSLEY --> HERB MARKER BASIL with interest 0.938229\n",
      "HERB MARKER BASIL --> HERB MARKER THYME with interest 0.911007\n",
      "HERB MARKER PARSLEY --> HERB MARKER CHIVES with interest 0.862549\n",
      "HERB MARKER CHIVES --> HERB MARKER THYME with interest 0.958600\n",
      "HERB MARKER PARSLEY --> HERB MARKER THYME with interest 0.942424\n",
      "CHRISTMAS TREE HEART DECORATION --> CHRISTMAS TREE STAR DECORATION with interest 0.758993\n",
      "COFFEE MUG DOG + BALL DESIGN --> COFFEE MUG CAT + BIRD DESIGN with interest 0.799886\n",
      "ROSES REGENCY TEACUP AND SAUCER --> GREEN REGENCY TEACUP AND SAUCER with interest 0.716927\n",
      "METAL SIGN CUPCAKE SINGLE HOOK --> \"METAL SIGN,CUPCAKE SINGLE HOOK\" with interest 1.442590\n",
      "WOODEN STAR CHRISTMAS SCANDINAVIAN --> WOODEN HEART CHRISTMAS SCANDINAVIAN with interest 0.785246\n",
      "WOODEN TREE CHRISTMAS SCANDINAVIAN --> WOODEN HEART CHRISTMAS SCANDINAVIAN with interest 0.774510\n",
      "WOODEN TREE CHRISTMAS SCANDINAVIAN --> WOODEN STAR CHRISTMAS SCANDINAVIAN with interest 0.872180\n",
      "PIN CUSHION BABUSHKA PINK --> SUKI  SHOULDER BAG with interest 0.759964\n",
      "RIBBON REEL SOCKS AND MITTENS --> RIBBON REEL CHRISTMAS SOCK BAUBLE with interest 0.711450\n",
      "POPPY'S PLAYHOUSE LIVINGROOM --> POPPY'S PLAYHOUSE BEDROOM with interest 0.816897\n",
      "POPPY'S PLAYHOUSE BATHROOM --> POPPY'S PLAYHOUSE BEDROOM with interest 0.842431\n",
      "POPPY'S PLAYHOUSE LIVINGROOM --> POPPY'S PLAYHOUSE KITCHEN with interest 0.804409\n",
      "POPPY'S PLAYHOUSE BATHROOM --> POPPY'S PLAYHOUSE KITCHEN with interest 0.863341\n",
      "WOOD STAMP SET HAPPY BIRTHDAY --> WOOD STAMP SET THANK YOU with interest 0.788172\n",
      "PACK OF 6 SKULL PAPER PLATES --> PACK OF 6 SKULL PAPER CUPS with interest 0.731955\n",
      "PACK OF 6 SKULL PAPER PLATES --> PACK OF 20 SKULL PAPER NAPKINS with interest 0.715703\n",
      "SMALL CHOCOLATES PINK BOWL --> SMALL DOLLY MIX DESIGN ORANGE BOWL with interest 0.844040\n",
      "PINK REGENCY TEACUP AND SAUCER --> GREEN REGENCY TEACUP AND SAUCER with interest 1.052013\n",
      "PINK REGENCY TEACUP AND SAUCER --> ROSES REGENCY TEACUP AND SAUCER with interest 0.794346\n",
      "SMALL MARSHMALLOWS PINK BOWL --> SMALL DOLLY MIX DESIGN ORANGE BOWL with interest 0.824868\n",
      "SMALL CHOCOLATES PINK BOWL --> SMALL MARSHMALLOWS PINK BOWL with interest 0.847038\n",
      "COFFEE MUG PEARS  DESIGN --> COFFEE MUG APPLES DESIGN with interest 0.754997\n",
      "SET/6 COLLAGE PAPER CUPS --> SET/6 COLLAGE PAPER PLATES with interest 0.894551\n",
      "FELTCRAFT GIRL NICOLE KIT --> FELTCRAFT GIRL AMELIE KIT with interest 0.739472\n",
      "CHILDRENS CUTLERY DOLLY GIRL --> CHILDRENS CUTLERY SPACEBOY with interest 0.764830\n",
      "REGENCY SUGAR BOWL GREEN --> REGENCY MILK JUG PINK with interest 0.727227\n",
      "REGENCY TEA PLATE PINK --> REGENCY TEA PLATE GREEN with interest 0.890578\n",
      "TREASURE TIN BUFFALO BILL --> TREASURE TIN GYMKHANA DESIGN with interest 0.742782\n",
      "SET OF 3 WOODEN SLEIGH DECORATIONS --> SET OF 3 WOODEN HEART DECORATIONS with interest 0.761888\n",
      "SET OF 3 WOODEN TREE DECORATIONS --> SET OF 3 WOODEN HEART DECORATIONS with interest 0.869162\n",
      "SET OF 3 WOODEN STOCKING DECORATION --> SET OF 3 WOODEN HEART DECORATIONS with interest 0.807087\n",
      "SET OF 3 WOODEN TREE DECORATIONS --> SET OF 3 WOODEN SLEIGH DECORATIONS with interest 0.737591\n",
      "SET OF 3 WOODEN STOCKING DECORATION --> SET OF 3 WOODEN SLEIGH DECORATIONS with interest 0.720153\n",
      "SET OF 3 WOODEN STOCKING DECORATION --> SET OF 3 WOODEN TREE DECORATIONS with interest 0.793003\n",
      "PINK VINTAGE SPOT BEAKER --> BLUE VINTAGE SPOT BEAKER with interest 0.789702\n",
      "GREEN VINTAGE SPOT BEAKER --> BLUE VINTAGE SPOT BEAKER with interest 0.707564\n",
      "DOLLY GIRL CHILDRENS CUP --> DOLLY GIRL CHILDRENS BOWL with interest 0.772835\n",
      "RED VINTAGE SPOT BEAKER --> BLUE VINTAGE SPOT BEAKER with interest 0.736873\n",
      "SPACEBOY CHILDRENS BOWL --> SPACEBOY CHILDRENS CUP with interest 0.724530\n",
      "GARAGE KEY FOB --> \"KEY FOB , SHED\" with interest 0.760943\n",
      "SET OF 6 SNACK LOAF BAKING CASES --> SET OF 12 FAIRY CAKE BAKING CASES with interest 0.700140\n",
      " DOLLY GIRL BEAKER --> SPACEBOY BEAKER with interest 0.727897\n",
      "SET 36 COLOUR PENCILS DOLLY GIRL --> SET 36 COLOUR PENCILS SPACEBOY with interest 0.772202\n"
     ]
    }
   ],
   "source": [
    "for i in range(len(L2)):\n",
    "\n",
    "    A, B = list(L2[i])\n",
    "    support_AB = C2[frozenset([A, B])]\n",
    "    support_A = C1[frozenset([A])]\n",
    "    conf_A_leads_to_B = support_AB / support_A\n",
    "\n",
    "    support_B = C1[frozenset([B])]\n",
    "    prob_B = support_B / nbaskets\n",
    "\n",
    "    interest_A_leads_to_B = conf_A_leads_to_B - prob_B\n",
    "\n",
    "    if interest_A_leads_to_B > 0.7:\n",
    "        print(\"{} --> {} with interest {:3f}\".format(A, B,\n",
    "                                                     interest_A_leads_to_B))"
   ]
  },
  {
   "cell_type": "markdown",
   "metadata": {
    "slideshow": {
     "slide_type": "slide"
    }
   },
   "source": [
    "* Read the groceries.csv file *data/groceries.csv\"*\n",
    "* Find the most frequent itemsets for a support threshold of 50, 100 and 200.\n",
    "* Find the interesting associations for thresholds above 0.7 (Note: the number of baskets in this case is the number of lines in the file)"
   ]
  },
  {
   "cell_type": "code",
   "execution_count": 19,
   "metadata": {
    "slideshow": {
     "slide_type": "fragment"
    }
   },
   "outputs": [],
   "source": [
    "import itertools\n",
    "\n",
    "def readdata_hands_on(k, fname=\"data/groceries.csv\"):\n",
    "    \n",
    "    with open(fname, \"rt\", encoding='latin1') as f:\n",
    "        for line in f:\n",
    "            C_k  = line.rstrip().split(',')\n",
    "            for itemset in itertools.combinations(C_k, k):\n",
    "                    yield frozenset(itemset)   "
   ]
  },
  {
   "cell_type": "code",
   "execution_count": 52,
   "metadata": {
    "slideshow": {
     "slide_type": "slide"
    }
   },
   "outputs": [
    {
     "name": "stdout",
     "output_type": "stream",
     "text": [
      "frozenset({'semi-finished bread', 'citrus fruit'})\n",
      "frozenset({'margarine', 'citrus fruit'})\n",
      "frozenset({'ready soups', 'citrus fruit'})\n",
      "frozenset({'semi-finished bread', 'margarine'})\n",
      "frozenset({'ready soups', 'semi-finished bread'})\n",
      "frozenset({'ready soups', 'margarine'})\n",
      "frozenset({'tropical fruit', 'yogurt'})\n",
      "frozenset({'tropical fruit', 'coffee'})\n",
      "frozenset({'coffee', 'yogurt'})\n",
      "frozenset({'pip fruit', 'yogurt'})\n",
      "frozenset({'cream cheese', 'pip fruit'})\n",
      "frozenset({'meat spreads', 'pip fruit'})\n",
      "frozenset({'cream cheese', 'yogurt'})\n",
      "frozenset({'meat spreads', 'yogurt'})\n",
      "frozenset({'cream cheese', 'meat spreads'})\n",
      "frozenset({'whole milk', 'other vegetables'})\n",
      "frozenset({'other vegetables', 'condensed milk'})\n",
      "frozenset({'other vegetables', 'long life bakery product'})\n",
      "frozenset({'whole milk', 'condensed milk'})\n",
      "frozenset({'whole milk', 'long life bakery product'})\n",
      "frozenset({'long life bakery product', 'condensed milk'})\n",
      "frozenset({'whole milk', 'butter'})\n",
      "frozenset({'whole milk', 'yogurt'})\n",
      "frozenset({'whole milk', 'rice'})\n",
      "frozenset({'whole milk', 'abrasive cleaner'})\n",
      "frozenset({'butter', 'yogurt'})\n",
      "frozenset({'butter', 'rice'})\n",
      "frozenset({'butter', 'abrasive cleaner'})\n",
      "frozenset({'rice', 'yogurt'})\n",
      "frozenset({'yogurt', 'abrasive cleaner'})\n",
      "frozenset({'rice', 'abrasive cleaner'})\n",
      "frozenset({'other vegetables', 'UHT-milk'})\n",
      "frozenset({'rolls/buns', 'other vegetables'})\n",
      "frozenset({'bottled beer', 'other vegetables'})\n",
      "frozenset({'other vegetables', 'liquor (appetizer)'})\n",
      "frozenset({'rolls/buns', 'UHT-milk'})\n",
      "frozenset({'bottled beer', 'UHT-milk'})\n",
      "frozenset({'UHT-milk', 'liquor (appetizer)'})\n",
      "frozenset({'rolls/buns', 'bottled beer'})\n",
      "frozenset({'rolls/buns', 'liquor (appetizer)'})\n",
      "frozenset({'bottled beer', 'liquor (appetizer)'})\n",
      "frozenset({'whole milk', 'cereals'})\n",
      "frozenset({'tropical fruit', 'other vegetables'})\n",
      "frozenset({'tropical fruit', 'white bread'})\n",
      "frozenset({'tropical fruit', 'bottled water'})\n",
      "frozenset({'tropical fruit', 'chocolate'})\n",
      "frozenset({'white bread', 'other vegetables'})\n",
      "frozenset({'other vegetables', 'bottled water'})\n",
      "frozenset({'other vegetables', 'chocolate'})\n",
      "frozenset({'white bread', 'bottled water'})\n"
     ]
    }
   ],
   "source": [
    "nitems = 50\n",
    "for C_k in readdata_hands_on(k=2):\n",
    "    print(C_k)\n",
    "    \n",
    "    nitems -= 1\n",
    "    if nitems == 0: \n",
    "        break"
   ]
  },
  {
   "cell_type": "code",
   "execution_count": 21,
   "metadata": {
    "slideshow": {
     "slide_type": "slide"
    }
   },
   "outputs": [],
   "source": [
    "N = 100  # frequency threshold"
   ]
  },
  {
   "cell_type": "code",
   "execution_count": 22,
   "metadata": {
    "slideshow": {
     "slide_type": "fragment"
    }
   },
   "outputs": [
    {
     "name": "stdout",
     "output_type": "stream",
     "text": [
      "4214 items\n"
     ]
    }
   ],
   "source": [
    "# find frequent 1-tuples (individual items)\n",
    "C1 = {}\n",
    "for key in readdata(k=1, report=False):\n",
    "    if key not in C1:\n",
    "        C1[key] = 1\n",
    "    else:\n",
    "        C1[key] += 1    \n",
    "        \n",
    "print(\"{} items\".format(len(C1)))"
   ]
  },
  {
   "cell_type": "code",
   "execution_count": 23,
   "metadata": {
    "slideshow": {
     "slide_type": "fragment"
    }
   },
   "outputs": [
    {
     "name": "stdout",
     "output_type": "stream",
     "text": [
      "1589 items with >100 occurances\n"
     ]
    }
   ],
   "source": [
    "# filter stage\n",
    "L1 = {}\n",
    "for key, count in C1.items():\n",
    "    if count >= N:\n",
    "        L1[key] = count\n",
    "print('{} items with >{} occurances'.format(len(L1), N))"
   ]
  },
  {
   "cell_type": "markdown",
   "metadata": {
    "slideshow": {
     "slide_type": "slide"
    }
   },
   "source": [
    "### A-Priori filtering, first option: Generate all possible tuples of frequent items"
   ]
  },
  {
   "cell_type": "code",
   "execution_count": 24,
   "metadata": {
    "slideshow": {
     "slide_type": "fragment"
    }
   },
   "outputs": [],
   "source": [
    "C2_items = set([a.union(b) for a in L1.keys() for b in L1.keys()]) # List comprehensions in python"
   ]
  },
  {
   "cell_type": "code",
   "execution_count": 25,
   "metadata": {
    "slideshow": {
     "slide_type": "fragment"
    }
   },
   "outputs": [
    {
     "name": "stdout",
     "output_type": "stream",
     "text": [
      "1263255\n"
     ]
    }
   ],
   "source": [
    "print(len(C2_items))"
   ]
  },
  {
   "cell_type": "code",
   "execution_count": 26,
   "metadata": {
    "slideshow": {
     "slide_type": "slide"
    }
   },
   "outputs": [
    {
     "name": "stdout",
     "output_type": "stream",
     "text": [
      "1213538 items\n"
     ]
    }
   ],
   "source": [
    "# find frequent 2-tuples\n",
    "C2 = {}\n",
    "for key in readdata(k=2):\n",
    "    # filter out non-frequent tuples\n",
    "    if key not in C2_items:\n",
    "        continue\n",
    "\n",
    "    # record frequent tuples\n",
    "    if key not in C2:\n",
    "        C2[key] = 1\n",
    "    else:\n",
    "        C2[key] += 1\n",
    "        \n",
    "print(\"{} items\".format(len(C2)))"
   ]
  },
  {
   "cell_type": "markdown",
   "metadata": {
    "slideshow": {
     "slide_type": "fragment"
    }
   },
   "source": [
    "### Previously we generated 3799664 pairs!!!"
   ]
  },
  {
   "cell_type": "code",
   "execution_count": 27,
   "metadata": {
    "slideshow": {
     "slide_type": "fragment"
    }
   },
   "outputs": [
    {
     "name": "stdout",
     "output_type": "stream",
     "text": [
      "A-priori: 8825 items with >100 occurances\n"
     ]
    }
   ],
   "source": [
    "# filter stage\n",
    "L2 = {}\n",
    "for key, count in C2.items():\n",
    "    if count >= N:\n",
    "        L2[key] = count\n",
    "print('A-priori: {} items with >{} occurances'.format(len(L2), N))"
   ]
  },
  {
   "cell_type": "code",
   "execution_count": 28,
   "metadata": {
    "slideshow": {
     "slide_type": "fragment"
    }
   },
   "outputs": [
    {
     "name": "stdout",
     "output_type": "stream",
     "text": [
      "Naive result for >100 : 8826\n"
     ]
    }
   ],
   "source": [
    "print(\"Naive result for >100 : {}\".format(len(naive_result)))"
   ]
  },
  {
   "cell_type": "markdown",
   "metadata": {
    "slideshow": {
     "slide_type": "slide"
    }
   },
   "source": [
    "### A-Priori filtering, option 2: generate all possible subsets and check that they all are frequent"
   ]
  },
  {
   "cell_type": "code",
   "execution_count": 29,
   "metadata": {
    "slideshow": {
     "slide_type": "fragment"
    }
   },
   "outputs": [],
   "source": [
    "L1_items = set(L1.keys())\n",
    "L2_items = set(L2.keys())"
   ]
  },
  {
   "cell_type": "code",
   "execution_count": 30,
   "metadata": {
    "slideshow": {
     "slide_type": "slide"
    }
   },
   "outputs": [
    {
     "name": "stdout",
     "output_type": "stream",
     "text": [
      "Time is running out\n",
      "12266 items\n"
     ]
    }
   ],
   "source": [
    "# SLOW! (too many possible 3-tuples) So let's be smart and use some time constrain.\n",
    "from time import time\n",
    "start = time()\n",
    "PERIOD_OF_TIME = 20 # in seconds\n",
    "\n",
    "# find frequent 3-tuples\n",
    "C3 = {}\n",
    "for key in readdata(k=3):\n",
    "    \n",
    "    # filter out non-frequent tuples\n",
    "    # A-Priori filtering, option 2: generate all possible subsets and check that they all are frequent\n",
    "    non_freq_1 = set([frozenset(x) for x in itertools.combinations(list(key), 1)]) - L1_items\n",
    "    if len(non_freq_1) > 0:\n",
    "        continue\n",
    "\n",
    "    non_freq_2 = set([frozenset(x) for x in itertools.combinations(list(key), 2)]) - L2_items\n",
    "    if len(non_freq_2) > 0:\n",
    "        continue\n",
    "\n",
    "    # record frequent tuples\n",
    "    if key not in C3:\n",
    "        C3[key] = 1\n",
    "    else:\n",
    "        C3[key] += 1\n",
    "    \n",
    "    ################################\n",
    "    # break out of a slow function #\n",
    "    if time() > start + PERIOD_OF_TIME : \n",
    "        print('Time is running out')\n",
    "        break\n",
    "        \n",
    "print(\"{} items\".format(len(C3)))"
   ]
  },
  {
   "cell_type": "code",
   "execution_count": 31,
   "metadata": {
    "slideshow": {
     "slide_type": "slide"
    }
   },
   "outputs": [
    {
     "name": "stdout",
     "output_type": "stream",
     "text": [
      "65 items with >5 occurances\n"
     ]
    }
   ],
   "source": [
    "Ntest = 5\n",
    "\n",
    "# filter stage\n",
    "L3 = {}\n",
    "for key, count in C3.items():\n",
    "    if count >= Ntest:\n",
    "        L3[key] = count\n",
    "print('{} items with >{} occurances'.format(len(L3), Ntest))"
   ]
  },
  {
   "cell_type": "code",
   "execution_count": 32,
   "metadata": {
    "slideshow": {
     "slide_type": "fragment"
    }
   },
   "outputs": [
    {
     "data": {
      "text/plain": [
       "{frozenset({'KNITTED UNION FLAG HOT WATER BOTTLE',\n",
       "            'RED WOOLLY HOTTIE WHITE HEART.',\n",
       "            'WHITE HANGING HEART T-LIGHT HOLDER'}): 5,\n",
       " frozenset({'HAND WARMER OWL DESIGN',\n",
       "            'HAND WARMER RED RETROSPOT',\n",
       "            'HAND WARMER SCOTTY DOG DESIGN'}): 5,\n",
       " frozenset({'CHOCOLATE HOT WATER BOTTLE',\n",
       "            'HAND WARMER SCOTTY DOG DESIGN',\n",
       "            'SCOTTIE DOG HOT WATER BOTTLE'}): 7,\n",
       " frozenset({'HAND WARMER SCOTTY DOG DESIGN',\n",
       "            'HAND WARMER UNION JACK',\n",
       "            'SCOTTIE DOG HOT WATER BOTTLE'}): 6,\n",
       " frozenset({'HAND WARMER SCOTTY DOG DESIGN',\n",
       "            'SCOTTIE DOG HOT WATER BOTTLE'}): 5,\n",
       " frozenset({'HAND WARMER SCOTTY DOG DESIGN',\n",
       "            'JUMBO BAG RED RETROSPOT',\n",
       "            'SCOTTIE DOG HOT WATER BOTTLE'}): 6,\n",
       " frozenset({'HAND WARMER SCOTTY DOG DESIGN', 'JUMBO BAG RED RETROSPOT'}): 7,\n",
       " frozenset({'FELTCRAFT DOLL MOLLY', 'FELTCRAFT PRINCESS CHARLOTTE DOLL'}): 18,\n",
       " frozenset({'FELTCRAFT DOLL MOLLY',\n",
       "            'FELTCRAFT DOLL ROSIE',\n",
       "            'FELTCRAFT PRINCESS CHARLOTTE DOLL'}): 9,\n",
       " frozenset({'FELTCRAFT CHRISTMAS FAIRY',\n",
       "            'FELTCRAFT PRINCESS CHARLOTTE DOLL'}): 9,\n",
       " frozenset({'CHRISTMAS CRAFT LITTLE FRIENDS', 'FELTCRAFT CHRISTMAS FAIRY'}): 5,\n",
       " frozenset({'CHRISTMAS CRAFT LITTLE FRIENDS',\n",
       "            'CHRISTMAS CRAFT TREE TOP ANGEL',\n",
       "            'FELTCRAFT CHRISTMAS FAIRY'}): 8,\n",
       " frozenset({'CHRISTMAS CRAFT TREE TOP ANGEL',\n",
       "            'FELTCRAFT CHRISTMAS FAIRY',\n",
       "            \"PAPER CHAIN KIT 50'S CHRISTMAS\"}): 5,\n",
       " frozenset({'CHRISTMAS CRAFT LITTLE FRIENDS',\n",
       "            'FELTCRAFT CHRISTMAS FAIRY',\n",
       "            \"PAPER CHAIN KIT 50'S CHRISTMAS\"}): 5,\n",
       " frozenset({'6 RIBBONS RUSTIC CHARM',\n",
       "            'JAM MAKING SET PRINTED',\n",
       "            'SET OF 3 NOTEBOOKS IN PARCEL'}): 7,\n",
       " frozenset({'6 RIBBONS RUSTIC CHARM', 'SET OF 3 NOTEBOOKS IN PARCEL'}): 9,\n",
       " frozenset({'6 RIBBONS RUSTIC CHARM',\n",
       "            'LUNCH BAG RED RETROSPOT',\n",
       "            'SET OF 3 NOTEBOOKS IN PARCEL'}): 7,\n",
       " frozenset({'6 RIBBONS RUSTIC CHARM',\n",
       "            'JAM MAKING SET PRINTED',\n",
       "            'SCANDINAVIAN REDS RIBBONS'}): 11,\n",
       " frozenset({'6 RIBBONS RUSTIC CHARM', 'SCANDINAVIAN REDS RIBBONS'}): 18,\n",
       " frozenset({'6 RIBBONS RUSTIC CHARM',\n",
       "            'CHRISTMAS CRAFT TREE TOP ANGEL',\n",
       "            'SCANDINAVIAN REDS RIBBONS'}): 19,\n",
       " frozenset({'6 RIBBONS RUSTIC CHARM',\n",
       "            'CHRISTMAS CRAFT LITTLE FRIENDS',\n",
       "            'SCANDINAVIAN REDS RIBBONS'}): 19,\n",
       " frozenset({'6 RIBBONS RUSTIC CHARM',\n",
       "            'RED TOADSTOOL LED NIGHT LIGHT',\n",
       "            'SCANDINAVIAN REDS RIBBONS'}): 11,\n",
       " frozenset({'6 RIBBONS RUSTIC CHARM',\n",
       "            \"PAPER CHAIN KIT 50'S CHRISTMAS\",\n",
       "            'SCANDINAVIAN REDS RIBBONS'}): 10,\n",
       " frozenset({'6 RIBBONS RUSTIC CHARM',\n",
       "            'LUNCH BAG RED RETROSPOT',\n",
       "            'SCANDINAVIAN REDS RIBBONS'}): 10,\n",
       " frozenset({'6 RIBBONS RUSTIC CHARM',\n",
       "            'CHRISTMAS CRAFT TREE TOP ANGEL',\n",
       "            'JAM MAKING SET PRINTED'}): 7,\n",
       " frozenset({'6 RIBBONS RUSTIC CHARM',\n",
       "            'CHRISTMAS CRAFT LITTLE FRIENDS',\n",
       "            'JAM MAKING SET PRINTED'}): 7,\n",
       " frozenset({'6 RIBBONS RUSTIC CHARM',\n",
       "            'JAM MAKING SET PRINTED',\n",
       "            'RED TOADSTOOL LED NIGHT LIGHT'}): 5,\n",
       " frozenset({'6 RIBBONS RUSTIC CHARM', 'CHRISTMAS CRAFT TREE TOP ANGEL'}): 9,\n",
       " frozenset({'6 RIBBONS RUSTIC CHARM', 'CHRISTMAS CRAFT LITTLE FRIENDS'}): 9,\n",
       " frozenset({'6 RIBBONS RUSTIC CHARM',\n",
       "            'CHRISTMAS CRAFT LITTLE FRIENDS',\n",
       "            'CHRISTMAS CRAFT TREE TOP ANGEL'}): 13,\n",
       " frozenset({'6 RIBBONS RUSTIC CHARM',\n",
       "            'CHRISTMAS CRAFT TREE TOP ANGEL',\n",
       "            \"PAPER CHAIN KIT 50'S CHRISTMAS\"}): 7,\n",
       " frozenset({'6 RIBBONS RUSTIC CHARM',\n",
       "            'CHRISTMAS CRAFT LITTLE FRIENDS',\n",
       "            'RED TOADSTOOL LED NIGHT LIGHT'}): 7,\n",
       " frozenset({'6 RIBBONS RUSTIC CHARM',\n",
       "            'CHRISTMAS CRAFT LITTLE FRIENDS',\n",
       "            \"PAPER CHAIN KIT 50'S CHRISTMAS\"}): 7,\n",
       " frozenset({'6 RIBBONS RUSTIC CHARM',\n",
       "            'CHRISTMAS CRAFT LITTLE FRIENDS',\n",
       "            'LUNCH BAG RED RETROSPOT'}): 7,\n",
       " frozenset({'CHRISTMAS CRAFT TREE TOP ANGEL',\n",
       "            'JAM MAKING SET PRINTED',\n",
       "            'SCANDINAVIAN REDS RIBBONS'}): 6,\n",
       " frozenset({'CHRISTMAS CRAFT LITTLE FRIENDS',\n",
       "            'JAM MAKING SET PRINTED',\n",
       "            'SCANDINAVIAN REDS RIBBONS'}): 6,\n",
       " frozenset({'CHRISTMAS CRAFT TREE TOP ANGEL', 'SCANDINAVIAN REDS RIBBONS'}): 9,\n",
       " frozenset({'CHRISTMAS CRAFT LITTLE FRIENDS', 'SCANDINAVIAN REDS RIBBONS'}): 9,\n",
       " frozenset({'CHRISTMAS CRAFT LITTLE FRIENDS',\n",
       "            'CHRISTMAS CRAFT TREE TOP ANGEL',\n",
       "            'SCANDINAVIAN REDS RIBBONS'}): 12,\n",
       " frozenset({'CHRISTMAS CRAFT TREE TOP ANGEL',\n",
       "            \"PAPER CHAIN KIT 50'S CHRISTMAS\",\n",
       "            'SCANDINAVIAN REDS RIBBONS'}): 7,\n",
       " frozenset({'CHRISTMAS CRAFT LITTLE FRIENDS',\n",
       "            'RED TOADSTOOL LED NIGHT LIGHT',\n",
       "            'SCANDINAVIAN REDS RIBBONS'}): 6,\n",
       " frozenset({'CHRISTMAS CRAFT LITTLE FRIENDS',\n",
       "            \"PAPER CHAIN KIT 50'S CHRISTMAS\",\n",
       "            'SCANDINAVIAN REDS RIBBONS'}): 7,\n",
       " frozenset({'CHRISTMAS CRAFT LITTLE FRIENDS',\n",
       "            'LUNCH BAG RED RETROSPOT',\n",
       "            'SCANDINAVIAN REDS RIBBONS'}): 6,\n",
       " frozenset({'CHRISTMAS CRAFT LITTLE FRIENDS',\n",
       "            'CHRISTMAS CRAFT TREE TOP ANGEL',\n",
       "            \"PAPER CHAIN KIT 50'S CHRISTMAS\"}): 5,\n",
       " frozenset({'HAND WARMER SCOTTY DOG DESIGN',\n",
       "            'JUMBO BAG RED RETROSPOT',\n",
       "            \"PAPER CHAIN KIT 50'S CHRISTMAS\"}): 6,\n",
       " frozenset({'JUMBO BAG RED RETROSPOT',\n",
       "            'PACK OF 72 RETROSPOT CAKE CASES',\n",
       "            'VINTAGE PAISLEY STATIONERY SET'}): 5,\n",
       " frozenset({'PACK OF 72 RETROSPOT CAKE CASES',\n",
       "            \"PAPER CHAIN KIT 50'S CHRISTMAS\",\n",
       "            'VINTAGE PAISLEY STATIONERY SET'}): 5,\n",
       " frozenset({'HAND WARMER SCOTTY DOG DESIGN',\n",
       "            \"PAPER CHAIN KIT 50'S CHRISTMAS\",\n",
       "            'PAPER CHAIN KIT VINTAGE CHRISTMAS'}): 6,\n",
       " frozenset({'60 CAKE CASES VINTAGE CHRISTMAS',\n",
       "            'HAND WARMER SCOTTY DOG DESIGN',\n",
       "            \"PAPER CHAIN KIT 50'S CHRISTMAS\"}): 6,\n",
       " frozenset({'HAND WARMER SCOTTY DOG DESIGN',\n",
       "            \"PAPER CHAIN KIT 50'S CHRISTMAS\"}): 7,\n",
       " frozenset({'PACK OF 60 PINK PAISLEY CAKE CASES',\n",
       "            'PACK OF 72 RETROSPOT CAKE CASES',\n",
       "            'SMALL POPCORN HOLDER'}): 6,\n",
       " frozenset({'PACK OF 60 PINK PAISLEY CAKE CASES',\n",
       "            'PACK OF 72 RETROSPOT CAKE CASES',\n",
       "            'VINTAGE PAISLEY STATIONERY SET'}): 5,\n",
       " frozenset({'PACK OF 72 RETROSPOT CAKE CASES',\n",
       "            'SET OF 3 NOTEBOOKS IN PARCEL',\n",
       "            'VINTAGE PAISLEY STATIONERY SET'}): 5,\n",
       " frozenset({'JAM MAKING SET WITH JARS',\n",
       "            'PACK OF 72 RETROSPOT CAKE CASES',\n",
       "            'VINTAGE PAISLEY STATIONERY SET'}): 5,\n",
       " frozenset({'HAND WARMER SCOTTY DOG DESIGN',\n",
       "            'PAPER CHAIN KIT VINTAGE CHRISTMAS'}): 6,\n",
       " frozenset({'SET/10 BLUE POLKADOT PARTY CANDLES',\n",
       "            'SET/10 PINK POLKADOT PARTY CANDLES',\n",
       "            'SET/10 RED POLKADOT PARTY CANDLES'}): 5,\n",
       " frozenset({'60 CAKE CASES VINTAGE CHRISTMAS',\n",
       "            'HAND WARMER SCOTTY DOG DESIGN'}): 6,\n",
       " frozenset({'CHRISTMAS CRAFT LITTLE FRIENDS',\n",
       "            'ROTATING SILVER ANGELS T-LIGHT HLDR'}): 9,\n",
       " frozenset({'CHRISTMAS CRAFT LITTLE FRIENDS',\n",
       "            'ROTATING SILVER ANGELS T-LIGHT HLDR',\n",
       "            'SET OF 20 VINTAGE CHRISTMAS NAPKINS'}): 6,\n",
       " frozenset({'CHRISTMAS CRAFT LITTLE FRIENDS',\n",
       "            'PAPER CHAIN KIT VINTAGE CHRISTMAS',\n",
       "            'ROTATING SILVER ANGELS T-LIGHT HLDR'}): 6,\n",
       " frozenset({'CHRISTMAS CRAFT LITTLE FRIENDS',\n",
       "            'JAM MAKING SET PRINTED',\n",
       "            'ROTATING SILVER ANGELS T-LIGHT HLDR'}): 6,\n",
       " frozenset({'HAND WARMER OWL DESIGN',\n",
       "            'JUMBO SHOPPER VINTAGE RED PAISLEY',\n",
       "            'RED TOADSTOOL LED NIGHT LIGHT'}): 6,\n",
       " frozenset({'HAND WARMER OWL DESIGN', 'JUMBO SHOPPER VINTAGE RED PAISLEY'}): 9,\n",
       " frozenset({'HAND WARMER OWL DESIGN',\n",
       "            'JUMBO SHOPPER VINTAGE RED PAISLEY',\n",
       "            'REGENCY CAKESTAND 3 TIER'}): 6,\n",
       " frozenset({'HAND WARMER OWL DESIGN',\n",
       "            'JAM MAKING SET PRINTED',\n",
       "            'JUMBO SHOPPER VINTAGE RED PAISLEY'}): 6}"
      ]
     },
     "execution_count": 32,
     "metadata": {},
     "output_type": "execute_result"
    }
   ],
   "source": [
    "L3"
   ]
  },
  {
   "cell_type": "code",
   "execution_count": 33,
   "metadata": {
    "slideshow": {
     "slide_type": "slide"
    }
   },
   "outputs": [],
   "source": [
    "import numpy as np\n",
    "\n",
    "N = 100  # frequency threshold"
   ]
  },
  {
   "cell_type": "code",
   "execution_count": 34,
   "metadata": {
    "slideshow": {
     "slide_type": "fragment"
    }
   },
   "outputs": [],
   "source": [
    "# Let's create a hash table (this could take quite a long time!)\n",
    "max_hash1 = 10 * 1000000\n",
    "H1 = np.zeros((max_hash1, ), dtype=np.int32)\n",
    "\n",
    "for key in readdata(k=2, report=False):\n",
    "    hash_cell_1 = hash(key) % max_hash1\n",
    "    H1[hash_cell_1] += 1"
   ]
  },
  {
   "cell_type": "code",
   "execution_count": 35,
   "metadata": {
    "slideshow": {
     "slide_type": "fragment"
    }
   },
   "outputs": [],
   "source": [
    "C2_items = set([a.union(b) for a in L1.keys() for b in L1.keys()]) # List comprehensions in python"
   ]
  },
  {
   "cell_type": "code",
   "execution_count": 36,
   "metadata": {
    "slideshow": {
     "slide_type": "slide"
    }
   },
   "outputs": [
    {
     "name": "stdout",
     "output_type": "stream",
     "text": [
      "CPU times: user 2 µs, sys: 0 ns, total: 2 µs\n",
      "Wall time: 6.2 µs\n",
      "12145 items\n"
     ]
    }
   ],
   "source": [
    "# find frequent 2-tuples (this could take quite a long time!)\n",
    "%time\n",
    "C2 = {}\n",
    "N = 100\n",
    "for key in readdata(k=2):\n",
    "    # hash-based filtering stage from PCY\n",
    "    hash_cell_1 = hash(key) % max_hash1\n",
    "    if H1[hash_cell_1] < N:\n",
    "        continue\n",
    "\n",
    "    # filter out non-frequent tuples\n",
    "    if key not in C2_items:\n",
    "        continue\n",
    "\n",
    "    # record frequent tuples\n",
    "    if key not in C2:\n",
    "        C2[key] = 1\n",
    "    else:\n",
    "        C2[key] += 1\n",
    "        \n",
    "print(\"{} items\".format(len(C2)))"
   ]
  },
  {
   "cell_type": "code",
   "execution_count": 37,
   "metadata": {
    "slideshow": {
     "slide_type": "fragment"
    }
   },
   "outputs": [
    {
     "name": "stdout",
     "output_type": "stream",
     "text": [
      "8825 items with >100 occurances\n"
     ]
    }
   ],
   "source": [
    "# filter stage\n",
    "L2 = {}\n",
    "for key, count in C2.items():\n",
    "    if count >= N:\n",
    "        L2[key] = count\n",
    "print('{} items with >{} occurances'.format(len(L2), N))"
   ]
  },
  {
   "cell_type": "markdown",
   "metadata": {
    "slideshow": {
     "slide_type": "slide"
    }
   },
   "source": [
    "#### Using compacted hash table indexes - takes less memory!"
   ]
  },
  {
   "cell_type": "code",
   "execution_count": 38,
   "metadata": {
    "slideshow": {
     "slide_type": "slide"
    }
   },
   "outputs": [],
   "source": [
    "# hash table\n",
    "max_hash1 = 10*1000000\n",
    "H1 = np.zeros((max_hash1,), dtype=np.int32)\n",
    "for key in readdata(k=2, report=False):\n",
    "    hash_cell_1 = hash(key) % max_hash1\n",
    "    H1[hash_cell_1] += 1"
   ]
  },
  {
   "cell_type": "code",
   "execution_count": 39,
   "metadata": {
    "slideshow": {
     "slide_type": "slide"
    }
   },
   "outputs": [],
   "source": [
    "# compact hash table\n",
    "H_good_1 = set(np.where(H1 >= N)[0])\n",
    "\n",
    "del H1"
   ]
  },
  {
   "cell_type": "code",
   "execution_count": 40,
   "metadata": {
    "slideshow": {
     "slide_type": "slide"
    }
   },
   "outputs": [
    {
     "name": "stdout",
     "output_type": "stream",
     "text": [
      "12145 items\n"
     ]
    }
   ],
   "source": [
    "# find frequent 2-tuples\n",
    "C2 = {}\n",
    "for key in readdata(k=2):\n",
    "    # hash-based filtering stage from PCY\n",
    "    hash_cell_1 = hash(key) % max_hash1\n",
    "    if hash_cell_1 not in H_good_1:\n",
    "        continue\n",
    "\n",
    "    # filter out non-frequent tuples\n",
    "    if key not in C2_items:\n",
    "        continue\n",
    "\n",
    "    # record frequent tuples\n",
    "    if key not in C2:\n",
    "        C2[key] = 1\n",
    "    else:\n",
    "        C2[key] += 1\n",
    "        \n",
    "print(\"{} items\".format(len(C2)))"
   ]
  },
  {
   "cell_type": "code",
   "execution_count": 41,
   "metadata": {
    "slideshow": {
     "slide_type": "fragment"
    }
   },
   "outputs": [
    {
     "name": "stdout",
     "output_type": "stream",
     "text": [
      "8825 items with >100 occurances\n"
     ]
    }
   ],
   "source": [
    "# filter stage\n",
    "L2 = {}\n",
    "for key, count in C2.items():\n",
    "    if count >= N:\n",
    "        L2[key] = count\n",
    "print('{} items with >{} occurances'.format(len(L2), N))"
   ]
  },
  {
   "cell_type": "markdown",
   "metadata": {
    "slideshow": {
     "slide_type": "slide"
    }
   },
   "source": [
    "## Multihash:\n",
    "Using several hash tables that take same memory together - better filtering!"
   ]
  },
  {
   "cell_type": "code",
   "execution_count": 42,
   "metadata": {
    "slideshow": {
     "slide_type": "slide"
    }
   },
   "outputs": [],
   "source": [
    "# hash table\n",
    "max_hash1 = 5*1000000-673\n",
    "max_hash2 = 5*1000000+673\n",
    "\n",
    "H1 = np.zeros((max_hash1,), dtype=np.int32)\n",
    "H2 = np.zeros((max_hash2,), dtype=np.int32)\n",
    "for key in readdata(k=2, report=False):\n",
    "    hash_cell_1 = hash(key) % max_hash1\n",
    "    H1[hash_cell_1] += 1\n",
    "    hash_cell_2 = hash(key) % max_hash2\n",
    "    H2[hash_cell_2] += 1"
   ]
  },
  {
   "cell_type": "code",
   "execution_count": 43,
   "metadata": {
    "slideshow": {
     "slide_type": "slide"
    }
   },
   "outputs": [],
   "source": [
    "# compact hash table\n",
    "H_good_1 = set(np.where(H1 >= N)[0])\n",
    "H_good_2 = set(np.where(H2 >= N)[0])\n",
    "\n",
    "del H1\n",
    "del H2"
   ]
  },
  {
   "cell_type": "code",
   "execution_count": 44,
   "metadata": {
    "slideshow": {
     "slide_type": "slide"
    }
   },
   "outputs": [
    {
     "name": "stdout",
     "output_type": "stream",
     "text": [
      "9302 items\n"
     ]
    }
   ],
   "source": [
    "# find frequent 2-tuples\n",
    "C2 = {}\n",
    "for key in readdata(k=2):\n",
    "    # hash-based filtering stage from PCY\n",
    "    hash_cell_1 = hash(key) % max_hash1\n",
    "    if hash_cell_1 not in H_good_1:\n",
    "        continue\n",
    "\n",
    "    hash_cell_2 = hash(key) % max_hash2\n",
    "    if hash_cell_2 not in H_good_2:\n",
    "        continue\n",
    "\n",
    "\n",
    "    # filter out non-frequent tuples\n",
    "    if key not in C2_items:\n",
    "        continue\n",
    "\n",
    "    # record frequent tuples\n",
    "    if key not in C2:\n",
    "        C2[key] = 1\n",
    "    else:\n",
    "        C2[key] += 1\n",
    "        \n",
    "print(\"{} items\".format(len(C2)))"
   ]
  },
  {
   "cell_type": "code",
   "execution_count": 45,
   "metadata": {
    "slideshow": {
     "slide_type": "slide"
    }
   },
   "outputs": [
    {
     "name": "stdout",
     "output_type": "stream",
     "text": [
      "8825 items with >100 occurances\n"
     ]
    }
   ],
   "source": [
    "# filter stage\n",
    "L2 = {}\n",
    "for key, count in C2.items():\n",
    "    if count >= N:\n",
    "        L2[key] = count\n",
    "print('{} items with >{} occurances'.format(len(L2), N))"
   ]
  },
  {
   "cell_type": "code",
   "execution_count": 46,
   "metadata": {},
   "outputs": [],
   "source": [
    "import numpy as np\n",
    "\n",
    "\n",
    "def readdata_random(k, fname=\"data/groceries.csv\", rfactor = 1.0):\n",
    "    \n",
    "    with open(fname, \"rt\", encoding='latin1') as f:\n",
    "        for line in f:\n",
    "            if rfactor > np.random.uniform():\n",
    "                C_k  = line.rstrip().split(',')\n",
    "                for itemset in itertools.combinations(C_k, k):\n",
    "                        yield frozenset(itemset)   \n",
    "    "
   ]
  },
  {
   "cell_type": "code",
   "execution_count": 47,
   "metadata": {},
   "outputs": [
    {
     "name": "stdout",
     "output_type": "stream",
     "text": [
      "frozenset({'pip fruit', 'yogurt'})\n",
      "frozenset({'cream cheese', 'pip fruit'})\n",
      "frozenset({'meat spreads', 'pip fruit'})\n",
      "frozenset({'cream cheese', 'yogurt'})\n",
      "frozenset({'meat spreads', 'yogurt'})\n",
      "frozenset({'cream cheese', 'meat spreads'})\n",
      "frozenset({'whole milk', 'butter'})\n",
      "frozenset({'whole milk', 'yogurt'})\n",
      "frozenset({'whole milk', 'rice'})\n",
      "frozenset({'whole milk', 'abrasive cleaner'})\n",
      "frozenset({'butter', 'yogurt'})\n",
      "frozenset({'butter', 'rice'})\n",
      "frozenset({'butter', 'abrasive cleaner'})\n",
      "frozenset({'rice', 'yogurt'})\n",
      "frozenset({'yogurt', 'abrasive cleaner'})\n",
      "frozenset({'rice', 'abrasive cleaner'})\n",
      "frozenset({'other vegetables', 'UHT-milk'})\n",
      "frozenset({'rolls/buns', 'other vegetables'})\n",
      "frozenset({'bottled beer', 'other vegetables'})\n",
      "frozenset({'other vegetables', 'liquor (appetizer)'})\n"
     ]
    }
   ],
   "source": [
    "nitems = 20\n",
    "for C_k in readdata_random(k=2, rfactor=0.5):\n",
    "    print(C_k)\n",
    "    \n",
    "    nitems -= 1\n",
    "    if nitems == 0: \n",
    "        break"
   ]
  },
  {
   "cell_type": "code",
   "execution_count": 48,
   "metadata": {},
   "outputs": [
    {
     "name": "stdout",
     "output_type": "stream",
     "text": [
      "Took 0.03942441940307617s for k=1\n",
      "Took 0.06648445129394531s for k=2\n"
     ]
    }
   ],
   "source": [
    "import time\n",
    "\n",
    "rfactor = 0.7      # sampling\n",
    "\n",
    "def get_C(k):\n",
    "\n",
    "    start = time.time()\n",
    "    C = {}\n",
    "    for key in readdata_random(k,rfactor=rfactor):  # False report\n",
    "        if key not in C:\n",
    "            C[key] = 1\n",
    "        else:\n",
    "            C[key] += 1\n",
    "    print(\"Took {}s for k={}\".format((time.time() - start), k))\n",
    "    return C\n",
    "\n",
    "\n",
    "c1 = get_C(1)\n",
    "c2 = get_C(2)"
   ]
  },
  {
   "cell_type": "code",
   "execution_count": 49,
   "metadata": {
    "slideshow": {
     "slide_type": "fragment"
    }
   },
   "outputs": [
    {
     "name": "stdout",
     "output_type": "stream",
     "text": [
      "166 7895\n"
     ]
    }
   ],
   "source": [
    "print(len(c1),len(c2))"
   ]
  },
  {
   "cell_type": "code",
   "execution_count": 50,
   "metadata": {
    "slideshow": {
     "slide_type": "slide"
    }
   },
   "outputs": [
    {
     "name": "stdout",
     "output_type": "stream",
     "text": [
      "frozenset({'whole milk', 'other vegetables'}) 373\n",
      "frozenset({'other vegetables', 'condensed milk'}) 11\n",
      "frozenset({'other vegetables', 'long life bakery product'}) 65\n",
      "frozenset({'whole milk', 'condensed milk'}) 11\n",
      "frozenset({'whole milk', 'long life bakery product'}) 77\n",
      "frozenset({'long life bakery product', 'condensed milk'}) 4\n",
      "frozenset({'whole milk', 'cereals'}) 14\n",
      "frozenset({'tropical fruit', 'other vegetables'}) 192\n",
      "frozenset({'tropical fruit', 'white bread'}) 38\n",
      "frozenset({'tropical fruit', 'bottled water'}) 98\n"
     ]
    }
   ],
   "source": [
    "nitems = 10\n",
    "for ck,n in c2.items():\n",
    "    print(ck, n)\n",
    "    nitems -= 1\n",
    "    if nitems == 0: break"
   ]
  },
  {
   "cell_type": "code",
   "execution_count": 51,
   "metadata": {
    "slideshow": {
     "slide_type": "slide"
    }
   },
   "outputs": [
    {
     "name": "stdout",
     "output_type": "stream",
     "text": [
      "CPU times: user 3 µs, sys: 0 ns, total: 3 µs\n",
      "Wall time: 7.15 µs\n",
      "212 items with >100 occurances\n"
     ]
    }
   ],
   "source": [
    "%time\n",
    "s = 100 # support threshold\n",
    "l2 = {}\n",
    "for key, n in c2.items():\n",
    "    if n >= s * rfactor:\n",
    "        l2[key] = n\n",
    "print('{} items with >{} occurances'.format(len(l2), s))"
   ]
  },
  {
   "cell_type": "code",
   "execution_count": null,
   "metadata": {},
   "outputs": [],
   "source": []
  }
 ],
 "metadata": {
  "celltoolbar": "Slideshow",
  "kernelspec": {
   "display_name": "Python 3 (ipykernel)",
   "language": "python",
   "name": "python3"
  },
  "language_info": {
   "codemirror_mode": {
    "name": "ipython",
    "version": 3
   },
   "file_extension": ".py",
   "mimetype": "text/x-python",
   "name": "python",
   "nbconvert_exporter": "python",
   "pygments_lexer": "ipython3",
   "version": "3.10.6"
  },
  "latex_metadata": {
   "author": "Leonardo Espinosa",
   "title": "MLDP: Descriptive Analytics"
  },
  "livereveal": {
   "overlay": "<div class='myheader'><h2 class='headertekst'>Machine Learning for Descriptive Problems. Big Data Analytics Specialization <img src='images/00_arcada.png' width='200' height='50'></img></h2><h3 ><a href='#/13/1'>(index)</a></h3></div>",
   "progress": true,
   "scroll": true,
   "theme": "serif",
   "transition": "simple"
  }
 },
 "nbformat": 4,
 "nbformat_minor": 4
}
